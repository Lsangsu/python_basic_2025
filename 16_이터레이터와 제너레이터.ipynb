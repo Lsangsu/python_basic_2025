{
 "cells": [
  {
   "cell_type": "markdown",
   "id": "419f2aac-0506-48af-bc9a-9e292f446a0c",
   "metadata": {},
   "source": [
    "# 16 이터레이터와 제너레이터"
   ]
  },
  {
   "cell_type": "markdown",
   "id": "c0baa228-f66e-4bc7-9c85-58663fdd0d24",
   "metadata": {},
   "source": [
    "## 이터레이터"
   ]
  },
  {
   "cell_type": "code",
   "execution_count": 3,
   "id": "46d5ca4c-7239-4649-917e-aea3e3322c12",
   "metadata": {},
   "outputs": [
    {
     "ename": "TypeError",
     "evalue": "'list' object is not an iterator",
     "output_type": "error",
     "traceback": [
      "\u001b[1;31m---------------------------------------------------------------------------\u001b[0m",
      "\u001b[1;31mTypeError\u001b[0m                                 Traceback (most recent call last)",
      "Cell \u001b[1;32mIn[3], line 3\u001b[0m\n\u001b[0;32m      1\u001b[0m a \u001b[38;5;241m=\u001b[39m [\u001b[38;5;241m1\u001b[39m, \u001b[38;5;241m2\u001b[39m, \u001b[38;5;241m3\u001b[39m]   \u001b[38;5;66;03m# list는 이터레이터 객체가 아님\u001b[39;00m\n\u001b[1;32m----> 3\u001b[0m \u001b[38;5;28mprint\u001b[39m(\u001b[38;5;28mnext\u001b[39m(a))\n",
      "\u001b[1;31mTypeError\u001b[0m: 'list' object is not an iterator"
     ]
    }
   ],
   "source": [
    "a = [1, 2, 3]   # list는 이터레이터 객체가 아님\n",
    "\n",
    "print(next(a))"
   ]
  },
  {
   "cell_type": "code",
   "execution_count": 4,
   "id": "c068e584-edb8-463f-bf6f-d6493d459ba0",
   "metadata": {},
   "outputs": [
    {
     "name": "stdout",
     "output_type": "stream",
     "text": [
      "<class 'list_iterator'>\n",
      "1\n",
      "2\n",
      "3\n"
     ]
    },
    {
     "ename": "StopIteration",
     "evalue": "",
     "output_type": "error",
     "traceback": [
      "\u001b[1;31m---------------------------------------------------------------------------\u001b[0m",
      "\u001b[1;31mStopIteration\u001b[0m                             Traceback (most recent call last)",
      "Cell \u001b[1;32mIn[4], line 10\u001b[0m\n\u001b[0;32m      8\u001b[0m \u001b[38;5;28mprint\u001b[39m(\u001b[38;5;28mnext\u001b[39m(ia))\n\u001b[0;32m      9\u001b[0m \u001b[38;5;28mprint\u001b[39m(\u001b[38;5;28mnext\u001b[39m(ia))\n\u001b[1;32m---> 10\u001b[0m \u001b[38;5;28mprint\u001b[39m(\u001b[38;5;28mnext\u001b[39m(ia))\n",
      "\u001b[1;31mStopIteration\u001b[0m: "
     ]
    }
   ],
   "source": [
    "# 리스트를 iter()(이터레이터 함수)로 이터레이터 객체로 변환\n",
    "\n",
    "a = [1, 2, 3]\n",
    "ia = iter(a)\n",
    "\n",
    "print(type(ia))\n",
    "print(next(ia))\n",
    "print(next(ia))\n",
    "print(next(ia))\n",
    "print(next(ia))    # 더는 반환할 값이 없기 때문에 StopIteration 오류 발생"
   ]
  },
  {
   "cell_type": "code",
   "execution_count": 10,
   "id": "d65e1ee6-73e1-497c-9b1b-4b4388b675fb",
   "metadata": {},
   "outputs": [
    {
     "name": "stdout",
     "output_type": "stream",
     "text": [
      "1\n",
      "2\n",
      "3\n",
      "================================\n"
     ]
    }
   ],
   "source": [
    "# 이터레이터의 값을 가져오는 일반적인 방법(for문)\n",
    "\n",
    "a = [1, 2, 3]\n",
    "ia = iter(a)\n",
    "\n",
    "for i in ia:\n",
    "    print(i)\n",
    "\n",
    "print('================================')\n",
    "\n",
    "for i in ia:   # 이터레이터 객체는 for문이나 next()로 그 값을 한번 읽으면 다시 읽을 수 없음\n",
    "    print(i)"
   ]
  },
  {
   "cell_type": "markdown",
   "id": "86c4fcf0-b898-4fca-9403-e3f8dcb5667c",
   "metadata": {},
   "source": [
    "## 제너레이터"
   ]
  },
  {
   "cell_type": "code",
   "execution_count": 18,
   "id": "d87cc808-2104-4961-8815-ba8eb74670cf",
   "metadata": {},
   "outputs": [],
   "source": [
    "# 가장 간단한 제너레이터\n",
    "\n",
    "def mygen():\n",
    "    yield 'a'\n",
    "    yield 'b'\n",
    "    yield 'c'\n",
    "\n",
    "g = mygen()"
   ]
  },
  {
   "cell_type": "code",
   "execution_count": 19,
   "id": "bf80a3fd-f882-4ddc-9b9b-097c83925a1a",
   "metadata": {},
   "outputs": [
    {
     "data": {
      "text/plain": [
       "generator"
      ]
     },
     "execution_count": 19,
     "metadata": {},
     "output_type": "execute_result"
    }
   ],
   "source": [
    "type(g)"
   ]
  },
  {
   "cell_type": "code",
   "execution_count": 20,
   "id": "823fe9f0-7ae0-43e5-b0fd-acb8fcc5da82",
   "metadata": {},
   "outputs": [
    {
     "name": "stdout",
     "output_type": "stream",
     "text": [
      "a\n",
      "b\n",
      "c\n"
     ]
    },
    {
     "ename": "StopIteration",
     "evalue": "",
     "output_type": "error",
     "traceback": [
      "\u001b[1;31m---------------------------------------------------------------------------\u001b[0m",
      "\u001b[1;31mStopIteration\u001b[0m                             Traceback (most recent call last)",
      "Cell \u001b[1;32mIn[20], line 4\u001b[0m\n\u001b[0;32m      2\u001b[0m \u001b[38;5;28mprint\u001b[39m(\u001b[38;5;28mnext\u001b[39m(g))\n\u001b[0;32m      3\u001b[0m \u001b[38;5;28mprint\u001b[39m(\u001b[38;5;28mnext\u001b[39m(g))\n\u001b[1;32m----> 4\u001b[0m \u001b[38;5;28mprint\u001b[39m(\u001b[38;5;28mnext\u001b[39m(g))\n",
      "\u001b[1;31mStopIteration\u001b[0m: "
     ]
    }
   ],
   "source": [
    "print(next(g))\n",
    "print(next(g))\n",
    "print(next(g))\n",
    "print(next(g))    # 더는 반환할 값이 없기 때문에 StopIteration 오류 발생"
   ]
  },
  {
   "cell_type": "markdown",
   "id": "0ccccd45-4ef2-4df2-a7ee-ad569fcbed23",
   "metadata": {},
   "source": [
    "### 제너레이터 표현식"
   ]
  },
  {
   "cell_type": "code",
   "execution_count": 21,
   "id": "4b86c532-61b8-4b39-bffa-234e4eee4bc2",
   "metadata": {},
   "outputs": [
    {
     "name": "stdout",
     "output_type": "stream",
     "text": [
      "1\n",
      "4\n",
      "9\n",
      "16\n"
     ]
    }
   ],
   "source": [
    "def mygen():\n",
    "    for i in range(1, 10):\n",
    "        result = i * i\n",
    "        yield result\n",
    "\n",
    "gen = mygen()\n",
    "\n",
    "print(next(gen))\n",
    "print(next(gen))\n",
    "print(next(gen))\n",
    "print(next(gen))"
   ]
  },
  {
   "cell_type": "code",
   "execution_count": 25,
   "id": "5293fe48-9e3b-420e-bbf6-f48faa554387",
   "metadata": {},
   "outputs": [
    {
     "name": "stdout",
     "output_type": "stream",
     "text": [
      "1\n",
      "4\n",
      "9\n",
      "16\n",
      "25\n"
     ]
    }
   ],
   "source": [
    "# 제너레이터 표현식\n",
    "\n",
    "gen2 = (i*i for i in range(1, 10))\n",
    "\n",
    "for i in range(1, 6):\n",
    "    print(next(gen2))"
   ]
  },
  {
   "cell_type": "code",
   "execution_count": null,
   "id": "a549e01d-dcee-4403-af12-f73b85c9bd9d",
   "metadata": {},
   "outputs": [],
   "source": []
  }
 ],
 "metadata": {
  "kernelspec": {
   "display_name": "Python [conda env:base] *",
   "language": "python",
   "name": "conda-base-py"
  },
  "language_info": {
   "codemirror_mode": {
    "name": "ipython",
    "version": 3
   },
   "file_extension": ".py",
   "mimetype": "text/x-python",
   "name": "python",
   "nbconvert_exporter": "python",
   "pygments_lexer": "ipython3",
   "version": "3.13.5"
  }
 },
 "nbformat": 4,
 "nbformat_minor": 5
}
