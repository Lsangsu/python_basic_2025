{
 "cells": [
  {
   "cell_type": "markdown",
   "id": "5da97482-d387-48e6-a95b-aeeae9852d65",
   "metadata": {},
   "source": [
    "# 정규 표현식"
   ]
  },
  {
   "cell_type": "code",
   "execution_count": 8,
   "id": "17b990f9-eaea-4422-a2a1-6707474124eb",
   "metadata": {},
   "outputs": [
    {
     "name": "stdout",
     "output_type": "stream",
     "text": [
      "123\n"
     ]
    }
   ],
   "source": [
    "import re\n",
    "\n",
    "pattern = re.compile(r\"\\d+\")   # 숫자찾는 패턴\n",
    "match = pattern.match('123abc456def')   # 첫번째로 해당하는 사항만 리턴하고 종료\n",
    "\n",
    "if match:\n",
    "    print(match.group())"
   ]
  },
  {
   "cell_type": "code",
   "execution_count": 9,
   "id": "cae27c93-bae8-436a-8d88-11d3b29f74d8",
   "metadata": {},
   "outputs": [
    {
     "name": "stdout",
     "output_type": "stream",
     "text": [
      "abc\n"
     ]
    }
   ],
   "source": [
    "pattern = re.compile(r\"\\D+\")   # 숫자가 아닌 것 찾는 패턴\n",
    "match = pattern.search('123abc456def')   # 첫번째로 해당하는 사항만 리턴하고 종료\n",
    "\n",
    "if match:\n",
    "    print(match.group())"
   ]
  },
  {
   "cell_type": "code",
   "execution_count": 12,
   "id": "7244aded-0df2-45f0-a663-c9f74c5423b9",
   "metadata": {},
   "outputs": [
    {
     "name": "stdout",
     "output_type": "stream",
     "text": [
      "['123', '456']\n"
     ]
    }
   ],
   "source": [
    "pattern = re.compile(r\"\\d+\")   # 숫자찾는 패턴\n",
    "matches = pattern.findall('123abc456def')   # 전체에서 해당하는 사항 모두 리턴\n",
    "print(matches)"
   ]
  },
  {
   "cell_type": "code",
   "execution_count": 13,
   "id": "23dc87db-8672-4672-b626-846b3663cb78",
   "metadata": {},
   "outputs": [
    {
     "name": "stdout",
     "output_type": "stream",
     "text": [
      "NUMabcNUMdef\n"
     ]
    }
   ],
   "source": [
    "pattern = re.compile(r\"\\d+\")   # 숫자찾는 패턴\n",
    "result = pattern.sub('NUM', '123abc456def')   # 전체에서 해당하는 사항 찾아서 문자로 대체\n",
    "print(result)"
   ]
  },
  {
   "cell_type": "code",
   "execution_count": null,
   "id": "55408f41-cae5-405f-b415-af6746526022",
   "metadata": {},
   "outputs": [],
   "source": []
  }
 ],
 "metadata": {
  "kernelspec": {
   "display_name": "Python [conda env:base] *",
   "language": "python",
   "name": "conda-base-py"
  },
  "language_info": {
   "codemirror_mode": {
    "name": "ipython",
    "version": 3
   },
   "file_extension": ".py",
   "mimetype": "text/x-python",
   "name": "python",
   "nbconvert_exporter": "python",
   "pygments_lexer": "ipython3",
   "version": "3.13.5"
  }
 },
 "nbformat": 4,
 "nbformat_minor": 5
}
