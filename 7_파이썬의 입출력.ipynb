{
 "cells": [
  {
   "cell_type": "markdown",
   "id": "d79e3a7e-d149-45b0-9e1a-1c9ce64d1e02",
   "metadata": {},
   "source": [
    "# 7 파이썬의 입출력"
   ]
  },
  {
   "cell_type": "markdown",
   "id": "924bb602-3de3-4a85-9e12-251af99c47c2",
   "metadata": {},
   "source": [
    "## 사용자 입출력"
   ]
  },
  {
   "cell_type": "markdown",
   "id": "909a545f-b08f-4a19-85de-3cec50d1c54c",
   "metadata": {},
   "source": [
    "### 1) 사용자 입력"
   ]
  },
  {
   "cell_type": "code",
   "execution_count": 1,
   "id": "b72b929c-a140-4f45-8450-5e1c3fff7eb4",
   "metadata": {},
   "outputs": [
    {
     "name": "stdin",
     "output_type": "stream",
     "text": [
      " life is too short, you need python\n"
     ]
    }
   ],
   "source": [
    "a = input()"
   ]
  },
  {
   "cell_type": "code",
   "execution_count": 2,
   "id": "d07cf74c-70a4-4745-9fd4-77ceaefdf82b",
   "metadata": {},
   "outputs": [
    {
     "name": "stdout",
     "output_type": "stream",
     "text": [
      "life is too short, you need python\n"
     ]
    }
   ],
   "source": [
    "print(a)"
   ]
  },
  {
   "cell_type": "code",
   "execution_count": 6,
   "id": "fd62df71-2476-4710-95fc-ad67632f06ac",
   "metadata": {},
   "outputs": [
    {
     "name": "stdin",
     "output_type": "stream",
     "text": [
      " 15887\n"
     ]
    }
   ],
   "source": [
    "num = input()"
   ]
  },
  {
   "cell_type": "code",
   "execution_count": 9,
   "id": "0fc6ec07-193e-47a9-b682-b97e6a8dd50a",
   "metadata": {},
   "outputs": [
    {
     "name": "stdout",
     "output_type": "stream",
     "text": [
      "15887\n",
      "<class 'str'>\n"
     ]
    }
   ],
   "source": [
    "print(num)\n",
    "print(type(num))     # input에 입력한 모든 것은 문자열!"
   ]
  },
  {
   "cell_type": "markdown",
   "id": "7f1ec34d-57d9-4e87-a215-6548d475d663",
   "metadata": {},
   "source": [
    "### 2) print() 자세히 알기"
   ]
  },
  {
   "cell_type": "code",
   "execution_count": 10,
   "id": "88563c32-f72b-4501-bd55-823c7cb3914a",
   "metadata": {},
   "outputs": [
    {
     "name": "stdout",
     "output_type": "stream",
     "text": [
      "123\n",
      "python\n",
      "[1, 2, 3]\n"
     ]
    }
   ],
   "source": [
    "a = 123\n",
    "print(a)\n",
    "b = 'python'\n",
    "print(b)\n",
    "c = [1, 2, 3]\n",
    "print(c)"
   ]
  },
  {
   "cell_type": "code",
   "execution_count": 12,
   "id": "ee72312d-f74a-4607-b523-dfe46a4ddbe6",
   "metadata": {},
   "outputs": [
    {
     "name": "stdout",
     "output_type": "stream",
     "text": [
      "life is too short\n",
      "life is too short\n",
      "life is too short\n"
     ]
    }
   ],
   "source": [
    "# 문자열과 +연산자로 출력\n",
    "\n",
    "print(\"life \"\"is \"\"too short\")\n",
    "print(\"life \"+\"is \"+\"too short\")\n",
    "print('life ''is ''too short')"
   ]
  },
  {
   "cell_type": "code",
   "execution_count": 13,
   "id": "5264d56b-7d78-400e-bc36-765eb19074e4",
   "metadata": {},
   "outputs": [
    {
     "name": "stdout",
     "output_type": "stream",
     "text": [
      "life is too short\n"
     ]
    }
   ],
   "source": [
    "# 문자열 띄어쓰기는 쉼표로\n",
    "\n",
    "print(\"life\", \"is\", \"too short\")"
   ]
  },
  {
   "cell_type": "code",
   "execution_count": 15,
   "id": "24af6410-0406-4e58-b3de-b5075705dc88",
   "metadata": {},
   "outputs": [
    {
     "name": "stdout",
     "output_type": "stream",
     "text": [
      "0\n",
      "1\n",
      "2\n",
      "3\n",
      "4\n",
      "5\n",
      "6\n",
      "7\n",
      "8\n",
      "9\n",
      "--------------------\n",
      "0 1 2 3 4 5 6 7 8 9 "
     ]
    }
   ],
   "source": [
    "# 문자열 한줄로 작성하기\n",
    "\n",
    "for i in range(10):\n",
    "    print(i)\n",
    "\n",
    "print('-'*20)\n",
    "\n",
    "for i in range(10):\n",
    "    print(i, end=\" \")    # end의 디폴트값이 \\n(띄어쓰끼)이기 때문에 따로 작성하지 않으면 자동 띄어쓰기 진행"
   ]
  },
  {
   "cell_type": "markdown",
   "id": "0b3a36c7-8b94-4e47-80f6-a1b211f01fd9",
   "metadata": {},
   "source": [
    "## 파일 읽고 쓰기"
   ]
  },
  {
   "cell_type": "markdown",
   "id": "b892ba55-05c6-42b6-9b63-469263a4d70e",
   "metadata": {},
   "source": [
    "### 1) 파일 생성하기"
   ]
  },
  {
   "cell_type": "code",
   "execution_count": 18,
   "id": "b0f79e72-cf08-45d3-bbc2-78aac4f240f7",
   "metadata": {},
   "outputs": [],
   "source": [
    "file = open('newfile.txt', 'w')   # 파일생성 및 열기"
   ]
  },
  {
   "cell_type": "code",
   "execution_count": 19,
   "id": "e712e6b0-6d06-41cb-9849-ce02e3b2fa6a",
   "metadata": {},
   "outputs": [],
   "source": [
    "file.close()                      # 파일 닫기"
   ]
  },
  {
   "cell_type": "code",
   "execution_count": 20,
   "id": "4e0b0b4b-188e-4501-b38a-0eb624835be3",
   "metadata": {},
   "outputs": [],
   "source": [
    "# 특정경로에서 파일 생성하기\n",
    "\n",
    "f = open(\"C:\\\\Users\\\\WD\\\\python_basic\\\\newfile2.txt\", 'w')\n",
    "         # 윈도우상 경로표시에 \\가 사용됨, 파이썬에서는 \\(특수문자 표시)가 아닌 \\\\로 작성해야 함."
   ]
  },
  {
   "cell_type": "code",
   "execution_count": 21,
   "id": "898c078b-dad4-49fa-80ad-260e413d113b",
   "metadata": {},
   "outputs": [],
   "source": [
    "f.close()"
   ]
  },
  {
   "cell_type": "markdown",
   "id": "2710e051-125f-4b03-8a9b-84b538ff9e3a",
   "metadata": {},
   "source": [
    "### 2) 파일을 쓰기 모드로 열어 내용 쓰기"
   ]
  },
  {
   "cell_type": "code",
   "execution_count": 43,
   "id": "a51ca809-86c1-4491-8a0a-3447e2a4d1f0",
   "metadata": {},
   "outputs": [],
   "source": [
    "f = open('newfile.txt', 'w')\n",
    "for i in range(1, 11):\n",
    "    data = f\"{i}번째 줄입니다.\\n\"\n",
    "    f.write(data)\n",
    "f.close()"
   ]
  },
  {
   "cell_type": "markdown",
   "id": "0de0f8a2-649d-4a69-8629-df602a20032b",
   "metadata": {},
   "source": [
    "### 3) 파일을 읽는 여러가지 방법"
   ]
  },
  {
   "cell_type": "code",
   "execution_count": 24,
   "id": "0138ff22-e4c6-4ff6-922e-74901af77dea",
   "metadata": {},
   "outputs": [
    {
     "name": "stdout",
     "output_type": "stream",
     "text": [
      "1번째 줄입니다.\n",
      "\n"
     ]
    }
   ],
   "source": [
    "f = open('newfile.txt', 'r')\n",
    "line = f.readline()\n",
    "print(line)\n",
    "f.close()"
   ]
  },
  {
   "cell_type": "code",
   "execution_count": 25,
   "id": "c985cbed-4298-4602-98e2-1ee2bd30b311",
   "metadata": {},
   "outputs": [
    {
     "name": "stdout",
     "output_type": "stream",
     "text": [
      "1번째 줄입니다.\n",
      "\n",
      "2번째 줄입니다.\n",
      "\n",
      "3번째 줄입니다.\n",
      "\n",
      "4번째 줄입니다.\n",
      "\n",
      "5번째 줄입니다.\n",
      "\n",
      "6번째 줄입니다.\n",
      "\n",
      "7번째 줄입니다.\n",
      "\n",
      "8번째 줄입니다.\n",
      "\n",
      "9번째 줄입니다.\n",
      "\n",
      "10번째 줄입니다.\n",
      "\n"
     ]
    }
   ],
   "source": [
    "# readline() 함수로 여러줄 읽기\n",
    "\n",
    "f = open('newfile.txt', 'r')\n",
    "while True:\n",
    "    line = f.readline()\n",
    "    if not line:\n",
    "        break\n",
    "    print(line)\n",
    "f.close()"
   ]
  },
  {
   "cell_type": "code",
   "execution_count": 26,
   "id": "d7755737-cb62-4f12-a4ea-9eedf0e3dc6c",
   "metadata": {},
   "outputs": [
    {
     "name": "stdin",
     "output_type": "stream",
     "text": [
      " a\n"
     ]
    },
    {
     "name": "stdout",
     "output_type": "stream",
     "text": [
      "a\n"
     ]
    },
    {
     "name": "stdin",
     "output_type": "stream",
     "text": [
      "  d\n"
     ]
    },
    {
     "name": "stdout",
     "output_type": "stream",
     "text": [
      " d\n"
     ]
    },
    {
     "name": "stdin",
     "output_type": "stream",
     "text": [
      " f\n"
     ]
    },
    {
     "name": "stdout",
     "output_type": "stream",
     "text": [
      "f\n"
     ]
    },
    {
     "name": "stdin",
     "output_type": "stream",
     "text": [
      " g\n"
     ]
    },
    {
     "name": "stdout",
     "output_type": "stream",
     "text": [
      "g\n"
     ]
    },
    {
     "name": "stdin",
     "output_type": "stream",
     "text": [
      " qrw\n"
     ]
    },
    {
     "name": "stdout",
     "output_type": "stream",
     "text": [
      "qrw\n"
     ]
    },
    {
     "name": "stdin",
     "output_type": "stream",
     "text": [
      " \n"
     ]
    }
   ],
   "source": [
    "# 사용자의 입력을 받아 여러줄 출력하기\n",
    "\n",
    "while True:\n",
    "    data = input()\n",
    "    if not data:\n",
    "        break\n",
    "    print(data)"
   ]
  },
  {
   "cell_type": "code",
   "execution_count": 33,
   "id": "b738df41-01ef-44e4-9c18-54074c6aa613",
   "metadata": {},
   "outputs": [
    {
     "name": "stdout",
     "output_type": "stream",
     "text": [
      "['1번째 줄입니다.\\n', '2번째 줄입니다.\\n', '3번째 줄입니다.\\n', '4번째 줄입니다.\\n', '5번째 줄입니다.\\n', '6번째 줄입니다.\\n', '7번째 줄입니다.\\n', '8번째 줄입니다.\\n', '9번째 줄입니다.\\n', '10번째 줄입니다.\\n']\n",
      "------------------------------\n",
      "1번째 줄입니다.\n",
      "\n",
      "2번째 줄입니다.\n",
      "\n",
      "3번째 줄입니다.\n",
      "\n",
      "4번째 줄입니다.\n",
      "\n",
      "5번째 줄입니다.\n",
      "\n",
      "6번째 줄입니다.\n",
      "\n",
      "7번째 줄입니다.\n",
      "\n",
      "8번째 줄입니다.\n",
      "\n",
      "9번째 줄입니다.\n",
      "\n",
      "10번째 줄입니다.\n",
      "\n"
     ]
    }
   ],
   "source": [
    "# 여러줄 읽는 readlines() 함수 사용하기\n",
    "\n",
    "f = open('newfile.txt', 'r')\n",
    "lines = f.readlines()\n",
    "print(lines)\n",
    "\n",
    "print('-'*30)\n",
    "\n",
    "for line in lines:\n",
    "    print(line)\n",
    "f.close()"
   ]
  },
  {
   "cell_type": "code",
   "execution_count": 35,
   "id": "4897ca4b-f0c8-4982-84ab-783f9d7116e6",
   "metadata": {},
   "outputs": [
    {
     "name": "stdout",
     "output_type": "stream",
     "text": [
      "1번째 줄입니다.\n",
      "2번째 줄입니다.\n",
      "3번째 줄입니다.\n",
      "4번째 줄입니다.\n",
      "5번째 줄입니다.\n",
      "6번째 줄입니다.\n",
      "7번째 줄입니다.\n",
      "8번째 줄입니다.\n",
      "9번째 줄입니다.\n",
      "10번째 줄입니다.\n"
     ]
    }
   ],
   "source": [
    "# 줄바꿈(\\n)문자 제거하기\n",
    "\n",
    "f = open('newfile.txt', 'r')\n",
    "lines = f.readlines()\n",
    "for line in lines:\n",
    "    line = line.strip()   # strip() 양쪽 공란 제거하기 \\n 도 제거됨\n",
    "    print(line)\n",
    "f.close()"
   ]
  },
  {
   "cell_type": "code",
   "execution_count": 36,
   "id": "6500d408-58f7-46b5-a0b5-4c1e611b6d69",
   "metadata": {},
   "outputs": [
    {
     "name": "stdout",
     "output_type": "stream",
     "text": [
      "1번째 줄입니다.\n",
      "2번째 줄입니다.\n",
      "3번째 줄입니다.\n",
      "4번째 줄입니다.\n",
      "5번째 줄입니다.\n",
      "6번째 줄입니다.\n",
      "7번째 줄입니다.\n",
      "8번째 줄입니다.\n",
      "9번째 줄입니다.\n",
      "10번째 줄입니다.\n",
      "\n"
     ]
    }
   ],
   "source": [
    "# read() 함수로 파일 전체 내용 읽기\n",
    "\n",
    "f = open('newfile.txt', 'r')\n",
    "data = f.read()\n",
    "print(data)\n",
    "f.close()"
   ]
  },
  {
   "cell_type": "code",
   "execution_count": 37,
   "id": "c28f1f46-2c92-4c54-9a22-93103184a83e",
   "metadata": {},
   "outputs": [
    {
     "name": "stdout",
     "output_type": "stream",
     "text": [
      "1번째 줄입니다.\n",
      "\n",
      "2번째 줄입니다.\n",
      "\n",
      "3번째 줄입니다.\n",
      "\n",
      "4번째 줄입니다.\n",
      "\n",
      "5번째 줄입니다.\n",
      "\n",
      "6번째 줄입니다.\n",
      "\n",
      "7번째 줄입니다.\n",
      "\n",
      "8번째 줄입니다.\n",
      "\n",
      "9번째 줄입니다.\n",
      "\n",
      "10번째 줄입니다.\n",
      "\n"
     ]
    }
   ],
   "source": [
    "# 파일 객체를 for문과 함께 사용하기\n",
    "\n",
    "f = open('newfile.txt', 'r')\n",
    "for line in f:\n",
    "    print(line)\n",
    "f.close()"
   ]
  },
  {
   "cell_type": "markdown",
   "id": "5d4099f6-83f3-498c-b5be-bf84bbb55624",
   "metadata": {},
   "source": [
    "### 4) 파일에 새로운 내용 추가하기"
   ]
  },
  {
   "cell_type": "code",
   "execution_count": 44,
   "id": "bddd3d37-ffdf-470c-b8af-44489764106c",
   "metadata": {},
   "outputs": [],
   "source": [
    "f = open('newfile.txt', 'a')\n",
    "for i in range(11, 20):\n",
    "    data = f\"{i}번째 줄을 추가합니다.\\n\"\n",
    "    f.write(data)\n",
    "f.close()"
   ]
  },
  {
   "cell_type": "markdown",
   "id": "7adb558b-81a9-46a3-b5bf-41b4095c9109",
   "metadata": {},
   "source": [
    "### 5) with문과 함께 사용하기\n",
    " - 파일을 열고 닫는 것을 자동으로 처리"
   ]
  },
  {
   "cell_type": "code",
   "execution_count": 40,
   "id": "89a37e94-6e76-4487-8118-5a566d166a6b",
   "metadata": {},
   "outputs": [],
   "source": [
    "with open('foo.txt', 'w') as f:\n",
    "    # 오픈한 객체를 f라고 하겠다는 의미 / f=open('newfile.txt', 'w') 와 동일\n",
    "    f.write(\"life is too short, you need python!\")"
   ]
  },
  {
   "cell_type": "code",
   "execution_count": null,
   "id": "400bbe04-cf20-44b3-b74b-0ce720fe2323",
   "metadata": {},
   "outputs": [],
   "source": []
  }
 ],
 "metadata": {
  "kernelspec": {
   "display_name": "Python [conda env:base] *",
   "language": "python",
   "name": "conda-base-py"
  },
  "language_info": {
   "codemirror_mode": {
    "name": "ipython",
    "version": 3
   },
   "file_extension": ".py",
   "mimetype": "text/x-python",
   "name": "python",
   "nbconvert_exporter": "python",
   "pygments_lexer": "ipython3",
   "version": "3.13.5"
  }
 },
 "nbformat": 4,
 "nbformat_minor": 5
}
