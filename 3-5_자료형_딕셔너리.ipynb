{
 "cells": [
  {
   "cell_type": "markdown",
   "id": "ecef0429-8fd4-4e6a-b426-5842fa98fede",
   "metadata": {},
   "source": [
    "## 3-5 자료형-딕셔너리"
   ]
  },
  {
   "cell_type": "markdown",
   "id": "07d9dbd4-8854-4228-9e0b-8940074043fe",
   "metadata": {},
   "source": [
    "### 딕셔너리는 어떻게 만들까?"
   ]
  },
  {
   "cell_type": "code",
   "execution_count": 1,
   "id": "7dd2b4be-8263-4b78-aa6c-c2de8af69930",
   "metadata": {},
   "outputs": [
    {
     "data": {
      "text/plain": [
       "dict"
      ]
     },
     "execution_count": 1,
     "metadata": {},
     "output_type": "execute_result"
    }
   ],
   "source": [
    "dic = {'name':'lss', 'phone':'000-0000-0000', 'birth':'0000'}\n",
    "       # key : vlaue\n",
    "type(dic)\n",
    "\n",
    "# 딕셔너리는 key값과 value값이 한쌍이다."
   ]
  },
  {
   "cell_type": "code",
   "execution_count": 3,
   "id": "5f85c0ca-949e-48bc-9dfe-4bf81898e162",
   "metadata": {},
   "outputs": [
    {
     "data": {
      "text/plain": [
       "'lss'"
      ]
     },
     "execution_count": 3,
     "metadata": {},
     "output_type": "execute_result"
    }
   ],
   "source": [
    "dic['name']\n",
    "\n",
    "#딕셔너리는 key값으로 입력해야 해당하는 value값을 도출할 수 잇다."
   ]
  },
  {
   "cell_type": "code",
   "execution_count": 6,
   "id": "0931a707-69d9-4a10-a9eb-4b43ef54450d",
   "metadata": {},
   "outputs": [
    {
     "data": {
      "text/plain": [
       "{'a': [1, 2, 3]}"
      ]
     },
     "execution_count": 6,
     "metadata": {},
     "output_type": "execute_result"
    }
   ],
   "source": [
    "a = {'a':[1, 2, 3]}\n",
    "a"
   ]
  },
  {
   "cell_type": "markdown",
   "id": "17ffed52-0fdd-441b-a877-6ca8e2ae88ef",
   "metadata": {},
   "source": [
    "### 딕셔너리 쌍 추가, 삭제하기"
   ]
  },
  {
   "cell_type": "code",
   "execution_count": 75,
   "id": "5fb80085-e0e6-4137-bc44-83f5cde69312",
   "metadata": {},
   "outputs": [
    {
     "data": {
      "text/plain": [
       "{1: 'a', 2: 'b'}"
      ]
     },
     "execution_count": 75,
     "metadata": {},
     "output_type": "execute_result"
    }
   ],
   "source": [
    "a = {1:'a'}\n",
    "a[2] = 'b'\n",
    "#key  value\n",
    "a\n",
    "\n",
    "# 딕셔너리는 key와 value값으로 추가"
   ]
  },
  {
   "cell_type": "code",
   "execution_count": 76,
   "id": "2048259f-c2a5-441a-87b0-6049c89028c2",
   "metadata": {},
   "outputs": [
    {
     "data": {
      "text/plain": [
       "{1: 'a', 2: 'b', 'name': 'lss'}"
      ]
     },
     "execution_count": 76,
     "metadata": {},
     "output_type": "execute_result"
    }
   ],
   "source": [
    "a['name'] = 'lss'\n",
    "a"
   ]
  },
  {
   "cell_type": "code",
   "execution_count": 77,
   "id": "7520fa35-3636-4264-8269-1874cf321cbf",
   "metadata": {},
   "outputs": [
    {
     "data": {
      "text/plain": [
       "{1: 'a', 2: 'b', 'name': 'lss', 3: [1, 2, 3]}"
      ]
     },
     "execution_count": 77,
     "metadata": {},
     "output_type": "execute_result"
    }
   ],
   "source": [
    "a[3] = [1, 2, 3]\n",
    "a"
   ]
  },
  {
   "cell_type": "code",
   "execution_count": 78,
   "id": "6cb030ec-e5f7-4e55-ad7e-b3ef800c742b",
   "metadata": {},
   "outputs": [
    {
     "data": {
      "text/plain": [
       "{1: 'a', 'name': 'lss', 3: [1, 2, 3]}"
      ]
     },
     "execution_count": 78,
     "metadata": {},
     "output_type": "execute_result"
    }
   ],
   "source": [
    "del a[2]\n",
    "a"
   ]
  },
  {
   "cell_type": "markdown",
   "id": "55ef0e6c-ea97-4014-86ff-894248d95c15",
   "metadata": {},
   "source": [
    "### 딕셔너리 사용법"
   ]
  },
  {
   "cell_type": "code",
   "execution_count": 12,
   "id": "ff8f929e-b145-4a16-9f79-6153e2c3633c",
   "metadata": {},
   "outputs": [
    {
     "name": "stdout",
     "output_type": "stream",
     "text": [
      "10\n",
      "99\n"
     ]
    }
   ],
   "source": [
    "grade = {'pey':10, 'julliet':99}\n",
    "print(grade['pey'])\n",
    "print(grade['julliet'])"
   ]
  },
  {
   "cell_type": "code",
   "execution_count": 13,
   "id": "c1331a0b-0a74-43f4-8d8f-8a5fbbc4ecbc",
   "metadata": {},
   "outputs": [
    {
     "data": {
      "text/plain": [
       "'a'"
      ]
     },
     "execution_count": 13,
     "metadata": {},
     "output_type": "execute_result"
    }
   ],
   "source": [
    "a = {1:'a', 2:'b'}\n",
    "a[1]"
   ]
  },
  {
   "cell_type": "code",
   "execution_count": 15,
   "id": "82afea8b-b441-4bea-8bce-909e90461bb2",
   "metadata": {},
   "outputs": [
    {
     "data": {
      "text/plain": [
       "{1: 'b'}"
      ]
     },
     "execution_count": 15,
     "metadata": {},
     "output_type": "execute_result"
    }
   ],
   "source": [
    "# 딕셔너리 만들 때 주의사항\n",
    "\n",
    "a = {1:'a', 1:'b'}\n",
    "a\n",
    "# key값은 중복불가능(후순위 작성한 value값만 반영)"
   ]
  },
  {
   "cell_type": "code",
   "execution_count": 17,
   "id": "091225a8-f7a0-4538-bbf2-c75dec13209a",
   "metadata": {},
   "outputs": [
    {
     "ename": "TypeError",
     "evalue": "unhashable type: 'list'",
     "output_type": "error",
     "traceback": [
      "\u001b[1;31m---------------------------------------------------------------------------\u001b[0m",
      "\u001b[1;31mTypeError\u001b[0m                                 Traceback (most recent call last)",
      "Cell \u001b[1;32mIn[17], line 1\u001b[0m\n\u001b[1;32m----> 1\u001b[0m a \u001b[38;5;241m=\u001b[39m {[\u001b[38;5;241m1\u001b[39m, \u001b[38;5;241m2\u001b[39m]:\u001b[38;5;124m'\u001b[39m\u001b[38;5;124mhi\u001b[39m\u001b[38;5;124m'\u001b[39m}\n\u001b[0;32m      2\u001b[0m a\n",
      "\u001b[1;31mTypeError\u001b[0m: unhashable type: 'list'"
     ]
    }
   ],
   "source": [
    "a = {[1, 2]:'hi'}\n",
    "a\n",
    "# key값은 숫자 및 문자열만 가능"
   ]
  },
  {
   "cell_type": "markdown",
   "id": "2008d2c4-5979-4376-867e-eeaa66fb4a4e",
   "metadata": {},
   "source": [
    "### 딕셔너리 관련 함수"
   ]
  },
  {
   "cell_type": "code",
   "execution_count": 18,
   "id": "53d6cfa8-b249-4326-9f62-6ed70ab3b07a",
   "metadata": {},
   "outputs": [
    {
     "data": {
      "text/plain": [
       "dict_keys(['name', 'phone', 'birth'])"
      ]
     },
     "execution_count": 18,
     "metadata": {},
     "output_type": "execute_result"
    }
   ],
   "source": [
    "# keys() : key 리스트 만들기\n",
    "\n",
    "dic = {'name':'lss', 'phone':'000-0000-0000', 'birth':'0000'}\n",
    "dic.keys()"
   ]
  },
  {
   "cell_type": "code",
   "execution_count": 20,
   "id": "6d8d5460-7122-4058-be1e-c8580ef026fb",
   "metadata": {},
   "outputs": [
    {
     "data": {
      "text/plain": [
       "dict_values(['lss', '000-0000-0000', '0000'])"
      ]
     },
     "execution_count": 20,
     "metadata": {},
     "output_type": "execute_result"
    }
   ],
   "source": [
    "# values() : value 리스트 만들기\n",
    "\n",
    "dic.values()"
   ]
  },
  {
   "cell_type": "code",
   "execution_count": 21,
   "id": "fa5d7495-c980-4fb5-9c7e-e52a30cda4ed",
   "metadata": {},
   "outputs": [
    {
     "name": "stdout",
     "output_type": "stream",
     "text": [
      "name\n",
      "phone\n",
      "birth\n"
     ]
    }
   ],
   "source": [
    "for k in dic.keys():\n",
    "    print(k) "
   ]
  },
  {
   "cell_type": "code",
   "execution_count": 22,
   "id": "d39b8d71-3fe6-4b56-814d-667272ee3fd1",
   "metadata": {},
   "outputs": [
    {
     "data": {
      "text/plain": [
       "dict_items([('name', 'lss'), ('phone', '000-0000-0000'), ('birth', '0000')])"
      ]
     },
     "execution_count": 22,
     "metadata": {},
     "output_type": "execute_result"
    }
   ],
   "source": [
    "# items() : key, value 쌍 얻기\n",
    "\n",
    "dic.items()"
   ]
  },
  {
   "cell_type": "code",
   "execution_count": 23,
   "id": "b5bb03b0-41a6-45ac-8219-3c77fcb0b120",
   "metadata": {},
   "outputs": [
    {
     "data": {
      "text/plain": [
       "{}"
      ]
     },
     "execution_count": 23,
     "metadata": {},
     "output_type": "execute_result"
    }
   ],
   "source": [
    "# clear() : key, value 쌍 모두 지우기\n",
    "\n",
    "dic.clear()\n",
    "dic"
   ]
  },
  {
   "cell_type": "code",
   "execution_count": 33,
   "id": "a270d885-9acc-4836-8ed5-8d9dc1627f57",
   "metadata": {},
   "outputs": [
    {
     "data": {
      "text/plain": [
       "dict"
      ]
     },
     "execution_count": 33,
     "metadata": {},
     "output_type": "execute_result"
    }
   ],
   "source": [
    "type(dic)  #clear활용 데이터를 지워도 여전히 딕셔너리 형태는 남아있어 데이터 추가 가능"
   ]
  },
  {
   "cell_type": "code",
   "execution_count": 25,
   "id": "80705681-fa25-42a4-8d5e-c58ec8c4832f",
   "metadata": {},
   "outputs": [
    {
     "data": {
      "text/plain": [
       "{'name': 'lss'}"
      ]
     },
     "execution_count": 25,
     "metadata": {},
     "output_type": "execute_result"
    }
   ],
   "source": [
    "dic['name'] = 'lss'\n",
    "dic"
   ]
  },
  {
   "cell_type": "code",
   "execution_count": 26,
   "id": "723a2b6e-e2e2-405d-871f-9dfe5187317d",
   "metadata": {},
   "outputs": [
    {
     "data": {
      "text/plain": [
       "{'name': 'lss', 'phone': '000-0000-0000', 'birth': '0000'}"
      ]
     },
     "execution_count": 26,
     "metadata": {},
     "output_type": "execute_result"
    }
   ],
   "source": [
    "dic['phone'] = '000-0000-0000'\n",
    "dic['birth'] = '0000'\n",
    "dic"
   ]
  },
  {
   "cell_type": "code",
   "execution_count": 32,
   "id": "19786e98-01b2-42b3-93bc-de9fbee89e8a",
   "metadata": {},
   "outputs": [
    {
     "name": "stdout",
     "output_type": "stream",
     "text": [
      "내 이름은 lss\n"
     ]
    }
   ],
   "source": [
    "print(f\"내 이름은 {dic['name']}\")"
   ]
  },
  {
   "cell_type": "code",
   "execution_count": 30,
   "id": "b7411d2d-ebf4-441e-be95-575554e6b55d",
   "metadata": {},
   "outputs": [
    {
     "name": "stdout",
     "output_type": "stream",
     "text": [
      "내 전화번호는 000-0000-0000 입니다.\n"
     ]
    }
   ],
   "source": [
    "print(f\"내 전화번호는 {dic['phone']} 입니다.\")"
   ]
  },
  {
   "cell_type": "code",
   "execution_count": 34,
   "id": "6d8c39f5-202a-4e84-8882-f68822e817d1",
   "metadata": {},
   "outputs": [
    {
     "data": {
      "text/plain": [
       "'0000'"
      ]
     },
     "execution_count": 34,
     "metadata": {},
     "output_type": "execute_result"
    }
   ],
   "source": [
    "# get() : key로 value값 얻기\n",
    "\n",
    "dic.get('birth')"
   ]
  },
  {
   "cell_type": "code",
   "execution_count": 38,
   "id": "c81b1408-fac5-4eb9-a3c2-be045a713007",
   "metadata": {},
   "outputs": [
    {
     "name": "stdout",
     "output_type": "stream",
     "text": [
      "None\n"
     ]
    }
   ],
   "source": [
    "print(dic.get('age'))   # 없는 key값을 가져올시 none 반환"
   ]
  },
  {
   "cell_type": "code",
   "execution_count": 39,
   "id": "e7b0cfc5-081e-4e61-92cb-e1c7e258ade0",
   "metadata": {},
   "outputs": [
    {
     "ename": "KeyError",
     "evalue": "'age'",
     "output_type": "error",
     "traceback": [
      "\u001b[1;31m---------------------------------------------------------------------------\u001b[0m",
      "\u001b[1;31mKeyError\u001b[0m                                  Traceback (most recent call last)",
      "Cell \u001b[1;32mIn[39], line 1\u001b[0m\n\u001b[1;32m----> 1\u001b[0m \u001b[38;5;28mprint\u001b[39m(dic[\u001b[38;5;124m'\u001b[39m\u001b[38;5;124mage\u001b[39m\u001b[38;5;124m'\u001b[39m])\n",
      "\u001b[1;31mKeyError\u001b[0m: 'age'"
     ]
    }
   ],
   "source": [
    "print(dic['age'])   # get 미사용시 오류 발생"
   ]
  },
  {
   "cell_type": "code",
   "execution_count": 52,
   "id": "65443242-b51c-4994-8b71-862eb8fdbb1f",
   "metadata": {},
   "outputs": [
    {
     "name": "stdout",
     "output_type": "stream",
     "text": [
      "25\n",
      "{'name': 'lss', 'phone': '000-0000-0000', 'birth': '0000', 'age': 30}\n",
      "30\n"
     ]
    }
   ],
   "source": [
    "print(dic.get('age', 25))   # key에 해당하는 value가 없다면 디폴트값 반환\n",
    "            #  key  디폴트값\n",
    "\n",
    "dic['age'] = 30\n",
    "print(dic)\n",
    "\n",
    "print(dic.get('age', 25))   #딕셔너리내 key, value를 추가된 후 디폴트값이 아닌 value값 반환"
   ]
  },
  {
   "cell_type": "code",
   "execution_count": 44,
   "id": "83f1477b-7bff-43e1-8241-fc4413071168",
   "metadata": {},
   "outputs": [
    {
     "name": "stdout",
     "output_type": "stream",
     "text": [
      "True\n",
      "False\n"
     ]
    }
   ],
   "source": [
    "# in : 해당 key가 딕셔너리에 존재하는지 여부 확인\n",
    "\n",
    "print('name' in dic)\n",
    "print('email' in dic)"
   ]
  },
  {
   "cell_type": "code",
   "execution_count": null,
   "id": "e66b806c-4e09-4b18-aa46-fa35fceab5c1",
   "metadata": {},
   "outputs": [],
   "source": []
  }
 ],
 "metadata": {
  "kernelspec": {
   "display_name": "Python [conda env:base] *",
   "language": "python",
   "name": "conda-base-py"
  },
  "language_info": {
   "codemirror_mode": {
    "name": "ipython",
    "version": 3
   },
   "file_extension": ".py",
   "mimetype": "text/x-python",
   "name": "python",
   "nbconvert_exporter": "python",
   "pygments_lexer": "ipython3",
   "version": "3.13.5"
  }
 },
 "nbformat": 4,
 "nbformat_minor": 5
}
