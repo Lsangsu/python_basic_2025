{
 "cells": [
  {
   "cell_type": "markdown",
   "id": "409a0e29-a5f7-44c8-adbf-e41c05413de5",
   "metadata": {},
   "source": [
    "# 6 함수"
   ]
  },
  {
   "cell_type": "markdown",
   "id": "0d8e97df-9a3b-4ba5-b6ef-1a042a68bdde",
   "metadata": {},
   "source": [
    "## 파이썬 함수"
   ]
  },
  {
   "cell_type": "code",
   "execution_count": 3,
   "id": "27b42531-f3b7-48e2-a044-2d7192c4e71c",
   "metadata": {},
   "outputs": [
    {
     "name": "stdout",
     "output_type": "stream",
     "text": [
      "7\n",
      "333\n"
     ]
    }
   ],
   "source": [
    "def add(x, y):\n",
    "    return x + y\n",
    "\n",
    "a, b = 3, 4\n",
    "c = add(3, 4)\n",
    "print(c)\n",
    "\n",
    "d = add(111, 222)\n",
    "print(d)"
   ]
  },
  {
   "cell_type": "code",
   "execution_count": 13,
   "id": "71cbd6bc-5782-48d1-942b-d83bbe7d3fbe",
   "metadata": {},
   "outputs": [
    {
     "name": "stdout",
     "output_type": "stream",
     "text": [
      "6\n"
     ]
    }
   ],
   "source": [
    "# 1) 매개변수(입력값) O, 리턴값 O\n",
    "\n",
    "def minus(x, y):\n",
    "    result =  x - y\n",
    "    return result\n",
    "\n",
    "a = minus(10, 4)\n",
    "print(a)"
   ]
  },
  {
   "cell_type": "code",
   "execution_count": 5,
   "id": "569bf787-4f71-4fb3-ab8c-cb0839dbc10f",
   "metadata": {},
   "outputs": [
    {
     "name": "stdout",
     "output_type": "stream",
     "text": [
      "Hi\n"
     ]
    }
   ],
   "source": [
    "# 2) 매개변수 X, 리턴값 O\n",
    "\n",
    "def say():\n",
    "    return \"Hi\"\n",
    "\n",
    "print(say())"
   ]
  },
  {
   "cell_type": "code",
   "execution_count": 11,
   "id": "d573f30f-f9f6-4784-9875-e68bff95a2eb",
   "metadata": {},
   "outputs": [
    {
     "name": "stdout",
     "output_type": "stream",
     "text": [
      "5와 6의 합은 11입니다.\n",
      "1와 2의 합은 3입니다.\n",
      "None\n"
     ]
    }
   ],
   "source": [
    "# 3) 매개변수 O, 리턴값 X   /   함수 내 출력문(프린트)을 넣으면 리턴값 필요 X\n",
    "\n",
    "def add(x, y):\n",
    "    print(\"%d와 %d의 합은 %d입니다.\"%(x, y, x+y))\n",
    "\n",
    "add(5, 6)\n",
    "\n",
    "# 리턴값이 없기 때문에 a를 출력하면 none값이 나옴\n",
    "a = add(1,2)\n",
    "print(a)"
   ]
  },
  {
   "cell_type": "code",
   "execution_count": 12,
   "id": "a7a4fee1-c269-485a-9c7c-51a4a796b4a5",
   "metadata": {},
   "outputs": [
    {
     "name": "stdout",
     "output_type": "stream",
     "text": [
      "Hi\n"
     ]
    }
   ],
   "source": [
    "# 4) 매개변수 X, 리턴값 X\n",
    "\n",
    "def say():\n",
    "    print(\"Hi\")\n",
    "\n",
    "say()"
   ]
  },
  {
   "cell_type": "code",
   "execution_count": 14,
   "id": "d0cd26a8-e622-479d-a874-3acb608e5c55",
   "metadata": {},
   "outputs": [
    {
     "name": "stdout",
     "output_type": "stream",
     "text": [
      "4\n",
      "4\n"
     ]
    }
   ],
   "source": [
    "# 키워드 매개변수\n",
    "\n",
    "def sub(x, y):\n",
    "    return x - y\n",
    "\n",
    "result = sub(7, 3)\n",
    "print(result)\n",
    "\n",
    "result2 = sub(y=3, x=7)\n",
    "print(result2)"
   ]
  },
  {
   "cell_type": "code",
   "execution_count": 19,
   "id": "a1ab3a47-dae9-48e7-bdcc-a7b7b332d996",
   "metadata": {},
   "outputs": [
    {
     "name": "stdout",
     "output_type": "stream",
     "text": [
      "15\n"
     ]
    }
   ],
   "source": [
    "# 가변 매개변수(*매개변수명)   /   입력값을 여러 개 받는 함수(튜플 형식)\n",
    "\n",
    "def add_many(*args):\n",
    "    result = 0\n",
    "    for i in (args):\n",
    "        result += i\n",
    "    return result\n",
    "\n",
    "res1 = add_many(1, 2, 3, 4, 5)\n",
    "print(res1)"
   ]
  },
  {
   "cell_type": "code",
   "execution_count": 23,
   "id": "882370c9-9b10-4af8-a0b1-491e0c035c58",
   "metadata": {},
   "outputs": [
    {
     "name": "stdout",
     "output_type": "stream",
     "text": [
      "15\n",
      "120\n"
     ]
    }
   ],
   "source": [
    "# 덧셈, 곱셈 둘다 연산 가능한 함수\n",
    "\n",
    "def add_mul(choice, *args):\n",
    "    if choice == 'add':\n",
    "        result = 0\n",
    "        for i in args:\n",
    "            result += i\n",
    "    elif choice == 'mul':\n",
    "        result = 1\n",
    "        for i in args:\n",
    "            result = result * i\n",
    "    return result\n",
    "\n",
    "res1 = add_mul('add', 1, 2, 3, 4, 5)\n",
    "print(res1)\n",
    "\n",
    "res2 = add_mul('mul', 1, 2, 3, 4, 5)\n",
    "print(res2)"
   ]
  },
  {
   "cell_type": "code",
   "execution_count": 26,
   "id": "1b6f1ea8-d919-4c1b-8946-75ffc28aebbc",
   "metadata": {},
   "outputs": [
    {
     "name": "stdout",
     "output_type": "stream",
     "text": [
      "{'a': 1}\n",
      "{'name': 'foo', 'age': 3}\n"
     ]
    }
   ],
   "source": [
    "# 키워드 가변 매개변수 (**매개변수)   /   키워드 매개변수(딕셔너리 형식)\n",
    "\n",
    "def print_kwargs(**kwargs):\n",
    "    print(kwargs)\n",
    "    \n",
    "print_kwargs(a=1)\n",
    "print_kwargs(name='foo', age=3)"
   ]
  },
  {
   "cell_type": "code",
   "execution_count": 31,
   "id": "98c1d7b7-9264-4f61-b3f3-7ecb07466c4f",
   "metadata": {},
   "outputs": [
    {
     "name": "stdout",
     "output_type": "stream",
     "text": [
      "(5, 6)\n",
      "x + y =  7\n",
      "x * y =  12\n"
     ]
    }
   ],
   "source": [
    "# 함수의 리턴값은 하나!!\n",
    "\n",
    "def add_and_mul(x, y):\n",
    "    return x + y, x * y\n",
    "\n",
    "res = add_and_mul(2, 3)\n",
    "print(res)\n",
    "\n",
    "res1, res2 = add_and_mul(3, 4)\n",
    "print(\"x + y = \",res1)\n",
    "print(\"x * y = \",res2)"
   ]
  },
  {
   "cell_type": "code",
   "execution_count": 33,
   "id": "06574a8e-202b-47d7-b157-079e06048dac",
   "metadata": {},
   "outputs": [
    {
     "name": "stdout",
     "output_type": "stream",
     "text": [
      "5\n"
     ]
    }
   ],
   "source": [
    "def add_and_mul(x, y):\n",
    "    return x + y          # 첫번째 return문을 만나 값을 반환하고 함수 종료\n",
    "    return x * y\n",
    "\n",
    "res = add_and_mul(2, 3)\n",
    "print(res)"
   ]
  },
  {
   "cell_type": "code",
   "execution_count": 53,
   "id": "0d9afcca-0332-4fde-8915-8e7a8f301a8e",
   "metadata": {},
   "outputs": [
    {
     "name": "stdin",
     "output_type": "stream",
     "text": [
      "별명을 입력하세요 야호\n"
     ]
    },
    {
     "name": "stdout",
     "output_type": "stream",
     "text": [
      "나의 별명은 '야호'입니다\n"
     ]
    }
   ],
   "source": [
    "# return의 또 다른 쓰임새\n",
    "\n",
    "nick = str(input(\"별명을 입력하세요\"))\n",
    "\n",
    "def say_nick(nick):\n",
    "    if nick == '바보':\n",
    "        return\n",
    "    else:\n",
    "        print(\"나의 별명은 '%s'입니다\"%nick)\n",
    "\n",
    "        \n",
    "say_nick('바보')\n",
    "say_nick(nick)"
   ]
  },
  {
   "cell_type": "code",
   "execution_count": 49,
   "id": "bdd90480-359e-40e2-a883-6945d1866e79",
   "metadata": {},
   "outputs": [
    {
     "name": "stdout",
     "output_type": "stream",
     "text": [
      "나의 이름은 홍길도입니다.\n",
      "나의 나이는 30살 입니다.\n",
      "성별은 남자입니다.\n",
      "나의 이름은 홍길도입니다.\n",
      "나의 나이는 30살 입니다.\n",
      "성별은 여자입니다.\n"
     ]
    }
   ],
   "source": [
    "# 매개변수에 초기값 설정\n",
    "\n",
    "def say_myself(name, age, man=True):\n",
    "    print(f\"나의 이름은 {name}입니다.\")\n",
    "    print(f\"나의 나이는 {age}살 입니다.\")\n",
    "    if man:\n",
    "        print(\"성별은 남자입니다.\")\n",
    "    else:\n",
    "        print(\"성별은 여자입니다.\")\n",
    "\n",
    "say_myself('홍길도', 30)\n",
    "say_myself('홍길도', 30, False)"
   ]
  },
  {
   "cell_type": "code",
   "execution_count": 62,
   "id": "574ce8d2-08a4-4017-9e06-5996d0e07714",
   "metadata": {},
   "outputs": [
    {
     "name": "stdout",
     "output_type": "stream",
     "text": [
      "1\n",
      "--------------------\n",
      "2\n",
      "--------------------\n",
      "2\n"
     ]
    }
   ],
   "source": [
    "# 함수의 유효범위\n",
    "\n",
    "a = 1\n",
    "b = 1\n",
    "\n",
    "def vartest(a):          # 함수 내에서 a = 2로 변경되었지만 return으로 값을 반환하지 않았기 때문에 반영 X(함수 안에서만 영향을 미침)\n",
    "    a += 1\n",
    "vartest(a)               # 아무것도 실행되지 않음\n",
    "print(a)                 # 함수 밖에 있는 a 출력\n",
    "\n",
    "print('-'*20)\n",
    "\n",
    "# 해결방법 1) return 사용하기\n",
    "def vartest1(x):\n",
    "    x += 1\n",
    "    return x\n",
    "a = vartest1(a)          # 함수 실행하면 return에 의해 x값 반환 + a 변수에 덮어씀\n",
    "print(a)\n",
    "\n",
    "print('-'*20)\n",
    "\n",
    "#해결방법 2) global 명령어 사용하기\n",
    "def vartest2():\n",
    "    global b             # 함수 안에서 b는 전역변수로 변경됨\n",
    "    b += 1\n",
    "vartest2()          \n",
    "print(b)"
   ]
  },
  {
   "cell_type": "code",
   "execution_count": 66,
   "id": "c2536f44-3388-414d-8473-58290a3f5f89",
   "metadata": {},
   "outputs": [
    {
     "name": "stdout",
     "output_type": "stream",
     "text": [
      "7\n",
      "--------------------\n",
      "5\n"
     ]
    }
   ],
   "source": [
    "# lambda 표현식(예약어)   /   def와 동일하지만 한줄로 간결하게 만들때 사용\n",
    "\n",
    "#lambda 미사용\n",
    "def add(a, b):\n",
    "    return a + b\n",
    "print(add(3, 4))\n",
    "\n",
    "print('-'*20)\n",
    "\n",
    "#lambda 사용\n",
    "add = lambda a, b: a + b\n",
    "print(add(2, 3))"
   ]
  },
  {
   "cell_type": "markdown",
   "id": "d3c74ec0-4dbc-4b13-84be-8ab1fa530de8",
   "metadata": {},
   "source": [
    "## 함수의 활용"
   ]
  },
  {
   "cell_type": "markdown",
   "id": "4b8a2f0c-69c6-46d0-8f86-1d322a0511e3",
   "metadata": {},
   "source": [
    "### 1) 재귀 함수\n",
    ": 내가 만든 함수를 다시 호출하는 것"
   ]
  },
  {
   "cell_type": "code",
   "execution_count": 71,
   "id": "b69cd4bb-eb06-4f14-be44-b03c40ba3869",
   "metadata": {},
   "outputs": [
    {
     "name": "stdout",
     "output_type": "stream",
     "text": [
      "2! :  2\n",
      "3! :  6\n",
      "4! :  24\n",
      "5! :  120\n"
     ]
    }
   ],
   "source": [
    "# 반복문으로 팩토리얼 구하기\n",
    "\n",
    "def factorial(n):\n",
    "    result = 1\n",
    "    for i in range(1, n+1):\n",
    "        result *= i\n",
    "    return result\n",
    "\n",
    "print('2! : ', factorial(2))\n",
    "print('3! : ', factorial(3))\n",
    "print('4! : ', factorial(4))\n",
    "print('5! : ', factorial(5))"
   ]
  },
  {
   "cell_type": "code",
   "execution_count": 73,
   "id": "03054d1d-c6a4-46d7-a4ad-ed8d58dfe861",
   "metadata": {},
   "outputs": [
    {
     "name": "stdout",
     "output_type": "stream",
     "text": [
      "2! :  2\n",
      "3! :  6\n",
      "4! :  24\n",
      "5! :  120\n"
     ]
    }
   ],
   "source": [
    "# 재귀 함수로 팩토리얼 구하기\n",
    "\n",
    "def factorial(n):\n",
    "    if n == 0:\n",
    "        return 1\n",
    "    else:\n",
    "        return n * factorial(n-1)\n",
    "\n",
    "print('2! : ', factorial(2))\n",
    "print('3! : ', factorial(3))\n",
    "print('4! : ', factorial(4))\n",
    "print('5! : ', factorial(5))\n",
    "\n",
    "\n",
    "#        n     return    result\n",
    "# f(5)   5     5*f(4)   5*4*3*2*1\n",
    "# f(4)   4     4*f(3)   4*3*2*1\n",
    "# f(3)   3     3*f(2)    3*2*1\n",
    "# f(2)   2     2*f(1)     2*1\n",
    "# f(1)   1     1*f(0)     1*1\n",
    "# f(0)   0       1"
   ]
  },
  {
   "cell_type": "code",
   "execution_count": 76,
   "id": "879c1170-2c75-4551-8673-b98ffadbeb1a",
   "metadata": {},
   "outputs": [
    {
     "name": "stdout",
     "output_type": "stream",
     "text": [
      "원본 :  [[1, 2, 3], [4, [5, 6]], 7, [8, 9]]\n",
      "변환 :  [1, 2, 3, 4, [5, 6], 7, 8, 9]\n"
     ]
    }
   ],
   "source": [
    "# 반복문으로 리스트 평탄화\n",
    "\n",
    "def flatten(data):\n",
    "    output = []\n",
    "    for item in data:\n",
    "        if type(item) == list:\n",
    "            output += item\n",
    "        else:\n",
    "            output.append(item)\n",
    "    return output\n",
    "\n",
    "example = [[1, 2, 3], [4,[5, 6]], 7, [8, 9]]\n",
    "print('원본 : ', example)\n",
    "print('변환 : ', flatten(example))"
   ]
  },
  {
   "cell_type": "code",
   "execution_count": 77,
   "id": "182c79fb-15e5-4e80-9dbc-c60830ace4a2",
   "metadata": {},
   "outputs": [
    {
     "name": "stdout",
     "output_type": "stream",
     "text": [
      "원본 :  [[1, 2, 3], [4, [5, 6]], 7, [8, 9]]\n",
      "변환 :  [1, 2, 3, 4, 5, 6, 7, 8, 9]\n"
     ]
    }
   ],
   "source": [
    "# 재귀 함수로 리스트 평탄화\n",
    "\n",
    "def flatten(data):\n",
    "    output = []\n",
    "    for item in data:\n",
    "        if type(item) == list:\n",
    "            output += flatten(item)\n",
    "        else:\n",
    "            output.append(item)\n",
    "    return output\n",
    "\n",
    "example = [[1, 2, 3], [4,[5, 6]], 7, [8, 9]]\n",
    "print('원본 : ', example)\n",
    "print('변환 : ', flatten(example))"
   ]
  },
  {
   "cell_type": "code",
   "execution_count": null,
   "id": "f7a0eb44-490a-40f8-985c-eeafd4478460",
   "metadata": {},
   "outputs": [],
   "source": []
  }
 ],
 "metadata": {
  "kernelspec": {
   "display_name": "Python [conda env:base] *",
   "language": "python",
   "name": "conda-base-py"
  },
  "language_info": {
   "codemirror_mode": {
    "name": "ipython",
    "version": 3
   },
   "file_extension": ".py",
   "mimetype": "text/x-python",
   "name": "python",
   "nbconvert_exporter": "python",
   "pygments_lexer": "ipython3",
   "version": "3.13.5"
  }
 },
 "nbformat": 4,
 "nbformat_minor": 5
}
