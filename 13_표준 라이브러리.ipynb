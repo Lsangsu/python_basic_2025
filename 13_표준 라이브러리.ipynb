{
 "cells": [
  {
   "cell_type": "markdown",
   "id": "cc703af9-14fc-4758-9e0c-116fccf61fca",
   "metadata": {},
   "source": [
    "# 13 표준 라이브러리"
   ]
  },
  {
   "cell_type": "markdown",
   "id": "05adc46d-58ea-4554-85cc-559dda617b7b",
   "metadata": {},
   "source": [
    "## 날짜 표준 라이브러리"
   ]
  },
  {
   "cell_type": "markdown",
   "id": "acafbae9-ef08-4da3-8042-555523ec8424",
   "metadata": {},
   "source": [
    "### 1) datetime.date"
   ]
  },
  {
   "cell_type": "code",
   "execution_count": 2,
   "id": "b91d6368-1a7e-4a0b-80d9-92da7c839a4c",
   "metadata": {},
   "outputs": [],
   "source": [
    "import datetime\n",
    "\n",
    "day1 = datetime.date(2025,9,1)\n",
    "day2 = datetime.date(2026,4,5)"
   ]
  },
  {
   "cell_type": "code",
   "execution_count": 5,
   "id": "a4e55ebd-73a0-4abe-858f-31d44bd7c399",
   "metadata": {},
   "outputs": [
    {
     "name": "stdout",
     "output_type": "stream",
     "text": [
      "216 days, 0:00:00\n",
      "216\n"
     ]
    }
   ],
   "source": [
    "diff = day2 - day1\n",
    "print(diff)\n",
    "print(diff.days)   # 시간제외 출력 희망시 days 붙이기"
   ]
  },
  {
   "cell_type": "code",
   "execution_count": 9,
   "id": "a3dc499f-7dcc-46d8-91d7-6d5d7be8f1d5",
   "metadata": {},
   "outputs": [
    {
     "name": "stdout",
     "output_type": "stream",
     "text": [
      "0\n",
      "6\n",
      "1\n",
      "7\n"
     ]
    }
   ],
   "source": [
    "print(day1.weekday())   # 0 ~ 6으로 반환됨(월요일~일요일 순)\n",
    "print(day2.weekday())\n",
    "\n",
    "print(day1.isoweekday())   # 1 ~ 7 으로 반환됨(월요일 ~ 일요일 순)\n",
    "print(day2.isoweekday())"
   ]
  },
  {
   "cell_type": "code",
   "execution_count": 11,
   "id": "44165bc0-2b9c-4b97-8f62-50dda5d52ac9",
   "metadata": {},
   "outputs": [
    {
     "name": "stdout",
     "output_type": "stream",
     "text": [
      "2025-09-01\n",
      "Mon Sep  1 00:00:00 2025\n",
      "Mon Sep  1 10:05:22 2025\n"
     ]
    }
   ],
   "source": [
    "today = datetime.date.today()   # 오늘 날짜 확인\n",
    "print(today)\n",
    "today = datetime.date.today().ctime()  # 요일 / 월, 일 / 시간\n",
    "print(today)\n",
    "today = datetime.datetime.today().ctime()  # 요일 / 월, 일 / 현재시간\n",
    "print(today)"
   ]
  },
  {
   "cell_type": "markdown",
   "id": "3a5ca2eb-ace6-413f-856e-ef9ab1b71a97",
   "metadata": {},
   "source": [
    "### 2) time"
   ]
  },
  {
   "cell_type": "code",
   "execution_count": 13,
   "id": "1345168e-87f1-4eb1-851c-b7d100242123",
   "metadata": {},
   "outputs": [
    {
     "data": {
      "text/plain": [
       "1756688817.786039"
      ]
     },
     "execution_count": 13,
     "metadata": {},
     "output_type": "execute_result"
    }
   ],
   "source": [
    "import time\n",
    "\n",
    "time.time()"
   ]
  },
  {
   "cell_type": "code",
   "execution_count": 14,
   "id": "7b51c87e-661c-4419-a4e7-8b42f7ce754d",
   "metadata": {},
   "outputs": [
    {
     "data": {
      "text/plain": [
       "time.struct_time(tm_year=2025, tm_mon=9, tm_mday=1, tm_hour=10, tm_min=7, tm_sec=11, tm_wday=0, tm_yday=244, tm_isdst=0)"
      ]
     },
     "execution_count": 14,
     "metadata": {},
     "output_type": "execute_result"
    }
   ],
   "source": [
    "time.localtime(time.time())"
   ]
  },
  {
   "cell_type": "code",
   "execution_count": 19,
   "id": "f9c0ad97-33c6-4aca-8fc6-47fac9a9c45f",
   "metadata": {},
   "outputs": [
    {
     "name": "stdout",
     "output_type": "stream",
     "text": [
      "Mon Sep  1 10:08:34 2025\n",
      "Mon Sep  1 10:08:34 2025\n"
     ]
    }
   ],
   "source": [
    "print(time.asctime(time.localtime(time.time())))\n",
    "\n",
    "print(time.ctime())"
   ]
  },
  {
   "cell_type": "code",
   "execution_count": 23,
   "id": "25244c97-ae9e-48b7-bcb1-02c557e8ffca",
   "metadata": {},
   "outputs": [
    {
     "name": "stdout",
     "output_type": "stream",
     "text": [
      "09/01/25\n",
      "Mon Sep  1 10:11:04 2025\n"
     ]
    }
   ],
   "source": [
    "print(time.strftime('%x', time.localtime(time.time())))   # 현재 설정된 지역 기반의 날짜\n",
    "print(time.strftime('%c', time.localtime(time.time())))"
   ]
  },
  {
   "cell_type": "code",
   "execution_count": 25,
   "id": "485e5dca-8007-4545-b666-f176d3da8711",
   "metadata": {},
   "outputs": [
    {
     "name": "stdout",
     "output_type": "stream",
     "text": [
      "0\n",
      "1\n",
      "2\n",
      "3\n",
      "4\n",
      "5\n",
      "6\n",
      "7\n",
      "8\n",
      "9\n"
     ]
    }
   ],
   "source": [
    "import time\n",
    "for i in range(10):\n",
    "    print(i)\n",
    "    time.sleep(1)   # 일정한 시간 간격을 두고 루프를 실행함"
   ]
  },
  {
   "cell_type": "markdown",
   "id": "082e7859-1cad-46dc-823f-0b5e11188ef8",
   "metadata": {},
   "source": [
    "## random 표준 라이브러리"
   ]
  },
  {
   "cell_type": "code",
   "execution_count": 40,
   "id": "4eb2feb9-ff34-4d4f-b7e0-1d133e2470df",
   "metadata": {},
   "outputs": [
    {
     "name": "stdout",
     "output_type": "stream",
     "text": [
      "0.5599538682598081\n",
      "2\n"
     ]
    }
   ],
   "source": [
    "import random\n",
    "\n",
    "print(random.random())  # 0 ~ 1 사이의 값 반환\n",
    "print(random.randint(1, 10))  # 1 ~ 10 사이의 정수값 반환"
   ]
  },
  {
   "cell_type": "code",
   "execution_count": 43,
   "id": "aff16aad-c1aa-4da2-b806-97fd9140a359",
   "metadata": {},
   "outputs": [
    {
     "name": "stdout",
     "output_type": "stream",
     "text": [
      "3\n",
      "4\n",
      "5\n",
      "2\n",
      "1\n"
     ]
    }
   ],
   "source": [
    "# 리스트에서 무작위로 하나를 선택하여 리턴하는 함수\n",
    "\n",
    "import random\n",
    "\n",
    "def random_pop(data):\n",
    "    num = random.randint(0, len(data)-1)\n",
    "    return data.pop(num)\n",
    "\n",
    "data = [1, 2, 3 ,4 ,5]\n",
    "while data:\n",
    "    print(random_pop(data))"
   ]
  },
  {
   "cell_type": "code",
   "execution_count": 44,
   "id": "e2308040-0c35-444e-97e5-a8d6617ae2e5",
   "metadata": {},
   "outputs": [
    {
     "name": "stdout",
     "output_type": "stream",
     "text": [
      "1\n",
      "4\n",
      "5\n",
      "3\n",
      "2\n"
     ]
    }
   ],
   "source": [
    "def random_pop(data):\n",
    "    num = random.choice(data)\n",
    "    data.remove(num)\n",
    "    return num\n",
    "\n",
    "data = [1, 2, 3 ,4 ,5]\n",
    "while data:\n",
    "    print(random_pop(data))"
   ]
  },
  {
   "cell_type": "code",
   "execution_count": 45,
   "id": "971df481-321e-4f46-b9e7-e858a9f9e805",
   "metadata": {},
   "outputs": [
    {
     "name": "stdout",
     "output_type": "stream",
     "text": [
      "[3, 2, 1, 4, 5]\n"
     ]
    }
   ],
   "source": [
    "data = [1, 2, 3 ,4 ,5]\n",
    "print(random.sample(data, len(data)))"
   ]
  },
  {
   "cell_type": "markdown",
   "id": "382233ad-c73c-4b44-9434-05cad45cbb1f",
   "metadata": {},
   "source": [
    "## pickle 표준 라이브러리"
   ]
  },
  {
   "cell_type": "code",
   "execution_count": 46,
   "id": "c37ca857-db6e-4280-900c-e1189a827c0c",
   "metadata": {},
   "outputs": [],
   "source": [
    "import pickle\n",
    "\n",
    "f = open('test.txt', 'wb')\n",
    "data = {1:'python', 2:'you need'}\n",
    "pickle.dump(data, f)   # data를 f에 넣어라\n",
    "f.close()"
   ]
  },
  {
   "cell_type": "code",
   "execution_count": 49,
   "id": "f038b17d-b702-48dc-9de9-6a5b26224e36",
   "metadata": {},
   "outputs": [
    {
     "name": "stdout",
     "output_type": "stream",
     "text": [
      "{1: 'python', 2: 'you need'}\n"
     ]
    }
   ],
   "source": [
    "f = open('test.txt', 'rb')\n",
    "content = pickle.load(f)\n",
    "print(content)\n",
    "f.close()"
   ]
  },
  {
   "cell_type": "code",
   "execution_count": null,
   "id": "c1dc3816-6647-4123-829b-be82c894b0de",
   "metadata": {},
   "outputs": [],
   "source": []
  }
 ],
 "metadata": {
  "kernelspec": {
   "display_name": "Python [conda env:base] *",
   "language": "python",
   "name": "conda-base-py"
  },
  "language_info": {
   "codemirror_mode": {
    "name": "ipython",
    "version": 3
   },
   "file_extension": ".py",
   "mimetype": "text/x-python",
   "name": "python",
   "nbconvert_exporter": "python",
   "pygments_lexer": "ipython3",
   "version": "3.13.5"
  }
 },
 "nbformat": 4,
 "nbformat_minor": 5
}
