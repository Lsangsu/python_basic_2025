{
 "cells": [
  {
   "cell_type": "markdown",
   "id": "487769ab-5730-4942-abb2-5e63fc76c499",
   "metadata": {},
   "source": [
    "# 5-2 제어문-반복문(while, for)"
   ]
  },
  {
   "cell_type": "markdown",
   "id": "8c52d99d-795c-4430-863e-92264338f57f",
   "metadata": {
    "jp-MarkdownHeadingCollapsed": true
   },
   "source": [
    "## while문"
   ]
  },
  {
   "cell_type": "code",
   "execution_count": 2,
   "id": "0fa6417a-32cd-4596-9e03-66850351f25d",
   "metadata": {},
   "outputs": [
    {
     "name": "stdout",
     "output_type": "stream",
     "text": [
      "나무를 1번 찍었습니다\n",
      "나무를 2번 찍었습니다\n",
      "나무를 3번 찍었습니다\n",
      "나무를 4번 찍었습니다\n",
      "나무를 5번 찍었습니다\n",
      "나무를 6번 찍었습니다\n",
      "나무를 7번 찍었습니다\n",
      "나무를 8번 찍었습니다\n",
      "나무를 9번 찍었습니다\n",
      "나무를 10번 찍었습니다\n",
      "나무가 넘어갔습니다\n"
     ]
    }
   ],
   "source": [
    "# while문은 조건문이 참일동안 반복실행\n",
    "\n",
    "treeHit = 0\n",
    "while treeHit <10:\n",
    "    treeHit += 1               #treeHit = treeHit+1 과 동일\n",
    "    print(\"나무를 %d번 찍었습니다\" %treeHit)\n",
    "    if treeHit ==10:\n",
    "        print(\"나무가 넘어갔습니다\")"
   ]
  },
  {
   "cell_type": "code",
   "execution_count": 5,
   "id": "7a6c1a18-68bc-49df-99fa-586be6191dbf",
   "metadata": {},
   "outputs": [],
   "source": [
    "prompt = \"\"\"\n",
    "1. ADD\n",
    "2. DEL\n",
    "3. LIST\n",
    "4. QUIT\n",
    "\n",
    "enter number = \"\"\""
   ]
  },
  {
   "cell_type": "code",
   "execution_count": 6,
   "id": "eec8f5ef-02a4-4415-a2df-01f0ad54b8cc",
   "metadata": {},
   "outputs": [
    {
     "name": "stdout",
     "output_type": "stream",
     "text": [
      "\n",
      "1. ADD\n",
      "2. DEL\n",
      "3. LIST\n",
      "4. QUIT\n",
      "\n",
      "enter number = \n"
     ]
    },
    {
     "name": "stdin",
     "output_type": "stream",
     "text": [
      " 1\n"
     ]
    },
    {
     "name": "stdout",
     "output_type": "stream",
     "text": [
      "\n",
      "1. ADD\n",
      "2. DEL\n",
      "3. LIST\n",
      "4. QUIT\n",
      "\n",
      "enter number = \n"
     ]
    },
    {
     "name": "stdin",
     "output_type": "stream",
     "text": [
      " 2\n"
     ]
    },
    {
     "name": "stdout",
     "output_type": "stream",
     "text": [
      "\n",
      "1. ADD\n",
      "2. DEL\n",
      "3. LIST\n",
      "4. QUIT\n",
      "\n",
      "enter number = \n"
     ]
    },
    {
     "name": "stdin",
     "output_type": "stream",
     "text": [
      " 3\n"
     ]
    },
    {
     "name": "stdout",
     "output_type": "stream",
     "text": [
      "\n",
      "1. ADD\n",
      "2. DEL\n",
      "3. LIST\n",
      "4. QUIT\n",
      "\n",
      "enter number = \n"
     ]
    },
    {
     "name": "stdin",
     "output_type": "stream",
     "text": [
      " 4\n"
     ]
    }
   ],
   "source": [
    "number = 0\n",
    "\n",
    "while number !=4:\n",
    "    print(prompt)\n",
    "    number = int(input())"
   ]
  },
  {
   "cell_type": "code",
   "execution_count": 7,
   "id": "decfa5c8-e962-49e8-ad98-0fc56163d2a3",
   "metadata": {},
   "outputs": [
    {
     "name": "stdout",
     "output_type": "stream",
     "text": [
      "커피를 드립니다.\n",
      "남은 커피는 9잔 입니다.\n",
      "커피를 드립니다.\n",
      "남은 커피는 8잔 입니다.\n",
      "커피를 드립니다.\n",
      "남은 커피는 7잔 입니다.\n",
      "커피를 드립니다.\n",
      "남은 커피는 6잔 입니다.\n",
      "커피를 드립니다.\n",
      "남은 커피는 5잔 입니다.\n",
      "커피를 드립니다.\n",
      "남은 커피는 4잔 입니다.\n",
      "커피를 드립니다.\n",
      "남은 커피는 3잔 입니다.\n",
      "커피를 드립니다.\n",
      "남은 커피는 2잔 입니다.\n",
      "커피를 드립니다.\n",
      "남은 커피는 1잔 입니다.\n",
      "커피를 드립니다.\n",
      "남은 커피는 0잔 입니다.\n",
      "커피가 없어서 판매 중단합니다.\n"
     ]
    }
   ],
   "source": [
    "# break문 : 반복문 강제로 빠져나가기\n",
    "\n",
    "coffee = 10\n",
    "money = 300\n",
    "\n",
    "while money:\n",
    "    print(\"커피를 드립니다.\")\n",
    "    coffee -= 1\n",
    "    print(\"남은 커피는 %d잔 입니다.\" %coffee)\n",
    "    if coffee ==0:\n",
    "        print(\"커피가 없어서 판매 중단합니다.\")\n",
    "        break"
   ]
  },
  {
   "cell_type": "code",
   "execution_count": 13,
   "id": "3661f7c2-63bf-4732-a151-e3b52b9719d2",
   "metadata": {},
   "outputs": [
    {
     "name": "stdin",
     "output_type": "stream",
     "text": [
      "돈을 넣어주세요:  300\n"
     ]
    },
    {
     "name": "stdout",
     "output_type": "stream",
     "text": [
      "커피를 드립니다.\n"
     ]
    },
    {
     "name": "stdin",
     "output_type": "stream",
     "text": [
      "돈을 넣어주세요:  300\n"
     ]
    },
    {
     "name": "stdout",
     "output_type": "stream",
     "text": [
      "커피를 드립니다.\n"
     ]
    },
    {
     "name": "stdin",
     "output_type": "stream",
     "text": [
      "돈을 넣어주세요:  300\n"
     ]
    },
    {
     "name": "stdout",
     "output_type": "stream",
     "text": [
      "커피를 드립니다.\n"
     ]
    },
    {
     "name": "stdin",
     "output_type": "stream",
     "text": [
      "돈을 넣어주세요:  300\n"
     ]
    },
    {
     "name": "stdout",
     "output_type": "stream",
     "text": [
      "커피를 드립니다.\n"
     ]
    },
    {
     "name": "stdin",
     "output_type": "stream",
     "text": [
      "돈을 넣어주세요:  300\n"
     ]
    },
    {
     "name": "stdout",
     "output_type": "stream",
     "text": [
      "커피를 드립니다.\n",
      "커피가 없어서 판매 중단합니다.\n"
     ]
    }
   ],
   "source": [
    "coffee = 5\n",
    "\n",
    "while True:\n",
    "    money = int(input(\"돈을 넣어주세요: \"))\n",
    "    if money ==300:\n",
    "        print(\"커피를 드립니다.\")\n",
    "        coffee -= 1\n",
    "    elif money >300:\n",
    "        print(\"거스름돈은 %d입니다\"%(money-300))\n",
    "        coffee -= 1\n",
    "    else:\n",
    "        print(\"!!!!금액이 부족합니다.!!!!\")\n",
    "        print(\"남은 커피는 %d잔 입니다.\" %coffee)\n",
    "    if coffee ==0:\n",
    "        print(\"커피가 없어서 판매 중단합니다.\")\n",
    "        break"
   ]
  },
  {
   "cell_type": "code",
   "execution_count": 16,
   "id": "343f938c-7330-4241-8c76-20148a893589",
   "metadata": {},
   "outputs": [
    {
     "name": "stdout",
     "output_type": "stream",
     "text": [
      "1\n",
      "3\n",
      "5\n",
      "7\n",
      "9\n"
     ]
    }
   ],
   "source": [
    "# continue문 : while문의 맨 처음으로 돌아가기\n",
    "\n",
    "a = 0\n",
    "\n",
    "while a <10:\n",
    "    a +=1\n",
    "    if a%2 ==0: continue\n",
    "    print(a)"
   ]
  },
  {
   "cell_type": "markdown",
   "id": "3505c6a7-3a28-4707-bbcf-f45ec309158e",
   "metadata": {},
   "source": [
    "## for 문"
   ]
  },
  {
   "cell_type": "code",
   "execution_count": 2,
   "id": "f4f0ff00-5060-4a09-831a-5568f44cae5c",
   "metadata": {},
   "outputs": [
    {
     "name": "stdout",
     "output_type": "stream",
     "text": [
      "one\n",
      "two\n",
      "three\n"
     ]
    }
   ],
   "source": [
    "test_list = ['one', 'two', 'three']\n",
    "\n",
    "for i in test_list:        # 반복문 내부에서 사용할 변수와 결과값 변수가 같아야 한다.\n",
    "    print(i)"
   ]
  },
  {
   "cell_type": "code",
   "execution_count": 3,
   "id": "92160610-f29e-4a18-9a4f-a8a70d4ac550",
   "metadata": {},
   "outputs": [
    {
     "name": "stdout",
     "output_type": "stream",
     "text": [
      "(5, 6)\n",
      "5\n"
     ]
    }
   ],
   "source": [
    "a = [(1,2), (3,4), (5,6)]\n",
    "print(a[2])\n",
    "print(a[2][0])"
   ]
  },
  {
   "cell_type": "code",
   "execution_count": 6,
   "id": "a5e5a009-e2da-49fb-80bf-5084a4dd0e9c",
   "metadata": {},
   "outputs": [
    {
     "name": "stdout",
     "output_type": "stream",
     "text": [
      "3\n",
      "7\n",
      "11\n",
      "(1, 2)\n",
      "(3, 4)\n",
      "(5, 6)\n"
     ]
    }
   ],
   "source": [
    "for (first, last) in a:                     # a 변수가 튜플이므로 반복문 변수를 튜플로 설정\n",
    "    print(first + last)\n",
    "\n",
    "for i in a:\n",
    "    print(i)"
   ]
  },
  {
   "cell_type": "code",
   "execution_count": 19,
   "id": "4c97651a-27b8-4fea-9499-8c6882ea6356",
   "metadata": {},
   "outputs": [
    {
     "name": "stdout",
     "output_type": "stream",
     "text": [
      "1번 학생은 합격입니다.\n",
      "2번 학생은 불합격입니다.\n",
      "3번 학생은 합격입니다.\n",
      "4번 학생은 불합격입니다.\n",
      "5번 학생은 합격입니다.\n"
     ]
    }
   ],
   "source": [
    "# 문제) 총 5명의 학생이 시험을 보았는데 시험 점수가 60점 이상이면 합격이고 그렇지 않으면 불합격이다. 합격인지, 불합격인지 결과를 보여 주시오.\n",
    "\n",
    "marks = [90, 25, 67, 45, 80]    # 시험 점수 리스트\n",
    "number = 0                      # 부여할 번호\n",
    "\n",
    "for mark in marks:\n",
    "    number += 1\n",
    "    if mark >= 60:\n",
    "        print(\"%d번 학생은 합격입니다.\"%number)\n",
    "    else:\n",
    "        print(\"%d번 학생은 불합격입니다.\"%number)"
   ]
  },
  {
   "cell_type": "code",
   "execution_count": 20,
   "id": "310ba3c0-0cb3-49ba-9a8a-e036fae6cab3",
   "metadata": {},
   "outputs": [
    {
     "name": "stdout",
     "output_type": "stream",
     "text": [
      "1번 학생은 90점으로 합격입니다. 축하합니다\n",
      "3번 학생은 67점으로 합격입니다. 축하합니다\n",
      "5번 학생은 80점으로 합격입니다. 축하합니다\n"
     ]
    }
   ],
   "source": [
    "# 문제) 60점 이상인 사람에게는 축하 메시지를 보내고 나머지 사람에게는 아무런 메시지도 전하지 않는 프로그램을 작성해 보자.  (continue문 활용)\n",
    "\n",
    "marks = [90, 25, 67, 45, 80]    # 시험 점수 리스트\n",
    "number = 0                      # 부여할 번호\n",
    "\n",
    "for mark in marks:\n",
    "    number += 1\n",
    "    if mark < 60:\n",
    "        continue\n",
    "    else:\n",
    "        print(\"%d번 학생은 %d점으로 합격입니다. 축하합니다\"%(number, mark))"
   ]
  },
  {
   "cell_type": "markdown",
   "id": "63a1f7ab-3dc2-45d5-a7bc-f8b0f8100cdd",
   "metadata": {},
   "source": [
    "### for문과 함께 자주 사용하는 range() 함수"
   ]
  },
  {
   "cell_type": "code",
   "execution_count": 22,
   "id": "59a926e5-7629-4bd6-a6c1-d5fc6ac89a31",
   "metadata": {},
   "outputs": [
    {
     "name": "stdout",
     "output_type": "stream",
     "text": [
      "range(0, 10)\n",
      "<class 'range'>\n"
     ]
    }
   ],
   "source": [
    "a = range(10)\n",
    "print(a)\n",
    "print(type(a))"
   ]
  },
  {
   "cell_type": "code",
   "execution_count": 23,
   "id": "7ffcd2d1-e2ab-4ba5-a808-4c0e4501b539",
   "metadata": {},
   "outputs": [
    {
     "name": "stdout",
     "output_type": "stream",
     "text": [
      "[0, 1, 2, 3, 4, 5, 6, 7, 8, 9]\n",
      "<class 'list'>\n"
     ]
    }
   ],
   "source": [
    "a = list(a)\n",
    "print(a)\n",
    "print(type(a))"
   ]
  },
  {
   "cell_type": "code",
   "execution_count": 27,
   "id": "26107639-34e2-41f2-8895-50bcd2f4dc15",
   "metadata": {},
   "outputs": [
    {
     "name": "stdout",
     "output_type": "stream",
     "text": [
      "range(1, 11)\n",
      "[1, 2, 3, 4, 5, 6, 7, 8, 9, 10]\n",
      "[15, 16, 17, 18, 19, 20]\n"
     ]
    }
   ],
   "source": [
    "a = range(1, 11)    # 시작번호를 지정하고 싶을때 (시작번호, 끝번호)로 지정하면됨\n",
    "print(a)\n",
    "a = list(a)\n",
    "print(a)\n",
    "\n",
    "# 15~20\n",
    "a = range(15, 21)\n",
    "print(list(a))"
   ]
  },
  {
   "cell_type": "code",
   "execution_count": 29,
   "id": "d5699a69-30d2-430a-850c-748bbab8e847",
   "metadata": {},
   "outputs": [
    {
     "name": "stdout",
     "output_type": "stream",
     "text": [
      "1\n",
      "3\n",
      "6\n",
      "10\n",
      "15\n",
      "21\n",
      "28\n",
      "36\n",
      "45\n",
      "55\n",
      "--------------------\n",
      "55\n"
     ]
    }
   ],
   "source": [
    "add = 0\n",
    "for i in range(1, 11):\n",
    "    add += i\n",
    "    print(add)\n",
    "\n",
    "print(\"-\"*20)\n",
    "print(add)"
   ]
  },
  {
   "cell_type": "code",
   "execution_count": 37,
   "id": "5b2633c3-52d1-43e9-a863-e1730e06034f",
   "metadata": {},
   "outputs": [
    {
     "name": "stdout",
     "output_type": "stream",
     "text": [
      "1번 학생 합격입니다. 축하합니다\n",
      "3번 학생 합격입니다. 축하합니다\n",
      "5번 학생 합격입니다. 축하합니다\n"
     ]
    }
   ],
   "source": [
    "marks = [90, 25, 67, 45, 80]\n",
    "\n",
    "for number in range(len(marks)):     # marks 리스트의 길이만큼 (0~4)\n",
    "    if marks[number] < 60:\n",
    "        continue\n",
    "    else:\n",
    "        print(\"%d번 학생 합격입니다. 축하합니다\"%(number+1))"
   ]
  },
  {
   "cell_type": "code",
   "execution_count": 40,
   "id": "cc42b46f-b371-4b28-9e9d-5bb594926265",
   "metadata": {},
   "outputs": [
    {
     "name": "stdout",
     "output_type": "stream",
     "text": [
      "2단\n",
      "2 X 1 = 2\n",
      "2 X 2 = 4\n",
      "2 X 3 = 6\n",
      "2 X 4 = 8\n",
      "2 X 5 = 10\n",
      "2 X 6 = 12\n",
      "2 X 7 = 14\n",
      "2 X 8 = 16\n",
      "2 X 9 = 18\n",
      "--------------------\n",
      "3단\n",
      "3 X 1 = 3\n",
      "3 X 2 = 6\n",
      "3 X 3 = 9\n",
      "3 X 4 = 12\n",
      "3 X 5 = 15\n",
      "3 X 6 = 18\n",
      "3 X 7 = 21\n",
      "3 X 8 = 24\n",
      "3 X 9 = 27\n",
      "--------------------\n",
      "4단\n",
      "4 X 1 = 4\n",
      "4 X 2 = 8\n",
      "4 X 3 = 12\n",
      "4 X 4 = 16\n",
      "4 X 5 = 20\n",
      "4 X 6 = 24\n",
      "4 X 7 = 28\n",
      "4 X 8 = 32\n",
      "4 X 9 = 36\n",
      "--------------------\n",
      "5단\n",
      "5 X 1 = 5\n",
      "5 X 2 = 10\n",
      "5 X 3 = 15\n",
      "5 X 4 = 20\n",
      "5 X 5 = 25\n",
      "5 X 6 = 30\n",
      "5 X 7 = 35\n",
      "5 X 8 = 40\n",
      "5 X 9 = 45\n",
      "--------------------\n",
      "6단\n",
      "6 X 1 = 6\n",
      "6 X 2 = 12\n",
      "6 X 3 = 18\n",
      "6 X 4 = 24\n",
      "6 X 5 = 30\n",
      "6 X 6 = 36\n",
      "6 X 7 = 42\n",
      "6 X 8 = 48\n",
      "6 X 9 = 54\n",
      "--------------------\n",
      "7단\n",
      "7 X 1 = 7\n",
      "7 X 2 = 14\n",
      "7 X 3 = 21\n",
      "7 X 4 = 28\n",
      "7 X 5 = 35\n",
      "7 X 6 = 42\n",
      "7 X 7 = 49\n",
      "7 X 8 = 56\n",
      "7 X 9 = 63\n",
      "--------------------\n",
      "8단\n",
      "8 X 1 = 8\n",
      "8 X 2 = 16\n",
      "8 X 3 = 24\n",
      "8 X 4 = 32\n",
      "8 X 5 = 40\n",
      "8 X 6 = 48\n",
      "8 X 7 = 56\n",
      "8 X 8 = 64\n",
      "8 X 9 = 72\n",
      "--------------------\n",
      "9단\n",
      "9 X 1 = 9\n",
      "9 X 2 = 18\n",
      "9 X 3 = 27\n",
      "9 X 4 = 36\n",
      "9 X 5 = 45\n",
      "9 X 6 = 54\n",
      "9 X 7 = 63\n",
      "9 X 8 = 72\n",
      "9 X 9 = 81\n",
      "--------------------\n"
     ]
    }
   ],
   "source": [
    "for i in range(2, 10):\n",
    "    print(\"%d단\"%i)\n",
    "    for j in range(1, 10):\n",
    "        print(\"%d X %d = %d\"%(i, j, i*j))\n",
    "    print(\"-\"*20)"
   ]
  },
  {
   "cell_type": "markdown",
   "id": "74fdd556-ad74-463c-a28c-305cb999afb7",
   "metadata": {},
   "source": [
    "### 리스트 컴프리헨션(comprehension) 사용하기"
   ]
  },
  {
   "cell_type": "code",
   "execution_count": 42,
   "id": "64837126-5206-4eb7-bc00-dde95704851d",
   "metadata": {},
   "outputs": [
    {
     "name": "stdout",
     "output_type": "stream",
     "text": [
      "[3, 6, 9, 12]\n"
     ]
    }
   ],
   "source": [
    "a = [1, 2, 3, 4]\n",
    "result = []\n",
    "\n",
    "for number in a:\n",
    "    result.append(number*3)\n",
    "print(result)"
   ]
  },
  {
   "cell_type": "code",
   "execution_count": 61,
   "id": "7c30b86c-7c08-4efe-a6f2-2acee304943b",
   "metadata": {},
   "outputs": [
    {
     "name": "stdout",
     "output_type": "stream",
     "text": [
      "[3, 6, 9, 12]\n"
     ]
    }
   ],
   "source": [
    "# 리스트 컴프리헨션으로 표현\n",
    "\n",
    "a = [1, 2, 3, 4]          # 표현식 + for문\n",
    "result = [num*3 for num in a]\n",
    "print(result)"
   ]
  },
  {
   "cell_type": "code",
   "execution_count": 62,
   "id": "02ac6f79-c336-4808-b9c6-8c59c464d372",
   "metadata": {},
   "outputs": [
    {
     "name": "stdout",
     "output_type": "stream",
     "text": [
      "[6, 12]\n"
     ]
    }
   ],
   "source": [
    "\n",
    "a = [1, 2, 3, 4]          # 표현식 + for문 + 조건문 \n",
    "result = [num*3 for num in a if num%2 == 0]\n",
    "print(result)"
   ]
  },
  {
   "cell_type": "code",
   "execution_count": 63,
   "id": "8594d875-e722-44bc-a0ec-ba43af6ae154",
   "metadata": {},
   "outputs": [
    {
     "name": "stdout",
     "output_type": "stream",
     "text": [
      "[2, 4, 6, 8, 10, 12, 14, 16, 18, 3, 6, 9, 12, 15, 18, 21, 24, 27, 4, 8, 12, 16, 20, 24, 28, 32, 36, 5, 10, 15, 20, 25, 30, 35, 40, 45, 6, 12, 18, 24, 30, 36, 42, 48, 54, 7, 14, 21, 28, 35, 42, 49, 56, 63, 8, 16, 24, 32, 40, 48, 56, 64, 72, 9, 18, 27, 36, 45, 54, 63, 72, 81]\n"
     ]
    }
   ],
   "source": [
    "result = [i*j for i in range(2, 10) for j in range(1,10)]                    # 표현식 + 중첩 for 문\n",
    "print(result)"
   ]
  },
  {
   "cell_type": "markdown",
   "id": "fca22ee6-eb7e-486c-a3c4-5f332cfb8330",
   "metadata": {},
   "source": [
    "## 리스트 컴프리헨션"
   ]
  },
  {
   "cell_type": "markdown",
   "id": "e9fd8841-8d8c-4ff4-8d58-dbbd1a4f4b8e",
   "metadata": {},
   "source": [
    "### 1) 기본구조 : [표현식 + for문]"
   ]
  },
  {
   "cell_type": "code",
   "execution_count": 66,
   "id": "689052a7-4f62-46f9-9725-0c09e492a6e2",
   "metadata": {},
   "outputs": [
    {
     "name": "stdout",
     "output_type": "stream",
     "text": [
      "[0, 0, 0, 0, 0]\n",
      "[0, 1, 2, 3, 4]\n",
      "[0, 1, 2, 3, 4, 5, 6, 7, 8, 9]\n"
     ]
    }
   ],
   "source": [
    "# 표현식에 변수 또는 상수를 쓰는 경우\n",
    "\n",
    "n = 5\n",
    "result = [0 for i in range(n)]\n",
    "print(result)\n",
    "\n",
    "result = [i for i in range(n)]\n",
    "print(result)\n",
    "\n",
    "array = list(range(0, 10))\n",
    "result = [n for n in array]\n",
    "print(result)"
   ]
  },
  {
   "cell_type": "code",
   "execution_count": 68,
   "id": "46a0c087-6e89-4edd-9568-73bac9dee4c4",
   "metadata": {},
   "outputs": [
    {
     "name": "stdout",
     "output_type": "stream",
     "text": [
      "[0, 1, 4, 9, 16, 25, 36, 49, 64, 81]\n",
      "[4, 13, 6]\n"
     ]
    }
   ],
   "source": [
    "# 표현식에 연산식이나 함수를 쓰는 경우\n",
    "\n",
    "array = list(range(0, 10))\n",
    "result = [n*n for n in array]\n",
    "print(result)\n",
    "\n",
    "str_array = [\"List\", \"Comprehension\", \"Python\"]\n",
    "result = [len(string) for string in str_array]\n",
    "print(result)"
   ]
  },
  {
   "cell_type": "code",
   "execution_count": 69,
   "id": "86368cd6-58cc-45f5-afec-d07bde55f19e",
   "metadata": {},
   "outputs": [
    {
     "name": "stdout",
     "output_type": "stream",
     "text": [
      "[0, 1, 2, 3, 4, 0, 1, 2, 3, 4]\n"
     ]
    }
   ],
   "source": [
    "def mod_5(number):\n",
    "    return number%5\n",
    "result = [mod_5(n) for n in array]\n",
    "print(result)"
   ]
  },
  {
   "cell_type": "markdown",
   "id": "f7fc4dae-88db-4e0a-95e6-dca875cd1b70",
   "metadata": {},
   "source": [
    "### 2) 표현식 + for문 + 조건문"
   ]
  },
  {
   "cell_type": "code",
   "execution_count": 74,
   "id": "a92af91b-e25c-47c0-a6b7-fdf09b15b82b",
   "metadata": {},
   "outputs": [
    {
     "name": "stdout",
     "output_type": "stream",
     "text": [
      "[0, 2, 4, 6, 8]\n",
      "[1, 3, 5, 7, 9]\n",
      "[24, 5, 2]\n"
     ]
    }
   ],
   "source": [
    "# if문 한번 사용한 경우\n",
    "\n",
    "result = [n for n in range(10) if n%2 == 0]\n",
    "print(result)\n",
    "result = [n for n in range(10) if n%2 != 0]\n",
    "print(result)\n",
    "\n",
    "array = [-1, 0, -4, 24, 5, -10, 2]\n",
    "result = [n for n in array if n > 0]\n",
    "print(result)"
   ]
  },
  {
   "cell_type": "code",
   "execution_count": 79,
   "id": "762840ae-fe7c-47f8-981f-df58cd25223a",
   "metadata": {},
   "outputs": [
    {
     "name": "stdout",
     "output_type": "stream",
     "text": [
      "[3, 9, 15, 21, 27, 33, 39, 45]\n",
      "[3, 9, 15, 21, 27, 33, 39, 45]\n"
     ]
    }
   ],
   "source": [
    "# if문 여러번 사용한 경우\n",
    "\n",
    "result = [n for n in range(50) if n%3 == 0 if n%2 != 0]\n",
    "print(result)\n",
    "result = [n for n in range(50) if n%3 == 0 and n%2 != 0]\n",
    "print(result)"
   ]
  },
  {
   "cell_type": "markdown",
   "id": "85a2610c-e318-40d1-a9c5-828f18846149",
   "metadata": {},
   "source": [
    "### 3) 표면식 + 조건문 + for문"
   ]
  },
  {
   "cell_type": "code",
   "execution_count": 80,
   "id": "6845443b-bc20-491f-a818-5d8f690025c5",
   "metadata": {},
   "outputs": [
    {
     "name": "stdout",
     "output_type": "stream",
     "text": [
      "[0, 0, 0, 24, 5, 0, 2]\n",
      "['even', 'odd', 'even', 'odd']\n"
     ]
    }
   ],
   "source": [
    "array = [-1, 0, -4, 24, 5, -10, 2]\n",
    "result = [n if n>0 else 0 for n in array]\n",
    "print(result)\n",
    "\n",
    "array = [0, 1, 2, 3]\n",
    "result = ['even' if n%2 == 0 else 'odd' for n in array]\n",
    "print(result)"
   ]
  },
  {
   "cell_type": "markdown",
   "id": "f41811a0-62b5-43a6-a56e-b1649da76132",
   "metadata": {},
   "source": [
    "### 4) 중첩 for 문"
   ]
  },
  {
   "cell_type": "code",
   "execution_count": 86,
   "id": "2bebe839-7984-40e5-8d90-617e4f78382c",
   "metadata": {},
   "outputs": [
    {
     "name": "stdout",
     "output_type": "stream",
     "text": [
      "[1, 2, 2, 4, 3, 6]\n"
     ]
    }
   ],
   "source": [
    "result = [i*j for i in range(1, 4) for j in range(1, 3)]\n",
    "print(result)"
   ]
  },
  {
   "cell_type": "markdown",
   "id": "14848fec-4147-462b-a9cb-54b821d8a43c",
   "metadata": {},
   "source": [
    "### 5) 중첩 리스트 컴프리헨션"
   ]
  },
  {
   "cell_type": "code",
   "execution_count": 87,
   "id": "a78062c4-003d-4b61-8cd0-5d8e81a6f27e",
   "metadata": {},
   "outputs": [
    {
     "name": "stdout",
     "output_type": "stream",
     "text": [
      "[[0, 0], [0, 0], [0, 0]]\n"
     ]
    }
   ],
   "source": [
    "result = [[0 for i in range(2)] for j in range(3)]\n",
    "print(result)"
   ]
  },
  {
   "cell_type": "code",
   "execution_count": null,
   "id": "35219b9c-189f-444a-aa51-eb3fa551dfed",
   "metadata": {},
   "outputs": [],
   "source": []
  }
 ],
 "metadata": {
  "kernelspec": {
   "display_name": "Python [conda env:base] *",
   "language": "python",
   "name": "conda-base-py"
  },
  "language_info": {
   "codemirror_mode": {
    "name": "ipython",
    "version": 3
   },
   "file_extension": ".py",
   "mimetype": "text/x-python",
   "name": "python",
   "nbconvert_exporter": "python",
   "pygments_lexer": "ipython3",
   "version": "3.13.5"
  }
 },
 "nbformat": 4,
 "nbformat_minor": 5
}
