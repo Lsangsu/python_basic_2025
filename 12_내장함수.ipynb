{
 "cells": [
  {
   "cell_type": "markdown",
   "id": "82f59066-dcff-45b0-b610-0b25d2a1f225",
   "metadata": {},
   "source": [
    "# 12 내장함수"
   ]
  },
  {
   "cell_type": "markdown",
   "id": "c8aed645-33c5-46b9-ac14-4c7110cc9d76",
   "metadata": {},
   "source": [
    "## abs()\n",
    " : 절댓값을 리턴하는 함수"
   ]
  },
  {
   "cell_type": "code",
   "execution_count": 1,
   "id": "2e01d8d3-2f6c-463f-a7e7-b6870542bf68",
   "metadata": {},
   "outputs": [
    {
     "name": "stdout",
     "output_type": "stream",
     "text": [
      "3\n",
      "3\n"
     ]
    }
   ],
   "source": [
    "print(abs(3))\n",
    "print(abs(-3))"
   ]
  },
  {
   "cell_type": "markdown",
   "id": "70f3bdb0-5369-4f2b-a44c-39c17fcd3e5a",
   "metadata": {
    "jp-MarkdownHeadingCollapsed": true
   },
   "source": [
    "## all()\n",
    " : 반복 가능한 데이터에서 각 요소 확인 후 모든 요소가 참이면 True / and와 유사"
   ]
  },
  {
   "cell_type": "code",
   "execution_count": 12,
   "id": "0785c5ef-6184-4f51-ba01-588bf14b03ea",
   "metadata": {},
   "outputs": [
    {
     "name": "stdout",
     "output_type": "stream",
     "text": [
      "True\n",
      "False\n",
      "False\n",
      "False\n"
     ]
    }
   ],
   "source": [
    "print(all([1, 2, 3]))          # t t t\n",
    "print(all([1, 2, 3, 0]))       # t t t f\n",
    "print(all((0, [])))            # f f\n",
    "print(all((0, 1, 2)))          # f t t"
   ]
  },
  {
   "cell_type": "code",
   "execution_count": 8,
   "id": "d7540836-9ea7-4244-a46e-d77d1b8b7b56",
   "metadata": {},
   "outputs": [
    {
     "name": "stdout",
     "output_type": "stream",
     "text": [
      "True\n",
      "True\n"
     ]
    }
   ],
   "source": [
    "print(all([]))     # 빈 값인 경우 True 반환\n",
    "print(all(\"\"))"
   ]
  },
  {
   "cell_type": "markdown",
   "id": "79329dc3-8f01-4b3d-8518-58e9f227a923",
   "metadata": {
    "jp-MarkdownHeadingCollapsed": true
   },
   "source": [
    "## any()\n",
    " : 반복 가능한 데이터에서 각 요소 확인 후 하나라도 참이면 True / or과 유사"
   ]
  },
  {
   "cell_type": "code",
   "execution_count": 11,
   "id": "9324d8a8-9eef-48d2-86da-72123ff42a55",
   "metadata": {},
   "outputs": [
    {
     "name": "stdout",
     "output_type": "stream",
     "text": [
      "True\n",
      "False\n",
      "False\n",
      "False\n"
     ]
    }
   ],
   "source": [
    "print(any([1, 0]))          # t f\n",
    "print(any([0, \"\"]))         # f f\n",
    "print(any([]))   # 빈 값인 경우 False 반환\n",
    "print(any(\"\"))"
   ]
  },
  {
   "cell_type": "markdown",
   "id": "277b7408-ebcf-4ee8-bc48-d309290ae859",
   "metadata": {},
   "source": [
    "## chr()\n",
    " : 유니코드 값을 반환"
   ]
  },
  {
   "cell_type": "code",
   "execution_count": 17,
   "id": "0b597dbd-1af8-4511-948e-e3d014c849ab",
   "metadata": {},
   "outputs": [
    {
     "name": "stdout",
     "output_type": "stream",
     "text": [
      "a\n",
      "A\n",
      "가\n"
     ]
    }
   ],
   "source": [
    "print(chr(97))\n",
    "print(chr(65))\n",
    "print(chr(44032))"
   ]
  },
  {
   "cell_type": "markdown",
   "id": "775aa901-db39-4d36-8af6-59560c7f8d19",
   "metadata": {},
   "source": [
    "## dir()\n",
    " : 객체가 지닌 변수나 함수를 반환"
   ]
  },
  {
   "cell_type": "code",
   "execution_count": 21,
   "id": "fa24b890-edee-49c4-97da-b0cf249ca6a0",
   "metadata": {},
   "outputs": [
    {
     "data": {
      "text/plain": [
       "['__add__',\n",
       " '__class__',\n",
       " '__class_getitem__',\n",
       " '__contains__',\n",
       " '__delattr__',\n",
       " '__delitem__',\n",
       " '__dir__',\n",
       " '__doc__',\n",
       " '__eq__',\n",
       " '__format__',\n",
       " '__ge__',\n",
       " '__getattribute__',\n",
       " '__getitem__',\n",
       " '__getstate__',\n",
       " '__gt__',\n",
       " '__hash__',\n",
       " '__iadd__',\n",
       " '__imul__',\n",
       " '__init__',\n",
       " '__init_subclass__',\n",
       " '__iter__',\n",
       " '__le__',\n",
       " '__len__',\n",
       " '__lt__',\n",
       " '__mul__',\n",
       " '__ne__',\n",
       " '__new__',\n",
       " '__reduce__',\n",
       " '__reduce_ex__',\n",
       " '__repr__',\n",
       " '__reversed__',\n",
       " '__rmul__',\n",
       " '__setattr__',\n",
       " '__setitem__',\n",
       " '__sizeof__',\n",
       " '__str__',\n",
       " '__subclasshook__',\n",
       " 'append',\n",
       " 'clear',\n",
       " 'copy',\n",
       " 'count',\n",
       " 'extend',\n",
       " 'index',\n",
       " 'insert',\n",
       " 'pop',\n",
       " 'remove',\n",
       " 'reverse',\n",
       " 'sort']"
      ]
     },
     "execution_count": 21,
     "metadata": {},
     "output_type": "execute_result"
    }
   ],
   "source": [
    "dir([1, 2, 3])"
   ]
  },
  {
   "cell_type": "code",
   "execution_count": 19,
   "id": "86bf51b3-229b-40d5-9ecd-da5b3076207b",
   "metadata": {},
   "outputs": [
    {
     "data": {
      "text/plain": [
       "['__add__',\n",
       " '__class__',\n",
       " '__class_getitem__',\n",
       " '__contains__',\n",
       " '__delattr__',\n",
       " '__delitem__',\n",
       " '__dir__',\n",
       " '__doc__',\n",
       " '__eq__',\n",
       " '__format__',\n",
       " '__ge__',\n",
       " '__getattribute__',\n",
       " '__getitem__',\n",
       " '__getstate__',\n",
       " '__gt__',\n",
       " '__hash__',\n",
       " '__iadd__',\n",
       " '__imul__',\n",
       " '__init__',\n",
       " '__init_subclass__',\n",
       " '__iter__',\n",
       " '__le__',\n",
       " '__len__',\n",
       " '__lt__',\n",
       " '__mul__',\n",
       " '__ne__',\n",
       " '__new__',\n",
       " '__reduce__',\n",
       " '__reduce_ex__',\n",
       " '__repr__',\n",
       " '__reversed__',\n",
       " '__rmul__',\n",
       " '__setattr__',\n",
       " '__setitem__',\n",
       " '__sizeof__',\n",
       " '__str__',\n",
       " '__subclasshook__',\n",
       " 'append',\n",
       " 'clear',\n",
       " 'copy',\n",
       " 'count',\n",
       " 'extend',\n",
       " 'index',\n",
       " 'insert',\n",
       " 'pop',\n",
       " 'remove',\n",
       " 'reverse',\n",
       " 'sort']"
      ]
     },
     "execution_count": 19,
     "metadata": {},
     "output_type": "execute_result"
    }
   ],
   "source": [
    "dir([])"
   ]
  },
  {
   "cell_type": "code",
   "execution_count": 20,
   "id": "e7df3397-ceb1-4368-8e0d-63fe8ab06d3d",
   "metadata": {},
   "outputs": [
    {
     "data": {
      "text/plain": [
       "['__class__',\n",
       " '__class_getitem__',\n",
       " '__contains__',\n",
       " '__delattr__',\n",
       " '__delitem__',\n",
       " '__dir__',\n",
       " '__doc__',\n",
       " '__eq__',\n",
       " '__format__',\n",
       " '__ge__',\n",
       " '__getattribute__',\n",
       " '__getitem__',\n",
       " '__getstate__',\n",
       " '__gt__',\n",
       " '__hash__',\n",
       " '__init__',\n",
       " '__init_subclass__',\n",
       " '__ior__',\n",
       " '__iter__',\n",
       " '__le__',\n",
       " '__len__',\n",
       " '__lt__',\n",
       " '__ne__',\n",
       " '__new__',\n",
       " '__or__',\n",
       " '__reduce__',\n",
       " '__reduce_ex__',\n",
       " '__repr__',\n",
       " '__reversed__',\n",
       " '__ror__',\n",
       " '__setattr__',\n",
       " '__setitem__',\n",
       " '__sizeof__',\n",
       " '__str__',\n",
       " '__subclasshook__',\n",
       " 'clear',\n",
       " 'copy',\n",
       " 'fromkeys',\n",
       " 'get',\n",
       " 'items',\n",
       " 'keys',\n",
       " 'pop',\n",
       " 'popitem',\n",
       " 'setdefault',\n",
       " 'update',\n",
       " 'values']"
      ]
     },
     "execution_count": 20,
     "metadata": {},
     "output_type": "execute_result"
    }
   ],
   "source": [
    "dir({})"
   ]
  },
  {
   "cell_type": "markdown",
   "id": "fa40e112-fd9b-43db-b2a4-ba5f27c1a323",
   "metadata": {},
   "source": [
    "## divmod()\n",
    " : 몫과 나머지 튜플로 반환"
   ]
  },
  {
   "cell_type": "code",
   "execution_count": 23,
   "id": "869b27d0-7f58-4fcb-b5d3-aaae08015dc5",
   "metadata": {},
   "outputs": [
    {
     "name": "stdout",
     "output_type": "stream",
     "text": [
      "2\n",
      "1\n"
     ]
    },
    {
     "data": {
      "text/plain": [
       "(2, 1)"
      ]
     },
     "execution_count": 23,
     "metadata": {},
     "output_type": "execute_result"
    }
   ],
   "source": [
    "print(7//3)\n",
    "print(7%3)\n",
    "\n",
    "divmod(7, 3)"
   ]
  },
  {
   "cell_type": "markdown",
   "id": "2dc192f0-159b-4561-a433-88eb4b01d118",
   "metadata": {},
   "source": [
    "## enumerate()\n",
    " : 순서가 있는 데이터의 인덱스 값을 포함하는 enumerate 객체를 리턴"
   ]
  },
  {
   "cell_type": "code",
   "execution_count": 24,
   "id": "15023893-8f28-4b02-b404-634a64aa1dd2",
   "metadata": {},
   "outputs": [
    {
     "name": "stdout",
     "output_type": "stream",
     "text": [
      "0 body\n",
      "1 foor\n",
      "2 bar\n"
     ]
    }
   ],
   "source": [
    "for i, name in enumerate(['body', 'foor', 'bar']):\n",
    "    print(i, name)"
   ]
  },
  {
   "cell_type": "code",
   "execution_count": 33,
   "id": "bf0ab5f6-f85b-48a5-b62e-25f64b19c443",
   "metadata": {},
   "outputs": [
    {
     "name": "stdout",
     "output_type": "stream",
     "text": [
      "0 ('a', 1)\n",
      "1 ('b', 2)\n",
      "2 ('c', 3)\n"
     ]
    }
   ],
   "source": [
    "for i, k in enumerate({'a':1, 'b':2, 'c':3}.items()):\n",
    "    print(i, k)"
   ]
  },
  {
   "cell_type": "markdown",
   "id": "770f2e37-ccd7-43dc-a1e6-61406372791e",
   "metadata": {},
   "source": [
    "## eval()\n",
    " : 표현식을 문자열로 실행한 결과 리턴"
   ]
  },
  {
   "cell_type": "code",
   "execution_count": 27,
   "id": "86c29ff1-dafb-432c-a946-0a72770e77e6",
   "metadata": {},
   "outputs": [
    {
     "name": "stdout",
     "output_type": "stream",
     "text": [
      "1 + 2\n"
     ]
    },
    {
     "data": {
      "text/plain": [
       "3"
      ]
     },
     "execution_count": 27,
     "metadata": {},
     "output_type": "execute_result"
    }
   ],
   "source": [
    "print('1 + 2')\n",
    "eval('1 + 2')"
   ]
  },
  {
   "cell_type": "code",
   "execution_count": 29,
   "id": "8682676e-7a31-48a9-9fdf-a53c5d4d6c79",
   "metadata": {},
   "outputs": [
    {
     "data": {
      "text/plain": [
       "'hia'"
      ]
     },
     "execution_count": 29,
     "metadata": {},
     "output_type": "execute_result"
    }
   ],
   "source": [
    "eval(\"'hi' + 'a'\")"
   ]
  },
  {
   "cell_type": "markdown",
   "id": "aebcd65f-8e73-4f0a-8c93-d507b1f26019",
   "metadata": {},
   "source": [
    "## filter()\n",
    " : filter안에서 정의한 함수의 결과값이 참인 것만 반환"
   ]
  },
  {
   "cell_type": "code",
   "execution_count": 35,
   "id": "0f875dc4-fe80-4cf6-86f8-815076dc4bf3",
   "metadata": {},
   "outputs": [
    {
     "name": "stdout",
     "output_type": "stream",
     "text": [
      "[1, 2, 5, 6]\n"
     ]
    }
   ],
   "source": [
    "# 일반함수로 양수값만 리턴\n",
    "\n",
    "def positive(list):\n",
    "    result = []\n",
    "    for i in list:\n",
    "        if i > 0:\n",
    "            result.append(i)\n",
    "    return result\n",
    "\n",
    "print(positive([1, -3, 0, 2, 5, -5, 6]))"
   ]
  },
  {
   "cell_type": "code",
   "execution_count": 38,
   "id": "a5d8e2f3-d0ac-4af6-a8aa-4235a4fda420",
   "metadata": {},
   "outputs": [
    {
     "name": "stdout",
     "output_type": "stream",
     "text": [
      "<filter object at 0x0000027FFDF03E20>\n",
      "[1, 2, 5, 6]\n"
     ]
    }
   ],
   "source": [
    "# filter() 함수로 양수값만 리턴\n",
    "\n",
    "def positive(x):\n",
    "    return x > 0\n",
    "\n",
    "print(filter(positive, [1, -3, 0, 2, 5, -5, 6]))   # 값이 들어가있는 주소값만 리턴\n",
    "print(list(filter(positive, [1, -3, 0, 2, 5, -5, 6])))"
   ]
  },
  {
   "cell_type": "code",
   "execution_count": 39,
   "id": "a41c8c1a-5425-4438-8066-db6285d9c5e5",
   "metadata": {},
   "outputs": [
    {
     "name": "stdout",
     "output_type": "stream",
     "text": [
      "<filter object at 0x0000027FFDF01C90>\n",
      "[1, 2, 5, 6]\n"
     ]
    }
   ],
   "source": [
    "# lambda() 함수로 양수값만 리턴\n",
    "\n",
    "print(filter(lambda x: x > 0, [1, -3, 0, 2, 5, -5, 6]))\n",
    "print(list(filter(lambda x: x > 0, [1, -3, 0, 2, 5, -5, 6])))"
   ]
  },
  {
   "cell_type": "markdown",
   "id": "73c4729d-0f52-4a5c-9087-c73f3a35f1c9",
   "metadata": {},
   "source": [
    "## map()\n",
    " : map()안에서 선언한 함수의 결과값 반환"
   ]
  },
  {
   "cell_type": "code",
   "execution_count": 40,
   "id": "299d3c16-4143-4616-b848-59e6270f1785",
   "metadata": {},
   "outputs": [
    {
     "name": "stdout",
     "output_type": "stream",
     "text": [
      "[2, 4, 6, 8]\n"
     ]
    }
   ],
   "source": [
    "# 일반함수로 리스트 각 요소에 *2\n",
    "\n",
    "def two_times(list):\n",
    "    result = []\n",
    "    for num in list:\n",
    "        result.append(num * 2)\n",
    "    return result\n",
    "\n",
    "result = two_times([1, 2, 3, 4])\n",
    "print(result)"
   ]
  },
  {
   "cell_type": "code",
   "execution_count": 42,
   "id": "19795295-b6e3-4477-96f0-9fe14b7ded6e",
   "metadata": {},
   "outputs": [
    {
     "name": "stdout",
     "output_type": "stream",
     "text": [
      "<map object at 0x0000027FFDED6F50>\n",
      "[2, 4, 6, 8]\n"
     ]
    }
   ],
   "source": [
    "# map() 함수로 리스트 각 요소 *2\n",
    "\n",
    "def two_times(x):\n",
    "    return x * 2\n",
    "\n",
    "print(map(two_times, [1, 2, 3, 4]))   # 값이 들어가있는 주소값만 리턴\n",
    "print(list(map(two_times, [1, 2, 3, 4])))"
   ]
  },
  {
   "cell_type": "code",
   "execution_count": 43,
   "id": "485a7909-dd70-4817-ae19-873add501b25",
   "metadata": {},
   "outputs": [
    {
     "name": "stdout",
     "output_type": "stream",
     "text": [
      "<map object at 0x0000027FFDF6D510>\n",
      "[2, 4, 6, 8]\n"
     ]
    }
   ],
   "source": [
    "# lambda() 함수로 리스트 각 요소 *2\n",
    "\n",
    "print(map(lambda x: x * 2, [1, 2, 3, 4]))\n",
    "print(list(map(lambda x: x * 2, [1, 2, 3, 4])))"
   ]
  },
  {
   "cell_type": "markdown",
   "id": "fe0c4954-d90d-4196-b34a-7db12991737e",
   "metadata": {},
   "source": [
    "## hex()\n",
    " : 정수를 받아 16진수로 변환"
   ]
  },
  {
   "cell_type": "code",
   "execution_count": 45,
   "id": "ddccde19-8b02-4278-baf2-a9be0b16b157",
   "metadata": {},
   "outputs": [
    {
     "name": "stdout",
     "output_type": "stream",
     "text": [
      "0xea\n",
      "0x3\n",
      "0xd\n"
     ]
    }
   ],
   "source": [
    "print(hex(234))\n",
    "print(hex(3))\n",
    "print(hex(13))"
   ]
  },
  {
   "cell_type": "markdown",
   "id": "fb86fd1a-5144-4616-b2a1-771979e068f0",
   "metadata": {},
   "source": [
    "## id()\n",
    " : 객체의 주소값을 리턴"
   ]
  },
  {
   "cell_type": "code",
   "execution_count": 47,
   "id": "ed4f0763-62c9-469e-a48d-669fafdfe16b",
   "metadata": {},
   "outputs": [
    {
     "name": "stdout",
     "output_type": "stream",
     "text": [
      "140723233928168\n",
      "140723233928168\n"
     ]
    }
   ],
   "source": [
    "a = 3\n",
    "print(id(a))\n",
    "\n",
    "b = a\n",
    "print(id(b))"
   ]
  },
  {
   "cell_type": "markdown",
   "id": "efb8064d-7172-4fe5-9c24-66c4f961bc86",
   "metadata": {},
   "source": [
    "## isinstance()\n",
    " : 입력받은 객체가 그 클래스의 인스턴스인지 판단"
   ]
  },
  {
   "cell_type": "code",
   "execution_count": 48,
   "id": "0e342a57-1d96-4541-a90e-948f8c6d0192",
   "metadata": {},
   "outputs": [
    {
     "name": "stdout",
     "output_type": "stream",
     "text": [
      "True\n"
     ]
    }
   ],
   "source": [
    "class Person : pass\n",
    "\n",
    "a = Person()   # a 는 Person의 인스턴스\n",
    "print(isinstance(a, Person))"
   ]
  },
  {
   "cell_type": "markdown",
   "id": "66220666-690b-4823-88ed-bcfaf248389e",
   "metadata": {},
   "source": [
    "## max() / min()\n",
    " : 입렫받은 데이터의 최댓값 / 최솟값"
   ]
  },
  {
   "cell_type": "code",
   "execution_count": 50,
   "id": "f3f65a4e-6bbb-405a-8760-2236267c4950",
   "metadata": {},
   "outputs": [
    {
     "name": "stdout",
     "output_type": "stream",
     "text": [
      "3\n",
      "y\n",
      "1\n",
      "h\n"
     ]
    }
   ],
   "source": [
    "print(max([1, 2, 3]))\n",
    "print(max('python'))   # 문자는 유니코드 숫자값으로 변환 후 최대값 반환\n",
    "print(min([1, 2, 3]))\n",
    "print(min('python'))"
   ]
  },
  {
   "cell_type": "markdown",
   "id": "54448301-0e02-4ce1-bee2-1a62cfe44573",
   "metadata": {},
   "source": [
    "## ord()\n",
    " : 문자의 유니코드 숫자값 리턴"
   ]
  },
  {
   "cell_type": "code",
   "execution_count": 53,
   "id": "a155aaa3-84d7-45b8-a73c-f7f143624243",
   "metadata": {},
   "outputs": [
    {
     "name": "stdout",
     "output_type": "stream",
     "text": [
      "97\n",
      "65\n",
      "44032\n"
     ]
    }
   ],
   "source": [
    "print(ord('a'))\n",
    "print(ord('A'))\n",
    "print(ord('가'))"
   ]
  },
  {
   "cell_type": "markdown",
   "id": "8a36ff75-8923-4d93-8764-bacbb7a05606",
   "metadata": {},
   "source": [
    "## range()\n",
    " : 범위 값을 반복 가능한 객체로 만들어 리턴"
   ]
  },
  {
   "cell_type": "code",
   "execution_count": 55,
   "id": "8a2f2fbb-0972-4c76-974a-679b59972c5c",
   "metadata": {},
   "outputs": [
    {
     "name": "stdout",
     "output_type": "stream",
     "text": [
      "[0, 1, 2, 3, 4]\n",
      "[1, 2, 3, 4, 5, 6, 7, 8, 9]\n",
      "[1, 3, 5, 7, 9]\n",
      "[1, 0, -1, -2, -3, -4, -5, -6, -7, -8, -9]\n"
     ]
    }
   ],
   "source": [
    "print(list(range(5)))\n",
    "print(list(range(1, 10)))\n",
    "print(list(range(1, 10, 2)))\n",
    "print(list(range(1, -10, -1)))"
   ]
  },
  {
   "cell_type": "markdown",
   "id": "16847628-3406-480d-9dba-653add9ee98a",
   "metadata": {},
   "source": [
    "## sorted()\n",
    " : 정렬한 결과를 리스트로 반환"
   ]
  },
  {
   "cell_type": "code",
   "execution_count": 58,
   "id": "f380372b-72c9-42c0-9c62-d55d05a69daa",
   "metadata": {},
   "outputs": [
    {
     "name": "stdout",
     "output_type": "stream",
     "text": [
      "[1, 3, 4, 5, 6, 7, 8]\n",
      "['a', 'e', 'f', 'g', 'r']\n",
      "['e', 'o', 'r', 'z']\n"
     ]
    }
   ],
   "source": [
    "print(sorted([3, 5, 8, 7 ,6 ,4 ,1]))\n",
    "print(sorted(['a', 'r', 'e', 'f', 'g']))\n",
    "print(sorted('zero'))"
   ]
  },
  {
   "cell_type": "markdown",
   "id": "287e96af-6940-40c9-845a-1a3c9803e516",
   "metadata": {},
   "source": [
    "## zip()\n",
    " : 동일한 개수로 이루어진 데이터를 묶어서 리턴"
   ]
  },
  {
   "cell_type": "code",
   "execution_count": 63,
   "id": "9e094caa-f638-4b94-acaa-bb1e92b513a6",
   "metadata": {},
   "outputs": [
    {
     "name": "stdout",
     "output_type": "stream",
     "text": [
      "[(1, 4), (2, 5), (3, 6)]\n",
      "[(1, 4, 7), (2, 5, 8), (3, 6, 9)]\n",
      "[(1, 4), (2, 5), (3, 6)]\n",
      "[('a', 'c'), ('b', 'd')]\n",
      "[('a', 'd'), ('b', 'e'), ('c', 'f')]\n"
     ]
    }
   ],
   "source": [
    "print(list(zip([1, 2, 3], [4, 5, 6])))\n",
    "print(list(zip([1, 2, 3], [4, 5, 6], [7, 8, 9])))\n",
    "print(list(zip((1, 2, 3), (4, 5, 6))))\n",
    "print(list(zip({'a':1, 'b':2}, {'c':4,'d': 5})))   # 딕셔너리는 키값만 리턴\n",
    "print(list(zip('abc', 'def')))"
   ]
  },
  {
   "cell_type": "code",
   "execution_count": 64,
   "id": "799844b8-292a-4f80-b071-7b71a94a110d",
   "metadata": {},
   "outputs": [
    {
     "name": "stdout",
     "output_type": "stream",
     "text": [
      "[(1, 4), (2, 5), (3, 6)]\n"
     ]
    }
   ],
   "source": [
    "# 개수가 다른 경우\n",
    "print(list(zip([1, 2, 3], [4, 5, 6, 7, 8])))  # 나머지는 버림(7, 8)"
   ]
  },
  {
   "cell_type": "code",
   "execution_count": null,
   "id": "b18351d6-4fa6-4a8b-ac40-0e21ee972592",
   "metadata": {},
   "outputs": [],
   "source": []
  }
 ],
 "metadata": {
  "kernelspec": {
   "display_name": "Python [conda env:base] *",
   "language": "python",
   "name": "conda-base-py"
  },
  "language_info": {
   "codemirror_mode": {
    "name": "ipython",
    "version": 3
   },
   "file_extension": ".py",
   "mimetype": "text/x-python",
   "name": "python",
   "nbconvert_exporter": "python",
   "pygments_lexer": "ipython3",
   "version": "3.13.5"
  }
 },
 "nbformat": 4,
 "nbformat_minor": 5
}
