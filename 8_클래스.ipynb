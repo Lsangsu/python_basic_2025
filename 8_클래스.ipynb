{
 "cells": [
  {
   "cell_type": "markdown",
   "id": "385b3770-19f6-4937-ab02-b4cdeb5db0ad",
   "metadata": {},
   "source": [
    "# 8 클래스"
   ]
  },
  {
   "cell_type": "markdown",
   "id": "e0cba342-11de-4443-8a09-3d1fbae178ee",
   "metadata": {},
   "source": [
    "## 클래스는 왜 필요한가"
   ]
  },
  {
   "cell_type": "code",
   "execution_count": 2,
   "id": "9d347937-589c-4450-aa1f-a7d28ea14093",
   "metadata": {},
   "outputs": [
    {
     "name": "stdout",
     "output_type": "stream",
     "text": [
      "3\n",
      "7\n"
     ]
    }
   ],
   "source": [
    "# 함수로 계산기 만들기\n",
    "\n",
    "result = 0\n",
    "\n",
    "def add(num):\n",
    "    global result\n",
    "    result += num\n",
    "    return result\n",
    "\n",
    "print(add(3))   # result = 0 +3\n",
    "print(add(4))   # result = 3 +4"
   ]
  },
  {
   "cell_type": "code",
   "execution_count": 3,
   "id": "0db0f688-a555-4455-8142-c2c10054daa6",
   "metadata": {},
   "outputs": [
    {
     "name": "stdout",
     "output_type": "stream",
     "text": [
      "3\n",
      "7\n",
      "5\n",
      "11\n"
     ]
    }
   ],
   "source": [
    "res1 = 0\n",
    "res2 = 0\n",
    "\n",
    "def add1(num):\n",
    "    global res1\n",
    "    res1 += num\n",
    "    return res1\n",
    "\n",
    "def add2(num):\n",
    "    global res2\n",
    "    res2 += num\n",
    "    return res2\n",
    "\n",
    "print(add1(3))\n",
    "print(add1(4))\n",
    "print(add2(5))\n",
    "print(add2(6))"
   ]
  },
  {
   "cell_type": "code",
   "execution_count": 7,
   "id": "a5eaa301-2ed4-4e70-a75d-acabc9855b4d",
   "metadata": {},
   "outputs": [
    {
     "name": "stdout",
     "output_type": "stream",
     "text": [
      "3\n",
      "7\n",
      "5\n",
      "11\n"
     ]
    }
   ],
   "source": [
    "# 클래스로 여러개 계산기 만들기\n",
    "\n",
    "class Calculator:\n",
    "    def __init__(self):   # 초기값 설정\n",
    "        self.result = 0\n",
    "    def add(self, num):\n",
    "        self.result += num\n",
    "        return self.result\n",
    "\n",
    "cal1 = Calculator()   # 인스턴스 - 계산기 1\n",
    "cal2 = Calculator()   # 인스턴스 - 계산기 2\n",
    "\n",
    "print(cal1.add(3))\n",
    "print(cal1.add(4))\n",
    "print(cal2.add(5))\n",
    "print(cal2.add(6))"
   ]
  },
  {
   "cell_type": "code",
   "execution_count": 8,
   "id": "a47d1787-1746-4036-9c65-00769f3e4244",
   "metadata": {},
   "outputs": [
    {
     "name": "stdout",
     "output_type": "stream",
     "text": [
      "3\n",
      "-1\n",
      "-6\n",
      "0\n"
     ]
    }
   ],
   "source": [
    "# 더하기 / 빼기 기능이 있는 계산기 만들기\n",
    "\n",
    "class Calculator:\n",
    "    def __init__(self):   # 초기값 설정\n",
    "        self.result = 0\n",
    "        \n",
    "    def add(self, num):\n",
    "        self.result += num\n",
    "        return self.result\n",
    "        \n",
    "    def sub(self, num):\n",
    "        self.result -= num\n",
    "        return self.result\n",
    "\n",
    "cal1 = Calculator()\n",
    "\n",
    "print(cal1.add(3))\n",
    "print(cal1.sub(4))\n",
    "print(cal1.sub(5))\n",
    "print(cal1.add(6))"
   ]
  },
  {
   "cell_type": "markdown",
   "id": "9c85f1d8-a7cb-4839-b4c3-d2e9f02ad101",
   "metadata": {},
   "source": [
    "## 사칙연산 계산기 만들기"
   ]
  },
  {
   "cell_type": "code",
   "execution_count": 16,
   "id": "917ebc97-ed0e-49ec-9146-eb8c7a75403d",
   "metadata": {},
   "outputs": [
    {
     "name": "stdout",
     "output_type": "stream",
     "text": [
      "7\n",
      "1\n",
      "12\n",
      "2.5\n"
     ]
    }
   ],
   "source": [
    "# 혼자 작성해본 계산기\n",
    "\n",
    "class FourCal:\n",
    "    def __init__(self):   # 초기값 설정\n",
    "        self.result = 0\n",
    "        \n",
    "    def add(self, x, y):\n",
    "        self.result = x + y\n",
    "        return self.result\n",
    "        \n",
    "    def sub(self, x, y):\n",
    "        self.result = x - y\n",
    "        return self.result\n",
    "\n",
    "    def mul(self, x, y):\n",
    "        self.result = x * y\n",
    "        return self.result\n",
    "\n",
    "    def div(self, x, y):\n",
    "        self.result = x / y\n",
    "        return self.result\n",
    "\n",
    "a = FourCal()\n",
    "\n",
    "print(a.add(3, 4))\n",
    "print(a.sub(5, 4))\n",
    "print(a.mul(2, 6))\n",
    "print(a.div(10, 4))"
   ]
  },
  {
   "cell_type": "code",
   "execution_count": 12,
   "id": "57e68805-b2bb-432a-97a4-22d767b70ef1",
   "metadata": {},
   "outputs": [],
   "source": [
    "class FourCal:\n",
    "    pass"
   ]
  },
  {
   "cell_type": "code",
   "execution_count": 13,
   "id": "fe5c4f5e-20c6-4dd4-ad4c-7f8b91a333a7",
   "metadata": {},
   "outputs": [
    {
     "name": "stdout",
     "output_type": "stream",
     "text": [
      "<class '__main__.FourCal'>\n"
     ]
    }
   ],
   "source": [
    "a = FourCal()\n",
    "print(type(a))"
   ]
  },
  {
   "cell_type": "code",
   "execution_count": 17,
   "id": "43b40aa9-5de8-410b-9451-1419c08d41d6",
   "metadata": {},
   "outputs": [],
   "source": [
    "class FourCal:\n",
    "    def setdata(self, first, second):\n",
    "        self.first = first\n",
    "        self.second = second"
   ]
  },
  {
   "cell_type": "code",
   "execution_count": 23,
   "id": "dd560905-48d9-4281-93dd-e1d7f46de7f2",
   "metadata": {},
   "outputs": [
    {
     "name": "stdout",
     "output_type": "stream",
     "text": [
      "3 4\n"
     ]
    }
   ],
   "source": [
    "cal = FourCal()\n",
    "cal.setdata(3, 4)   # setdata에 변수를 전달하는 것\n",
    "\n",
    "print(cal.first, cal.second)"
   ]
  },
  {
   "cell_type": "code",
   "execution_count": 24,
   "id": "65b4ff86-e15e-4c20-b771-dd636ff87216",
   "metadata": {},
   "outputs": [
    {
     "name": "stdout",
     "output_type": "stream",
     "text": [
      "7\n",
      "-1\n",
      "12\n",
      "0.75\n",
      "------------------------------\n",
      "10\n",
      "-4\n",
      "21\n",
      "0.42857142857142855\n"
     ]
    }
   ],
   "source": [
    "class FourCal:\n",
    "    def setdata(self, first, second):\n",
    "        self.first = first\n",
    "        self.second = second\n",
    "\n",
    "    def add(self):\n",
    "        result = self.first + self.second\n",
    "        return result\n",
    "        \n",
    "    def sub(self):\n",
    "        result = self.first - self.second\n",
    "        return result\n",
    "        \n",
    "    def mul(self):\n",
    "        result = self.first * self.second\n",
    "        return result\n",
    "        \n",
    "    def div(self):\n",
    "        result = self.first / self.second\n",
    "        return result\n",
    "\n",
    "cal1 = FourCal()\n",
    "cal2 = FourCal()\n",
    "\n",
    "# 계산기에 2개의 숫자 입력\n",
    "cal1.setdata(3, 4)\n",
    "cal2.setdata(3, 7)\n",
    "\n",
    "print(cal1.add())\n",
    "print(cal1.sub())\n",
    "print(cal1.mul())\n",
    "print(cal1.div())\n",
    "\n",
    "print('-'*30)\n",
    "\n",
    "print(cal2.add())\n",
    "print(cal2.sub())\n",
    "print(cal2.mul())\n",
    "print(cal2.div())"
   ]
  },
  {
   "cell_type": "markdown",
   "id": "72368295-568f-45fb-aa4f-204c50156626",
   "metadata": {},
   "source": [
    "## 생성자"
   ]
  },
  {
   "cell_type": "code",
   "execution_count": 25,
   "id": "4a7f06ad-cb24-47ec-8903-7507aeed30d7",
   "metadata": {},
   "outputs": [],
   "source": [
    "class FourCal:\n",
    "    def __init__(self, first, second):\n",
    "        self.first = first\n",
    "        self.second = second\n",
    "\n",
    "    def add(self):\n",
    "        result = self.first + self.second\n",
    "        return result\n",
    "        \n",
    "    def sub(self):\n",
    "        result = self.first - self.second\n",
    "        return result\n",
    "        \n",
    "    def mul(self):\n",
    "        result = self.first * self.second\n",
    "        return result\n",
    "        \n",
    "    def div(self):\n",
    "        result = self.first / self.second\n",
    "        return result"
   ]
  },
  {
   "cell_type": "code",
   "execution_count": 35,
   "id": "e9109c95-ee37-4339-9bcc-d470d4494221",
   "metadata": {},
   "outputs": [
    {
     "ename": "TypeError",
     "evalue": "FourCal.__init__() missing 2 required positional arguments: 'first' and 'second'",
     "output_type": "error",
     "traceback": [
      "\u001b[1;31m---------------------------------------------------------------------------\u001b[0m",
      "\u001b[1;31mTypeError\u001b[0m                                 Traceback (most recent call last)",
      "Cell \u001b[1;32mIn[35], line 1\u001b[0m\n\u001b[1;32m----> 1\u001b[0m calc1 \u001b[38;5;241m=\u001b[39m FourCal()\n",
      "\u001b[1;31mTypeError\u001b[0m: FourCal.__init__() missing 2 required positional arguments: 'first' and 'second'"
     ]
    }
   ],
   "source": [
    "calc1 = FourCal()   # 초기설정값(init)에 first, second값이 없어서 오류 발생"
   ]
  },
  {
   "cell_type": "code",
   "execution_count": 27,
   "id": "b2d5fad4-30f9-4db6-b0e6-b979e763f2ac",
   "metadata": {},
   "outputs": [],
   "source": [
    "calc1 = FourCal(15, 3)"
   ]
  },
  {
   "cell_type": "code",
   "execution_count": 28,
   "id": "ea7bfb8e-07c3-4f55-b02e-db752e59aa49",
   "metadata": {},
   "outputs": [
    {
     "name": "stdout",
     "output_type": "stream",
     "text": [
      "15\n",
      "3\n"
     ]
    }
   ],
   "source": [
    "print(calc1.first)\n",
    "print(calc1.second)"
   ]
  },
  {
   "cell_type": "code",
   "execution_count": 34,
   "id": "2cf1c101-fbf1-40bf-a1c1-3e8d262b27d1",
   "metadata": {},
   "outputs": [
    {
     "name": "stdout",
     "output_type": "stream",
     "text": [
      "15 + 3 = 18\n",
      "15 - 3 = 12\n",
      "15 * 3 = 45\n",
      "15 / 3 = 5.0\n"
     ]
    }
   ],
   "source": [
    "print('%d + %d ='%(calc1.first, calc1.second),calc1.add())\n",
    "print('%d - %d ='%(calc1.first, calc1.second),calc1.sub())\n",
    "print('%d * %d ='%(calc1.first, calc1.second),calc1.mul())\n",
    "print('%d / %d ='%(calc1.first, calc1.second),calc1.div())"
   ]
  },
  {
   "cell_type": "markdown",
   "id": "4b2f0d22-a6a6-470f-9f40-0208ca8e6d51",
   "metadata": {},
   "source": [
    "## 클래스의 상속"
   ]
  },
  {
   "cell_type": "code",
   "execution_count": 36,
   "id": "9eed410f-e111-4f3f-884d-79233d44d5da",
   "metadata": {},
   "outputs": [],
   "source": [
    "class MoreFourCal(FourCal):   # 상속받을 클래스명을 괄호에 넣기\n",
    "    pass"
   ]
  },
  {
   "cell_type": "code",
   "execution_count": 37,
   "id": "577a5798-f38e-4868-8912-4e3049393512",
   "metadata": {},
   "outputs": [
    {
     "name": "stdout",
     "output_type": "stream",
     "text": [
      "6\n",
      "2\n",
      "8\n",
      "2.0\n"
     ]
    }
   ],
   "source": [
    "cal1 = MoreFourCal(4, 2)\n",
    "\n",
    "print(cal1.add())\n",
    "print(cal1.sub())\n",
    "print(cal1.mul())\n",
    "print(cal1.div())"
   ]
  },
  {
   "cell_type": "code",
   "execution_count": 38,
   "id": "0a0556af-7ea8-4c61-8931-d5de250fe58b",
   "metadata": {},
   "outputs": [
    {
     "name": "stdout",
     "output_type": "stream",
     "text": [
      "8\n",
      "-2\n",
      "15\n",
      "0.6\n",
      "243\n"
     ]
    }
   ],
   "source": [
    "# 기본기능 상속 받고, MoreFourCal 고유 기능 추가\n",
    "\n",
    "class MoreFourCal(FourCal):\n",
    "    def pow(self):\n",
    "        result = self.first ** self.second\n",
    "        return result\n",
    "\n",
    "cal2 = MoreFourCal(3, 5)\n",
    "\n",
    "print(cal2.add())\n",
    "print(cal2.sub())\n",
    "print(cal2.mul())\n",
    "print(cal2.div())\n",
    "print(cal2.pow())"
   ]
  },
  {
   "cell_type": "code",
   "execution_count": 40,
   "id": "4dff39c3-f3fa-4284-9c98-561f1acccadf",
   "metadata": {},
   "outputs": [
    {
     "name": "stdout",
     "output_type": "stream",
     "text": [
      "4\n",
      "4\n",
      "0\n"
     ]
    }
   ],
   "source": [
    "cal3 = MoreFourCal(4, 0)\n",
    "\n",
    "print(cal3.add())\n",
    "print(cal3.sub())\n",
    "print(cal3.mul())"
   ]
  },
  {
   "cell_type": "code",
   "execution_count": 42,
   "id": "1b386951-553c-4194-8e57-a83c7c6714e3",
   "metadata": {},
   "outputs": [
    {
     "ename": "ZeroDivisionError",
     "evalue": "division by zero",
     "output_type": "error",
     "traceback": [
      "\u001b[1;31m---------------------------------------------------------------------------\u001b[0m",
      "\u001b[1;31mZeroDivisionError\u001b[0m                         Traceback (most recent call last)",
      "Cell \u001b[1;32mIn[42], line 1\u001b[0m\n\u001b[1;32m----> 1\u001b[0m \u001b[38;5;28mprint\u001b[39m(cal3\u001b[38;5;241m.\u001b[39mdiv())\n",
      "Cell \u001b[1;32mIn[25], line 19\u001b[0m, in \u001b[0;36mFourCal.div\u001b[1;34m(self)\u001b[0m\n\u001b[0;32m     18\u001b[0m \u001b[38;5;28;01mdef\u001b[39;00m\u001b[38;5;250m \u001b[39m\u001b[38;5;21mdiv\u001b[39m(\u001b[38;5;28mself\u001b[39m):\n\u001b[1;32m---> 19\u001b[0m     result \u001b[38;5;241m=\u001b[39m \u001b[38;5;28mself\u001b[39m\u001b[38;5;241m.\u001b[39mfirst \u001b[38;5;241m/\u001b[39m \u001b[38;5;28mself\u001b[39m\u001b[38;5;241m.\u001b[39msecond\n\u001b[0;32m     20\u001b[0m     \u001b[38;5;28;01mreturn\u001b[39;00m result\n",
      "\u001b[1;31mZeroDivisionError\u001b[0m: division by zero"
     ]
    }
   ],
   "source": [
    "print(cal3.div())     #0으로 나눌 수 없기에 오류 발생"
   ]
  },
  {
   "cell_type": "markdown",
   "id": "5b0dac6a-66ca-49fe-b563-51e0b458895b",
   "metadata": {},
   "source": [
    "## 메서드 오버라이딩\n",
    " - 상속받은 기능이 오류가 발생할 가능성이 있을때 덮어쓰기"
   ]
  },
  {
   "cell_type": "code",
   "execution_count": 43,
   "id": "6c4f7346-9270-4a78-b06b-d0f9649727d7",
   "metadata": {},
   "outputs": [],
   "source": [
    "class SafeFourCal(FourCal):\n",
    "    # 상속받은 메서드 재정의(overriding)\n",
    "    def div(self):\n",
    "        if self.second == 0:\n",
    "            return 0\n",
    "        else:\n",
    "            result = self.first / self.second\n",
    "            return result"
   ]
  },
  {
   "cell_type": "code",
   "execution_count": 45,
   "id": "5f5e8997-4066-4327-ac78-f62cfb85b4f0",
   "metadata": {},
   "outputs": [
    {
     "name": "stdout",
     "output_type": "stream",
     "text": [
      "4\n",
      "4\n",
      "0\n",
      "0\n"
     ]
    }
   ],
   "source": [
    "cal3 = SafeFourCal(4, 0)\n",
    "\n",
    "print(cal3.add())\n",
    "print(cal3.sub())\n",
    "print(cal3.mul())\n",
    "print(cal3.div())"
   ]
  },
  {
   "cell_type": "markdown",
   "id": "5b1554af-df45-4578-a598-26261a2fb0ab",
   "metadata": {},
   "source": [
    "## 클래스 변수"
   ]
  },
  {
   "cell_type": "code",
   "execution_count": 46,
   "id": "61b18236-551b-430b-a961-017e85f1956b",
   "metadata": {},
   "outputs": [],
   "source": [
    "class Family:\n",
    "    lastname = '김'"
   ]
  },
  {
   "cell_type": "code",
   "execution_count": 47,
   "id": "87056850-f964-4381-b0bf-eba21f756410",
   "metadata": {},
   "outputs": [
    {
     "name": "stdout",
     "output_type": "stream",
     "text": [
      "김\n"
     ]
    }
   ],
   "source": [
    "print(Family.lastname)"
   ]
  },
  {
   "cell_type": "code",
   "execution_count": 48,
   "id": "5a81c832-bc07-4cba-9eeb-cfcf8b5b6faf",
   "metadata": {},
   "outputs": [
    {
     "name": "stdout",
     "output_type": "stream",
     "text": [
      "김\n",
      "김\n"
     ]
    }
   ],
   "source": [
    "a = Family()\n",
    "b = Family()\n",
    "\n",
    "print(a.lastname)\n",
    "print(b.lastname)"
   ]
  },
  {
   "cell_type": "code",
   "execution_count": 50,
   "id": "8fbf102e-7fe2-4e98-b311-f1091051dfe8",
   "metadata": {},
   "outputs": [
    {
     "name": "stdout",
     "output_type": "stream",
     "text": [
      "박\n",
      "박\n"
     ]
    }
   ],
   "source": [
    "Family.lastname = '박'\n",
    "# Family.lastname => 클래스 변수\n",
    "# 클래스 변수를 변경하면 인스턴스 변수도 변경\n",
    "\n",
    "print(a.lastname)\n",
    "print(b.lastname)"
   ]
  },
  {
   "cell_type": "code",
   "execution_count": 53,
   "id": "b9c6ab64-a50e-4273-a613-f6821e15f902",
   "metadata": {},
   "outputs": [
    {
     "name": "stdout",
     "output_type": "stream",
     "text": [
      "최\n",
      "박\n"
     ]
    }
   ],
   "source": [
    "# 인스턴스 변수만 변경\n",
    "\n",
    "a.lastname = '최'\n",
    "\n",
    "print(a.lastname)   # 인스턴스 변수만 변경 시 클래스 변수에 영향 X (해당 인스턴스만 변경)\n",
    "print(b.lastname)"
   ]
  },
  {
   "cell_type": "code",
   "execution_count": null,
   "id": "74081fe5-9fa5-4a58-812d-29290e2e3fd6",
   "metadata": {},
   "outputs": [],
   "source": []
  }
 ],
 "metadata": {
  "kernelspec": {
   "display_name": "Python [conda env:base] *",
   "language": "python",
   "name": "conda-base-py"
  },
  "language_info": {
   "codemirror_mode": {
    "name": "ipython",
    "version": 3
   },
   "file_extension": ".py",
   "mimetype": "text/x-python",
   "name": "python",
   "nbconvert_exporter": "python",
   "pygments_lexer": "ipython3",
   "version": "3.13.5"
  }
 },
 "nbformat": 4,
 "nbformat_minor": 5
}
