{
 "cells": [
  {
   "cell_type": "markdown",
   "id": "56d790d1-ff23-446a-8a67-6eb7ba3adaf7",
   "metadata": {},
   "source": [
    "# 4 변수"
   ]
  },
  {
   "cell_type": "markdown",
   "id": "fe219268-6012-48df-a403-122a8166f38a",
   "metadata": {
    "jp-MarkdownHeadingCollapsed": true
   },
   "source": [
    "## 변수란?"
   ]
  },
  {
   "cell_type": "code",
   "execution_count": 1,
   "id": "30402a10-0187-4966-ab8b-91474d70c069",
   "metadata": {},
   "outputs": [
    {
     "data": {
      "text/plain": [
       "2442131298304"
      ]
     },
     "execution_count": 1,
     "metadata": {},
     "output_type": "execute_result"
    }
   ],
   "source": [
    "# id() ; 주소값을 반한화는 함수\n",
    "\n",
    "a = [1, 2, 3]\n",
    "id(a)"
   ]
  },
  {
   "cell_type": "markdown",
   "id": "21f4b84a-2378-413a-b991-c127afa38ef9",
   "metadata": {
    "jp-MarkdownHeadingCollapsed": true
   },
   "source": [
    "## 리스트를 복사하는 방법"
   ]
  },
  {
   "cell_type": "code",
   "execution_count": 3,
   "id": "19a4cd71-40bb-4e5c-b65c-4cb353491544",
   "metadata": {},
   "outputs": [
    {
     "name": "stdout",
     "output_type": "stream",
     "text": [
      "[1, 2, 3]\n",
      "2442131298304\n",
      "2442131298304\n"
     ]
    }
   ],
   "source": [
    "b = a\n",
    "print(b)\n",
    "print(id(a))\n",
    "print(id(b))"
   ]
  },
  {
   "cell_type": "code",
   "execution_count": 4,
   "id": "fcdcff6a-ec9f-4f05-ab8f-35ea8ad12ce0",
   "metadata": {},
   "outputs": [],
   "source": [
    "a[1] = 4"
   ]
  },
  {
   "cell_type": "code",
   "execution_count": 5,
   "id": "cdd5b41c-f403-44d6-aa7d-8b43bb4d4e9c",
   "metadata": {},
   "outputs": [
    {
     "name": "stdout",
     "output_type": "stream",
     "text": [
      "[1, 4, 3]\n",
      "[1, 4, 3]\n"
     ]
    }
   ],
   "source": [
    "print(a)\n",
    "print(b)"
   ]
  },
  {
   "cell_type": "code",
   "execution_count": 6,
   "id": "7d87f80d-4abc-4979-bf26-0113c93a7645",
   "metadata": {},
   "outputs": [
    {
     "name": "stdout",
     "output_type": "stream",
     "text": [
      "True\n"
     ]
    }
   ],
   "source": [
    "print(a is b)   # a가 b인지 확인결과(is) true로 반환 -> 리스트 복사시 위와 같이 =으로 복사하면 추후 값 변경시 두개 모두 변경됨"
   ]
  },
  {
   "cell_type": "markdown",
   "id": "a3a3ac59-6080-413e-afea-5432db2f8b16",
   "metadata": {},
   "source": [
    "### b변수 생성할 때 a 변수의 값을 가져오면 a와는 다른 주소를 가르키도록 하려면?"
   ]
  },
  {
   "cell_type": "code",
   "execution_count": 10,
   "id": "6fd04457-e759-423a-b96d-62ce90f62629",
   "metadata": {},
   "outputs": [
    {
     "name": "stdout",
     "output_type": "stream",
     "text": [
      "[1, 2, 3]\n",
      "[1, 2, 3]\n",
      "2442131350784\n",
      "2442130880448\n",
      "False\n"
     ]
    }
   ],
   "source": [
    "# [:] 이용하기\n",
    "\n",
    "a = [1, 2, 3]\n",
    "b = a[:]\n",
    "\n",
    "print(a)\n",
    "print(b)\n",
    "\n",
    "print(id(a))\n",
    "print(id(b))\n",
    "\n",
    "print(a is b)"
   ]
  },
  {
   "cell_type": "code",
   "execution_count": 11,
   "id": "08223e48-b502-492e-a054-4358e24c26cb",
   "metadata": {},
   "outputs": [
    {
     "name": "stdout",
     "output_type": "stream",
     "text": [
      "[1, 2, 3]\n",
      "[1, 2, 3]\n",
      "2442131409984\n",
      "2442131411584\n",
      "False\n"
     ]
    }
   ],
   "source": [
    "# copy 모듈 이용하기\n",
    "\n",
    "from copy import copy\n",
    "a = [1, 2, 3]\n",
    "b = copy(a)\n",
    "\n",
    "print(a)\n",
    "print(b)\n",
    "\n",
    "print(id(a))\n",
    "print(id(b))\n",
    "\n",
    "print(a is b)"
   ]
  },
  {
   "cell_type": "code",
   "execution_count": 12,
   "id": "44308209-2e90-4e32-ae20-7ac61776926e",
   "metadata": {},
   "outputs": [
    {
     "name": "stdout",
     "output_type": "stream",
     "text": [
      "[1, 2, 5]\n",
      "[1, 2, 3]\n"
     ]
    }
   ],
   "source": [
    "a[2] = 5\n",
    "print(a)\n",
    "print(b)"
   ]
  },
  {
   "cell_type": "code",
   "execution_count": 13,
   "id": "f3d06132-ecab-463c-8e06-929b49e20383",
   "metadata": {},
   "outputs": [
    {
     "name": "stdout",
     "output_type": "stream",
     "text": [
      "[1, 2, 3, 4]\n",
      "[1, 2, 3, 4]\n",
      "False\n"
     ]
    }
   ],
   "source": [
    "a = [1, 2, 3, 4]\n",
    "b = a.copy()\n",
    "print(a)\n",
    "print(b)\n",
    "print(a is b)"
   ]
  },
  {
   "cell_type": "markdown",
   "id": "ad7372b7-6a66-4396-a999-1e29c51c6ce8",
   "metadata": {
    "jp-MarkdownHeadingCollapsed": true
   },
   "source": [
    "## 변수 만드는 여러가지 방법"
   ]
  },
  {
   "cell_type": "code",
   "execution_count": 27,
   "id": "98ee6a60-4481-4caf-ae9a-54b910e9cdc9",
   "metadata": {},
   "outputs": [
    {
     "name": "stdout",
     "output_type": "stream",
     "text": [
      "life\n",
      "python\n"
     ]
    }
   ],
   "source": [
    "# 튜플로 만들기\n",
    "\n",
    "a, b = {'python', 'life'}\n",
    "\n",
    "print(a)\n",
    "print(b)"
   ]
  },
  {
   "cell_type": "code",
   "execution_count": 20,
   "id": "c1d1df3f-f4e1-4da1-abe4-191d03b3eae5",
   "metadata": {},
   "outputs": [
    {
     "name": "stdout",
     "output_type": "stream",
     "text": [
      "python\n",
      "python\n",
      "2441992857920\n",
      "2441992857920\n"
     ]
    }
   ],
   "source": [
    "# 여러 개 변수에 같은 값 대임   /  같은 주소 값 공유\n",
    "\n",
    "a = b = 'python'\n",
    "\n",
    "print(a)\n",
    "print(b)\n",
    "\n",
    "print(id(a))\n",
    "print(id(b))"
   ]
  },
  {
   "cell_type": "code",
   "execution_count": 21,
   "id": "a046e522-b416-4e83-8e20-589f87d795a0",
   "metadata": {},
   "outputs": [
    {
     "name": "stdout",
     "output_type": "stream",
     "text": [
      "[1, 2, 3]\n",
      "[1, 2, 3]\n",
      "2442131418880\n",
      "2442131418880\n"
     ]
    }
   ],
   "source": [
    "a = b = [1, 2, 3]\n",
    "\n",
    "print(a)\n",
    "print(b)\n",
    "\n",
    "print(id(a))\n",
    "print(id(b))"
   ]
  },
  {
   "cell_type": "code",
   "execution_count": 24,
   "id": "b4654132-37a2-44b3-abb9-5be41342221b",
   "metadata": {},
   "outputs": [
    {
     "name": "stdout",
     "output_type": "stream",
     "text": [
      "5\n",
      "3\n"
     ]
    }
   ],
   "source": [
    "# 두 변수의 값 바꾸기\n",
    "\n",
    "a = 3\n",
    "b = 5\n",
    "\n",
    "a,b = b,a\n",
    "\n",
    "print(a)\n",
    "print(b)"
   ]
  },
  {
   "cell_type": "code",
   "execution_count": null,
   "id": "7a259b39-410c-48c0-882f-22987bdd86c0",
   "metadata": {},
   "outputs": [],
   "source": []
  }
 ],
 "metadata": {
  "kernelspec": {
   "display_name": "Python [conda env:base] *",
   "language": "python",
   "name": "conda-base-py"
  },
  "language_info": {
   "codemirror_mode": {
    "name": "ipython",
    "version": 3
   },
   "file_extension": ".py",
   "mimetype": "text/x-python",
   "name": "python",
   "nbconvert_exporter": "python",
   "pygments_lexer": "ipython3",
   "version": "3.13.5"
  }
 },
 "nbformat": 4,
 "nbformat_minor": 5
}
