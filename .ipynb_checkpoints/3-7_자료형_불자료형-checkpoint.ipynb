{
 "cells": [
  {
   "cell_type": "markdown",
   "id": "2cbfb001-6501-4f72-aed1-a1aec4e097c0",
   "metadata": {},
   "source": [
    "# 3-7 자료형-불자료형"
   ]
  },
  {
   "cell_type": "markdown",
   "id": "f5449a31-7f79-4d89-83f6-1d77590346bf",
   "metadata": {},
   "source": [
    "## 불 자료형은 어떻게 사용할까?"
   ]
  },
  {
   "cell_type": "code",
   "execution_count": 3,
   "id": "74180fa2-d09d-4929-bf8d-c846ff013e0d",
   "metadata": {},
   "outputs": [
    {
     "name": "stdout",
     "output_type": "stream",
     "text": [
      "True False\n"
     ]
    }
   ],
   "source": [
    "# 변수에 불 자료형 지정\n",
    "\n",
    "a = True\n",
    "b = False\n",
    "\n",
    "print(a, b)"
   ]
  },
  {
   "cell_type": "code",
   "execution_count": 4,
   "id": "62d8f0ef-adb4-4ebe-85d4-931c92170816",
   "metadata": {},
   "outputs": [
    {
     "name": "stdout",
     "output_type": "stream",
     "text": [
      "True\n",
      "False\n",
      "False\n",
      "True\n"
     ]
    }
   ],
   "source": [
    "# 불 자료형은 조건문의 리턴값으로 사용됨\n",
    "\n",
    "print(1==1)\n",
    "print(1==2)\n",
    "print(1>12)\n",
    "print(12>1)"
   ]
  },
  {
   "cell_type": "markdown",
   "id": "c1a88b09-8381-40d2-9d34-410c7e29e132",
   "metadata": {},
   "source": [
    "## 자료형의 참 / 거짓"
   ]
  },
  {
   "cell_type": "code",
   "execution_count": 7,
   "id": "4707ec2b-81c3-48f5-a4a8-c251ed70528c",
   "metadata": {},
   "outputs": [
    {
     "name": "stdout",
     "output_type": "stream",
     "text": [
      "4\n",
      "3\n",
      "2\n",
      "1\n"
     ]
    }
   ],
   "source": [
    "a = [1, 2, 3, 4]\n",
    "\n",
    "while a:\n",
    "    print(a.pop())"
   ]
  },
  {
   "cell_type": "code",
   "execution_count": 8,
   "id": "2a871e8d-fbfc-4d59-a477-0af4e9d9bed6",
   "metadata": {},
   "outputs": [
    {
     "data": {
      "text/plain": [
       "[]"
      ]
     },
     "execution_count": 8,
     "metadata": {},
     "output_type": "execute_result"
    }
   ],
   "source": [
    "a"
   ]
  },
  {
   "cell_type": "code",
   "execution_count": 9,
   "id": "055d1dea-34b6-4bc8-b91a-449659f17aa2",
   "metadata": {},
   "outputs": [
    {
     "data": {
      "text/plain": [
       "False"
      ]
     },
     "execution_count": 9,
     "metadata": {},
     "output_type": "execute_result"
    }
   ],
   "source": [
    "bool(a)"
   ]
  },
  {
   "cell_type": "code",
   "execution_count": 10,
   "id": "f72af27a-b922-45f7-bd6e-13295cb0b169",
   "metadata": {},
   "outputs": [
    {
     "name": "stdout",
     "output_type": "stream",
     "text": [
      "거짓\n"
     ]
    }
   ],
   "source": [
    "if []:\n",
    "    print(\"참\")\n",
    "else:\n",
    "    print(\"거짓\")"
   ]
  },
  {
   "cell_type": "code",
   "execution_count": 11,
   "id": "140e8794-e937-4165-9e74-8648cc7a3134",
   "metadata": {},
   "outputs": [
    {
     "name": "stdout",
     "output_type": "stream",
     "text": [
      "참\n"
     ]
    }
   ],
   "source": [
    "if [1, 2, 3]:\n",
    "    print(\"참\")\n",
    "else:\n",
    "    print(\"거짓\")"
   ]
  },
  {
   "cell_type": "markdown",
   "id": "423e6312-2f62-419b-885f-3faafb612892",
   "metadata": {},
   "source": [
    "## 불 연산"
   ]
  },
  {
   "cell_type": "code",
   "execution_count": 14,
   "id": "c493fa69-4267-4807-a058-edc7a5ba11f6",
   "metadata": {},
   "outputs": [
    {
     "name": "stdout",
     "output_type": "stream",
     "text": [
      "False\n",
      "True\n",
      "False\n",
      "False\n",
      "True\n"
     ]
    }
   ],
   "source": [
    "# bool() : True인지 Faslse이지 식별하는 함수 / 데이터가 있다면 True 없다면 False 반환\n",
    "\n",
    "print(bool(\"\"))\n",
    "print(bool([1, 2]))\n",
    "print(bool([]))\n",
    "print(bool(0))\n",
    "print(bool(3))"
   ]
  },
  {
   "cell_type": "code",
   "execution_count": null,
   "id": "7c57741d-a23b-4bce-bbd0-280ba30ec603",
   "metadata": {},
   "outputs": [],
   "source": []
  }
 ],
 "metadata": {
  "kernelspec": {
   "display_name": "Python [conda env:base] *",
   "language": "python",
   "name": "conda-base-py"
  },
  "language_info": {
   "codemirror_mode": {
    "name": "ipython",
    "version": 3
   },
   "file_extension": ".py",
   "mimetype": "text/x-python",
   "name": "python",
   "nbconvert_exporter": "python",
   "pygments_lexer": "ipython3",
   "version": "3.13.5"
  }
 },
 "nbformat": 4,
 "nbformat_minor": 5
}
