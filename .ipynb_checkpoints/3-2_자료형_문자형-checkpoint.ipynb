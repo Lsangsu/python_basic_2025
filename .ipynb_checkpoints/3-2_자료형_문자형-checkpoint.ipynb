{
 "cells": [
  {
   "cell_type": "markdown",
   "id": "be357de2-772c-4494-968c-8d9a4efc79c5",
   "metadata": {},
   "source": [
    "## 3-2 자료형 - 문자형"
   ]
  },
  {
   "cell_type": "code",
   "execution_count": 2,
   "id": "52cae24f-256c-43f9-8a97-53c8c9a44b12",
   "metadata": {},
   "outputs": [
    {
     "name": "stdout",
     "output_type": "stream",
     "text": [
      "Python's favorite food is perl\n",
      "<class 'str'>\n"
     ]
    }
   ],
   "source": [
    "food=\"Python's favorite food is perl\"\n",
    "print(food)\n",
    "print(type(food))"
   ]
  },
  {
   "cell_type": "code",
   "execution_count": 3,
   "id": "e5f5145f-7e31-4300-9f1a-833354f2c86c",
   "metadata": {},
   "outputs": [
    {
     "ename": "SyntaxError",
     "evalue": "unterminated string literal (detected at line 1) (554620248.py, line 1)",
     "output_type": "error",
     "traceback": [
      "\u001b[1;36m  Cell \u001b[1;32mIn[3], line 1\u001b[1;36m\u001b[0m\n\u001b[1;33m    food='Python's favorite food is perl'\u001b[0m\n\u001b[1;37m                                        ^\u001b[0m\n\u001b[1;31mSyntaxError\u001b[0m\u001b[1;31m:\u001b[0m unterminated string literal (detected at line 1)\n"
     ]
    }
   ],
   "source": [
    "food='Python's favorite food is perl'\n",
    "print(food)\n",
    "print(type(food))"
   ]
  },
  {
   "cell_type": "code",
   "execution_count": 5,
   "id": "6af23535-5030-4549-8b7c-3ddd525673b8",
   "metadata": {},
   "outputs": [
    {
     "name": "stdout",
     "output_type": "stream",
     "text": [
      "Python's favorite food is perl\n",
      "<class 'str'>\n"
     ]
    }
   ],
   "source": [
    "food='Python\\'s favorite food is perl'\n",
    "print(food)\n",
    "print(type(food))"
   ]
  },
  {
   "cell_type": "code",
   "execution_count": 6,
   "id": "0ca23973-2dc0-453c-a701-2ba42a37fc02",
   "metadata": {},
   "outputs": [
    {
     "data": {
      "text/plain": [
       "'\"python is very easy.\"he says.'"
      ]
     },
     "execution_count": 6,
     "metadata": {},
     "output_type": "execute_result"
    }
   ],
   "source": [
    "say='\"python is very easy.\"he says.'\n",
    "say"
   ]
  },
  {
   "cell_type": "code",
   "execution_count": 7,
   "id": "4f76c320-b09e-47ca-84dc-c51717023483",
   "metadata": {},
   "outputs": [
    {
     "name": "stdout",
     "output_type": "stream",
     "text": [
      "\"python is very easy.\"he says.\n"
     ]
    }
   ],
   "source": [
    "print(say)"
   ]
  },
  {
   "cell_type": "code",
   "execution_count": 8,
   "id": "650b9d13-e5ac-4763-aac9-ea976d3f6178",
   "metadata": {},
   "outputs": [
    {
     "ename": "SyntaxError",
     "evalue": "invalid syntax (931094615.py, line 1)",
     "output_type": "error",
     "traceback": [
      "\u001b[1;36m  Cell \u001b[1;32mIn[8], line 1\u001b[1;36m\u001b[0m\n\u001b[1;33m    say=\"\"python is very easy.\"he says.\"\u001b[0m\n\u001b[1;37m          ^\u001b[0m\n\u001b[1;31mSyntaxError\u001b[0m\u001b[1;31m:\u001b[0m invalid syntax\n"
     ]
    }
   ],
   "source": [
    "say=\"\"python is very easy.\"he says.\"\n",
    "say"
   ]
  },
  {
   "cell_type": "code",
   "execution_count": 9,
   "id": "39558055-4297-4876-bd98-2a90153d5414",
   "metadata": {},
   "outputs": [
    {
     "data": {
      "text/plain": [
       "'\"python is very easy.\"he says.'"
      ]
     },
     "execution_count": 9,
     "metadata": {},
     "output_type": "execute_result"
    }
   ],
   "source": [
    "say=\"\\\"python is very easy.\\\"he says.\"\n",
    "say"
   ]
  },
  {
   "cell_type": "markdown",
   "id": "993432ef-fecf-4ecd-8444-34aafd0357fd",
   "metadata": {
    "jp-MarkdownHeadingCollapsed": true
   },
   "source": [
    "### 여러줄 문자열"
   ]
  },
  {
   "cell_type": "code",
   "execution_count": 10,
   "id": "c0e79325-387b-4b4f-b6a0-760d08d93616",
   "metadata": {},
   "outputs": [
    {
     "name": "stdout",
     "output_type": "stream",
     "text": [
      "Life is too short You need python\n"
     ]
    }
   ],
   "source": [
    "multiline = \"Life is too short You need python\"\n",
    "print(multiline)"
   ]
  },
  {
   "cell_type": "code",
   "execution_count": 12,
   "id": "6cb2994a-1ba0-4e98-b1d4-df5b1fa116d6",
   "metadata": {},
   "outputs": [
    {
     "name": "stdout",
     "output_type": "stream",
     "text": [
      "Life is too short\n",
      "You need python\n"
     ]
    }
   ],
   "source": [
    "multiline = \"Life is too short\\nYou need python\"\n",
    "print(multiline)"
   ]
  },
  {
   "cell_type": "code",
   "execution_count": 15,
   "id": "e08dd50a-09a0-45c0-a51e-ad731fc6fcd7",
   "metadata": {},
   "outputs": [
    {
     "name": "stdout",
     "output_type": "stream",
     "text": [
      "\n",
      "Life is too short\n",
      "You need python\n",
      "\n"
     ]
    }
   ],
   "source": [
    "multiline = \"\"\"\n",
    "Life is too short\n",
    "You need python\n",
    "\"\"\"\n",
    "print(multiline)"
   ]
  },
  {
   "cell_type": "code",
   "execution_count": 16,
   "id": "f34a71d5-79a5-4e76-85b4-cf1b58be435b",
   "metadata": {},
   "outputs": [
    {
     "name": "stdout",
     "output_type": "stream",
     "text": [
      "\n",
      "Life is too short\n",
      "You need python\n",
      "\n"
     ]
    }
   ],
   "source": [
    "multiline = '''\n",
    "Life is too short\n",
    "You need python\n",
    "'''\n",
    "print(multiline)"
   ]
  },
  {
   "cell_type": "markdown",
   "id": "58f280d3-b7ba-4c85-86e7-0871c5ace32a",
   "metadata": {
    "jp-MarkdownHeadingCollapsed": true
   },
   "source": [
    "### 문자열 연산"
   ]
  },
  {
   "cell_type": "code",
   "execution_count": 18,
   "id": "4e0d96c5-b29b-47e6-9eee-6bedc838d5eb",
   "metadata": {},
   "outputs": [
    {
     "data": {
      "text/plain": [
       "'Python is fun!'"
      ]
     },
     "execution_count": 18,
     "metadata": {},
     "output_type": "execute_result"
    }
   ],
   "source": [
    "head=\"Python\"\n",
    "tail=\" is fun!\"\n",
    "\n",
    "head+tail"
   ]
  },
  {
   "cell_type": "code",
   "execution_count": 20,
   "id": "4fc9aabf-1f79-4226-a307-a6c9f0638592",
   "metadata": {},
   "outputs": [
    {
     "name": "stdout",
     "output_type": "stream",
     "text": [
      "Python Python \n",
      "Python Python Python \n"
     ]
    }
   ],
   "source": [
    "a=\"Python \"\n",
    "print(a*2)\n",
    "print(a*3)"
   ]
  },
  {
   "cell_type": "code",
   "execution_count": 21,
   "id": "f0f82d4e-794f-4696-aa7c-c7728b13b308",
   "metadata": {},
   "outputs": [
    {
     "name": "stdout",
     "output_type": "stream",
     "text": [
      "==================================================\n",
      "Python\n",
      "==================================================\n"
     ]
    }
   ],
   "source": [
    "print('='*50)\n",
    "print('Python')\n",
    "print('='*50)"
   ]
  },
  {
   "cell_type": "markdown",
   "id": "859f770b-d0e7-425b-91fe-3e2174d9ddb0",
   "metadata": {
    "jp-MarkdownHeadingCollapsed": true
   },
   "source": [
    "### 문자열 길이 구하기"
   ]
  },
  {
   "cell_type": "code",
   "execution_count": 25,
   "id": "4fa73a10-c333-4d75-8fd2-490f1bbff8f2",
   "metadata": {},
   "outputs": [
    {
     "data": {
      "text/plain": [
       "17"
      ]
     },
     "execution_count": 25,
     "metadata": {},
     "output_type": "execute_result"
    }
   ],
   "source": [
    "a=\"Life is too short\"\n",
    "len(a)"
   ]
  },
  {
   "cell_type": "markdown",
   "id": "062f4fd1-eba8-408c-9825-a2072cd2ffcc",
   "metadata": {
    "jp-MarkdownHeadingCollapsed": true
   },
   "source": [
    "### 문자열 인덱싱"
   ]
  },
  {
   "cell_type": "code",
   "execution_count": 27,
   "id": "1ba5f263-77d1-43c4-8fd7-151189fdda99",
   "metadata": {},
   "outputs": [],
   "source": [
    "a = \"Life is too short, You need Python\""
   ]
  },
  {
   "cell_type": "code",
   "execution_count": 28,
   "id": "f62edc73-f599-4c93-a8e0-5b5449176a9c",
   "metadata": {},
   "outputs": [
    {
     "data": {
      "text/plain": [
       "'L'"
      ]
     },
     "execution_count": 28,
     "metadata": {},
     "output_type": "execute_result"
    }
   ],
   "source": [
    "a[0]"
   ]
  },
  {
   "cell_type": "code",
   "execution_count": 29,
   "id": "b5239f37-b695-4d69-aa58-88cc748f6dc2",
   "metadata": {},
   "outputs": [
    {
     "data": {
      "text/plain": [
       "'i'"
      ]
     },
     "execution_count": 29,
     "metadata": {},
     "output_type": "execute_result"
    }
   ],
   "source": [
    "a[5]"
   ]
  },
  {
   "cell_type": "code",
   "execution_count": 30,
   "id": "06b8f09d-694e-4b15-8d37-db72880d2355",
   "metadata": {},
   "outputs": [
    {
     "data": {
      "text/plain": [
       "34"
      ]
     },
     "execution_count": 30,
     "metadata": {},
     "output_type": "execute_result"
    }
   ],
   "source": [
    "len(a)"
   ]
  },
  {
   "cell_type": "code",
   "execution_count": 31,
   "id": "d3852796-98e6-499c-a29a-45976e92b8f1",
   "metadata": {},
   "outputs": [
    {
     "data": {
      "text/plain": [
       "'n'"
      ]
     },
     "execution_count": 31,
     "metadata": {},
     "output_type": "execute_result"
    }
   ],
   "source": [
    "a[33]"
   ]
  },
  {
   "cell_type": "code",
   "execution_count": 35,
   "id": "e4f0b634-35f5-43a2-8b2b-d52fe5af54db",
   "metadata": {},
   "outputs": [
    {
     "data": {
      "text/plain": [
       "'n'"
      ]
     },
     "execution_count": 35,
     "metadata": {},
     "output_type": "execute_result"
    }
   ],
   "source": [
    "a[-1]   # 뒤에서 부터 찾기(뒤에서 첫번째)"
   ]
  },
  {
   "cell_type": "code",
   "execution_count": 36,
   "id": "5df7f745-1cd6-438c-88d8-7cdaf86e86c9",
   "metadata": {},
   "outputs": [
    {
     "data": {
      "text/plain": [
       "'o'"
      ]
     },
     "execution_count": 36,
     "metadata": {},
     "output_type": "execute_result"
    }
   ],
   "source": [
    "a[-2]   # 뒤에서 두번째"
   ]
  },
  {
   "cell_type": "markdown",
   "id": "96df950b-8528-4a98-b2b5-2679e17b793c",
   "metadata": {
    "jp-MarkdownHeadingCollapsed": true
   },
   "source": [
    "### 문자열 슬라이싱"
   ]
  },
  {
   "cell_type": "code",
   "execution_count": 38,
   "id": "c6c11f07-3c28-40ae-8b23-f882bf8446b4",
   "metadata": {},
   "outputs": [
    {
     "name": "stdout",
     "output_type": "stream",
     "text": [
      "Life\n"
     ]
    }
   ],
   "source": [
    "b = a[0] + a[1] + a[2] + a[3]\n",
    "print(b)"
   ]
  },
  {
   "cell_type": "code",
   "execution_count": 42,
   "id": "63674d92-1e37-434f-8100-b68fe77c0dc1",
   "metadata": {},
   "outputs": [
    {
     "data": {
      "text/plain": [
       "'Life'"
      ]
     },
     "execution_count": 42,
     "metadata": {},
     "output_type": "execute_result"
    }
   ],
   "source": [
    "a[0:4]"
   ]
  },
  {
   "cell_type": "code",
   "execution_count": 43,
   "id": "65c70f7d-6673-4643-bc57-a2ba92d9739e",
   "metadata": {},
   "outputs": [
    {
     "data": {
      "text/plain": [
       "'short'"
      ]
     },
     "execution_count": 43,
     "metadata": {},
     "output_type": "execute_result"
    }
   ],
   "source": [
    "a[12:17]"
   ]
  },
  {
   "cell_type": "code",
   "execution_count": 44,
   "id": "2ee72f55-5134-47e1-9007-988318e14011",
   "metadata": {},
   "outputs": [
    {
     "data": {
      "text/plain": [
       "'need'"
      ]
     },
     "execution_count": 44,
     "metadata": {},
     "output_type": "execute_result"
    }
   ],
   "source": [
    "a[23:27]"
   ]
  },
  {
   "cell_type": "code",
   "execution_count": 45,
   "id": "8cb6bb2c-b13d-49a6-9be9-5f9f5e92c179",
   "metadata": {},
   "outputs": [
    {
     "data": {
      "text/plain": [
       "'need '"
      ]
     },
     "execution_count": 45,
     "metadata": {},
     "output_type": "execute_result"
    }
   ],
   "source": [
    "a[23:28]"
   ]
  },
  {
   "cell_type": "code",
   "execution_count": 46,
   "id": "cc4c2ffb-e848-4101-9e9a-dcbaa389ef0a",
   "metadata": {},
   "outputs": [
    {
     "data": {
      "text/plain": [
       "'Python'"
      ]
     },
     "execution_count": 46,
     "metadata": {},
     "output_type": "execute_result"
    }
   ],
   "source": [
    "a[28:34]"
   ]
  },
  {
   "cell_type": "code",
   "execution_count": 48,
   "id": "a50381fd-763e-4bc0-b7a0-3800bcda89eb",
   "metadata": {},
   "outputs": [
    {
     "data": {
      "text/plain": [
       "'Python'"
      ]
     },
     "execution_count": 48,
     "metadata": {},
     "output_type": "execute_result"
    }
   ],
   "source": [
    "a[28:]   # 28번부터 끝까지"
   ]
  },
  {
   "cell_type": "code",
   "execution_count": 49,
   "id": "a42a5908-1ee6-410f-a035-0a5b888dabf1",
   "metadata": {},
   "outputs": [
    {
     "data": {
      "text/plain": [
       "'Life'"
      ]
     },
     "execution_count": 49,
     "metadata": {},
     "output_type": "execute_result"
    }
   ],
   "source": [
    "a[:4]   # 처음부터 4까지"
   ]
  },
  {
   "cell_type": "code",
   "execution_count": 50,
   "id": "39a93bed-9614-47a5-9b09-dff4c2ffb9ca",
   "metadata": {},
   "outputs": [
    {
     "name": "stdout",
     "output_type": "stream",
     "text": [
      "<class 'str'>\n"
     ]
    }
   ],
   "source": [
    "a=\"20250819\"\n",
    "print(type(a))"
   ]
  },
  {
   "cell_type": "markdown",
   "id": "7fcc2ff5-ccd7-478f-b4d0-22c631e4f502",
   "metadata": {
    "jp-MarkdownHeadingCollapsed": true
   },
   "source": [
    "### Pithon 문자열을 Python으로 바꾸려면?"
   ]
  },
  {
   "cell_type": "code",
   "execution_count": 1,
   "id": "b86cad67-8f9e-4392-9e37-af2c68668017",
   "metadata": {},
   "outputs": [
    {
     "data": {
      "text/plain": [
       "'i'"
      ]
     },
     "execution_count": 1,
     "metadata": {},
     "output_type": "execute_result"
    }
   ],
   "source": [
    "a=\"Pithon\"\n",
    "a[1]"
   ]
  },
  {
   "cell_type": "code",
   "execution_count": 2,
   "id": "46bce592-5507-42a8-8dae-71c1713c91af",
   "metadata": {},
   "outputs": [
    {
     "ename": "TypeError",
     "evalue": "'str' object does not support item assignment",
     "output_type": "error",
     "traceback": [
      "\u001b[1;31m---------------------------------------------------------------------------\u001b[0m",
      "\u001b[1;31mTypeError\u001b[0m                                 Traceback (most recent call last)",
      "Cell \u001b[1;32mIn[2], line 1\u001b[0m\n\u001b[1;32m----> 1\u001b[0m a[\u001b[38;5;241m1\u001b[39m]\u001b[38;5;241m=\u001b[39m\u001b[38;5;124m\"\u001b[39m\u001b[38;5;124my\u001b[39m\u001b[38;5;124m\"\u001b[39m\n",
      "\u001b[1;31mTypeError\u001b[0m: 'str' object does not support item assignment"
     ]
    }
   ],
   "source": [
    "a[1]=\"y\"   #문자에서 한 단어만 바꾸는건 불가"
   ]
  },
  {
   "cell_type": "code",
   "execution_count": 3,
   "id": "ecdc6f67-3dc2-406d-a5a6-52ba13f661b9",
   "metadata": {},
   "outputs": [
    {
     "name": "stdout",
     "output_type": "stream",
     "text": [
      "def\n"
     ]
    }
   ],
   "source": [
    "b=\"abc\"\n",
    "b=\"def\"\n",
    "print(b)"
   ]
  },
  {
   "cell_type": "code",
   "execution_count": 5,
   "id": "4ef839b5-37bd-49f8-a888-7e32957639dd",
   "metadata": {},
   "outputs": [
    {
     "name": "stdout",
     "output_type": "stream",
     "text": [
      "Python\n"
     ]
    }
   ],
   "source": [
    "b = a[0]+\"y\"+a[2:]\n",
    "print(b)"
   ]
  },
  {
   "cell_type": "markdown",
   "id": "f72679b6-6396-4c95-9445-117d847f5dec",
   "metadata": {},
   "source": [
    "### 문자열 포매팅"
   ]
  },
  {
   "cell_type": "code",
   "execution_count": 6,
   "id": "4fa24f56-9edc-487d-9d71-8bdb2809ce99",
   "metadata": {},
   "outputs": [
    {
     "data": {
      "text/plain": [
       "'i eat 2 aaples'"
      ]
     },
     "execution_count": 6,
     "metadata": {},
     "output_type": "execute_result"
    }
   ],
   "source": [
    "\"i eat %d aaples\"  %2"
   ]
  },
  {
   "cell_type": "code",
   "execution_count": 7,
   "id": "22e6113b-d07c-436e-b352-67fc31b76af2",
   "metadata": {},
   "outputs": [
    {
     "ename": "TypeError",
     "evalue": "%d format: a real number is required, not str",
     "output_type": "error",
     "traceback": [
      "\u001b[1;31m---------------------------------------------------------------------------\u001b[0m",
      "\u001b[1;31mTypeError\u001b[0m                                 Traceback (most recent call last)",
      "Cell \u001b[1;32mIn[7], line 1\u001b[0m\n\u001b[1;32m----> 1\u001b[0m \u001b[38;5;124m\"\u001b[39m\u001b[38;5;124mi eat \u001b[39m\u001b[38;5;132;01m%d\u001b[39;00m\u001b[38;5;124m aaples\u001b[39m\u001b[38;5;124m\"\u001b[39m  \u001b[38;5;241m%\u001b[39m\u001b[38;5;124m\"\u001b[39m\u001b[38;5;124mtwo\u001b[39m\u001b[38;5;124m\"\u001b[39m\n",
      "\u001b[1;31mTypeError\u001b[0m: %d format: a real number is required, not str"
     ]
    }
   ],
   "source": [
    "\"i eat %d aaples\"  %\"two\"   # %d는 정수값을 입력하기 때문에 문자를 입력시 오류 발생"
   ]
  },
  {
   "cell_type": "code",
   "execution_count": 8,
   "id": "a98a2507-3699-49c8-a8d4-df4327d9452e",
   "metadata": {},
   "outputs": [
    {
     "data": {
      "text/plain": [
       "'i eat two aaples'"
      ]
     },
     "execution_count": 8,
     "metadata": {},
     "output_type": "execute_result"
    }
   ],
   "source": [
    "\"i eat %s aaples\"  %\"two\""
   ]
  },
  {
   "cell_type": "code",
   "execution_count": 10,
   "id": "68e3d318-ab68-4ae8-91c8-5afe26c3a2e7",
   "metadata": {},
   "outputs": [
    {
     "data": {
      "text/plain": [
       "'i eat 3 aaples'"
      ]
     },
     "execution_count": 10,
     "metadata": {},
     "output_type": "execute_result"
    }
   ],
   "source": [
    "\"i eat %s aaples\"  %3         #숫자 입력해도 오류가 없지만 3이 정수가 아님 문자열로 입력됨"
   ]
  },
  {
   "cell_type": "code",
   "execution_count": 11,
   "id": "dd027e04-c022-46ae-8869-7791bbaa5b02",
   "metadata": {},
   "outputs": [
    {
     "data": {
      "text/plain": [
       "'i eat 3 aaples'"
      ]
     },
     "execution_count": 11,
     "metadata": {},
     "output_type": "execute_result"
    }
   ],
   "source": [
    "number=3\n",
    "\"i eat %d aaples\"  %number"
   ]
  },
  {
   "cell_type": "code",
   "execution_count": 12,
   "id": "d2ce4f8c-7aeb-489c-a427-ab6f664b3c62",
   "metadata": {},
   "outputs": [
    {
     "data": {
      "text/plain": [
       "'i ate 10 apples, so i was sick for three days'"
      ]
     },
     "execution_count": 12,
     "metadata": {},
     "output_type": "execute_result"
    }
   ],
   "source": [
    "number=10\n",
    "day=\"three\"\n",
    "\"i ate %d apples, so i was sick for %s days\" %(number, day)"
   ]
  },
  {
   "cell_type": "code",
   "execution_count": 14,
   "id": "83b6faef-465f-4e99-b623-589a4a3cf163",
   "metadata": {},
   "outputs": [
    {
     "ename": "ValueError",
     "evalue": "incomplete format",
     "output_type": "error",
     "traceback": [
      "\u001b[1;31m---------------------------------------------------------------------------\u001b[0m",
      "\u001b[1;31mValueError\u001b[0m                                Traceback (most recent call last)",
      "Cell \u001b[1;32mIn[14], line 2\u001b[0m\n\u001b[0;32m      1\u001b[0m \u001b[38;5;66;03m# 포맷코드와 문자%를 같이 사용하기\u001b[39;00m\n\u001b[1;32m----> 2\u001b[0m \u001b[38;5;124m\"\u001b[39m\u001b[38;5;124mError is \u001b[39m\u001b[38;5;132;01m%d\u001b[39;00m\u001b[38;5;124m%\u001b[39m\u001b[38;5;124m.\u001b[39m\u001b[38;5;124m\"\u001b[39m \u001b[38;5;241m%\u001b[39m\u001b[38;5;241m98\u001b[39m\n",
      "\u001b[1;31mValueError\u001b[0m: incomplete format"
     ]
    }
   ],
   "source": [
    "# 포맷코드와 문자%를 같이 사용하기\n",
    "\"Error is %d%.\" %98"
   ]
  },
  {
   "cell_type": "code",
   "execution_count": 17,
   "id": "f60e50cd-82a1-4e5d-b391-a21d04f4173b",
   "metadata": {},
   "outputs": [
    {
     "data": {
      "text/plain": [
       "'Error is 98%.'"
      ]
     },
     "execution_count": 17,
     "metadata": {},
     "output_type": "execute_result"
    }
   ],
   "source": [
    "\"Error is %d%%.\" %98"
   ]
  },
  {
   "cell_type": "code",
   "execution_count": 20,
   "id": "c4a5bdd4-fd01-4107-823c-0a6db287dba5",
   "metadata": {},
   "outputs": [],
   "source": [
    "a = \"%10s\" %\"hi\""
   ]
  },
  {
   "cell_type": "code",
   "execution_count": 21,
   "id": "2350f6f8-3f41-4c3f-98ce-810e95c9f0ea",
   "metadata": {},
   "outputs": [
    {
     "name": "stdout",
     "output_type": "stream",
     "text": [
      "        hi\n"
     ]
    },
    {
     "data": {
      "text/plain": [
       "10"
      ]
     },
     "execution_count": 21,
     "metadata": {},
     "output_type": "execute_result"
    }
   ],
   "source": [
    "print(a)\n",
    "len(a)"
   ]
  },
  {
   "cell_type": "code",
   "execution_count": 22,
   "id": "a9c0265c-ea76-44c6-8662-ddb57231d43d",
   "metadata": {},
   "outputs": [
    {
     "data": {
      "text/plain": [
       "'hi        '"
      ]
     },
     "execution_count": 22,
     "metadata": {},
     "output_type": "execute_result"
    }
   ],
   "source": [
    "a = \"%-10s\" %\"hi\"\n",
    "a"
   ]
  },
  {
   "cell_type": "code",
   "execution_count": 23,
   "id": "99d12921-0752-49cd-9910-69ea2fe16881",
   "metadata": {},
   "outputs": [
    {
     "data": {
      "text/plain": [
       "10"
      ]
     },
     "execution_count": 23,
     "metadata": {},
     "output_type": "execute_result"
    }
   ],
   "source": [
    "len(a)"
   ]
  },
  {
   "cell_type": "code",
   "execution_count": 24,
   "id": "2a3362e4-dd18-4062-acff-4480bdd0830a",
   "metadata": {},
   "outputs": [
    {
     "data": {
      "text/plain": [
       "'3.1681'"
      ]
     },
     "execution_count": 24,
     "metadata": {},
     "output_type": "execute_result"
    }
   ],
   "source": [
    "\"%0.4f\" %3.168108354"
   ]
  },
  {
   "cell_type": "code",
   "execution_count": 26,
   "id": "f8535c89-e24b-4c1c-85b1-435eb41eb5a1",
   "metadata": {},
   "outputs": [
    {
     "data": {
      "text/plain": [
       "'    3.1681'"
      ]
     },
     "execution_count": 26,
     "metadata": {},
     "output_type": "execute_result"
    }
   ],
   "source": [
    "f = \"%10.4f\" %3.168108354\n",
    "f"
   ]
  },
  {
   "cell_type": "code",
   "execution_count": 27,
   "id": "da716866-c0db-4b79-b679-e22d90559142",
   "metadata": {},
   "outputs": [
    {
     "data": {
      "text/plain": [
       "10"
      ]
     },
     "execution_count": 27,
     "metadata": {},
     "output_type": "execute_result"
    }
   ],
   "source": [
    "len(f)"
   ]
  },
  {
   "cell_type": "markdown",
   "id": "fc725c76-6c11-40f6-8e64-03f4ab2041c7",
   "metadata": {
    "jp-MarkdownHeadingCollapsed": true
   },
   "source": [
    "### format 함수를 사용한 포매팅"
   ]
  },
  {
   "cell_type": "code",
   "execution_count": 28,
   "id": "4486420c-6fc4-4696-a5c9-39fc7007078e",
   "metadata": {},
   "outputs": [
    {
     "data": {
      "text/plain": [
       "'i eat 2 aaples'"
      ]
     },
     "execution_count": 28,
     "metadata": {},
     "output_type": "execute_result"
    }
   ],
   "source": [
    "\"i eat {} aaples\"  .format(2)"
   ]
  },
  {
   "cell_type": "code",
   "execution_count": 31,
   "id": "63a39d0f-c276-4855-be5b-0184259248bf",
   "metadata": {},
   "outputs": [
    {
     "data": {
      "text/plain": [
       "'i eat five aaples'"
      ]
     },
     "execution_count": 31,
     "metadata": {},
     "output_type": "execute_result"
    }
   ],
   "source": [
    "\"i eat {} aaples\" .format(\"five\")"
   ]
  },
  {
   "cell_type": "code",
   "execution_count": 33,
   "id": "dd690417-140e-4144-b70f-02d9f4eecabf",
   "metadata": {},
   "outputs": [
    {
     "data": {
      "text/plain": [
       "'i eat 3 aaples'"
      ]
     },
     "execution_count": 33,
     "metadata": {},
     "output_type": "execute_result"
    }
   ],
   "source": [
    "number=3\n",
    "\"i eat {} aaples\" .format(number)"
   ]
  },
  {
   "cell_type": "code",
   "execution_count": 40,
   "id": "847c63af-be3b-4821-9ae5-ddaf75c6a0e1",
   "metadata": {},
   "outputs": [
    {
     "data": {
      "text/plain": [
       "'I ate 10 apples. so I was sick for three days.'"
      ]
     },
     "execution_count": 40,
     "metadata": {},
     "output_type": "execute_result"
    }
   ],
   "source": [
    "\"I ate {0} apples. so I was sick for {1} days.\".format(10, \"three\")"
   ]
  },
  {
   "cell_type": "code",
   "execution_count": 39,
   "id": "354371eb-b1c0-42ca-b379-87670b78addc",
   "metadata": {},
   "outputs": [
    {
     "data": {
      "text/plain": [
       "'I ate three apples. so I was sick for 10 days.'"
      ]
     },
     "execution_count": 39,
     "metadata": {},
     "output_type": "execute_result"
    }
   ],
   "source": [
    "\"I ate {1} apples. so I was sick for {0} days.\".format(10, \"three\")"
   ]
  },
  {
   "cell_type": "code",
   "execution_count": 34,
   "id": "03ff00e0-5c10-4c22-914d-d35a64ef42db",
   "metadata": {},
   "outputs": [
    {
     "data": {
      "text/plain": [
       "'i ate 10 apples, so i was sick for three days'"
      ]
     },
     "execution_count": 34,
     "metadata": {},
     "output_type": "execute_result"
    }
   ],
   "source": [
    "number=10\n",
    "day=\"three\"\n",
    "\"i ate {} apples, so i was sick for {} days\" .format(number, day)"
   ]
  },
  {
   "cell_type": "code",
   "execution_count": 43,
   "id": "e37edce4-6202-43a0-8a56-7219a13fc3fd",
   "metadata": {},
   "outputs": [
    {
     "data": {
      "text/plain": [
       "'i ate 10 apples, so i was sick for three days'"
      ]
     },
     "execution_count": 43,
     "metadata": {},
     "output_type": "execute_result"
    }
   ],
   "source": [
    "number=10\n",
    "day=\"three\"\n",
    "\"i ate {number} apples, so i was sick for {day} days\" .format(number=number, day=day)"
   ]
  },
  {
   "cell_type": "code",
   "execution_count": 41,
   "id": "1a9f126c-0a3a-47f4-aec3-be44667e7dd9",
   "metadata": {},
   "outputs": [
    {
     "data": {
      "text/plain": [
       "'i ate 10 apples, so i was sick for 3 days'"
      ]
     },
     "execution_count": 41,
     "metadata": {},
     "output_type": "execute_result"
    }
   ],
   "source": [
    "\"i ate {number} apples, so i was sick for {day} days\" .format(number=10, day=3)"
   ]
  },
  {
   "cell_type": "code",
   "execution_count": 44,
   "id": "41a76c63-48ac-4cb2-bca9-18b39e0df8ce",
   "metadata": {},
   "outputs": [
    {
     "data": {
      "text/plain": [
       "'hi        '"
      ]
     },
     "execution_count": 44,
     "metadata": {},
     "output_type": "execute_result"
    }
   ],
   "source": [
    "\"{:10}\" .format(\"hi\")"
   ]
  },
  {
   "cell_type": "code",
   "execution_count": 45,
   "id": "17cc8d3a-9628-461f-8317-3b70b22e5c62",
   "metadata": {},
   "outputs": [
    {
     "data": {
      "text/plain": [
       "'        hi'"
      ]
     },
     "execution_count": 45,
     "metadata": {},
     "output_type": "execute_result"
    }
   ],
   "source": [
    "\"{:>10}\" .format(\"hi\")"
   ]
  },
  {
   "cell_type": "code",
   "execution_count": 46,
   "id": "59461a0b-5357-4356-be3d-a58bf4877f85",
   "metadata": {},
   "outputs": [
    {
     "data": {
      "text/plain": [
       "'    hi    '"
      ]
     },
     "execution_count": 46,
     "metadata": {},
     "output_type": "execute_result"
    }
   ],
   "source": [
    "\"{:^10}\" .format(\"hi\")"
   ]
  },
  {
   "cell_type": "code",
   "execution_count": 47,
   "id": "50fd65c3-3616-4e8b-a684-61c00800b749",
   "metadata": {},
   "outputs": [
    {
     "data": {
      "text/plain": [
       "'~~~~hi~~~~'"
      ]
     },
     "execution_count": 47,
     "metadata": {},
     "output_type": "execute_result"
    }
   ],
   "source": [
    "\"{:~^10}\" .format(\"hi\")"
   ]
  },
  {
   "cell_type": "code",
   "execution_count": 48,
   "id": "ed407cc4-b0cf-42bf-9283-40f73391e2e9",
   "metadata": {},
   "outputs": [
    {
     "data": {
      "text/plain": [
       "'hi!!!!!!!!'"
      ]
     },
     "execution_count": 48,
     "metadata": {},
     "output_type": "execute_result"
    }
   ],
   "source": [
    "\"{:!<10}\" .format(\"hi\")"
   ]
  },
  {
   "cell_type": "code",
   "execution_count": 49,
   "id": "e8942f70-afa0-497b-8678-87241bc74b16",
   "metadata": {},
   "outputs": [
    {
     "data": {
      "text/plain": [
       "'13.4654'"
      ]
     },
     "execution_count": 49,
     "metadata": {},
     "output_type": "execute_result"
    }
   ],
   "source": [
    "\"{:0.4f}\" .format(13.4654168)"
   ]
  },
  {
   "cell_type": "code",
   "execution_count": 58,
   "id": "2682316b-8e6c-45c8-9a96-4c3ffc593b34",
   "metadata": {},
   "outputs": [
    {
     "data": {
      "text/plain": [
       "'    5.6785'"
      ]
     },
     "execution_count": 58,
     "metadata": {},
     "output_type": "execute_result"
    }
   ],
   "source": [
    "\"{:10.4f}\" .format(5.6785490)"
   ]
  },
  {
   "cell_type": "code",
   "execution_count": 54,
   "id": "089f6987-34ef-424d-bf01-66f86b58586d",
   "metadata": {},
   "outputs": [
    {
     "data": {
      "text/plain": [
       "'{and}'"
      ]
     },
     "execution_count": 54,
     "metadata": {},
     "output_type": "execute_result"
    }
   ],
   "source": [
    "\"{{and}}\" .format()"
   ]
  },
  {
   "cell_type": "code",
   "execution_count": 55,
   "id": "1dde3fed-b41a-48c9-a886-e4137b21a3ad",
   "metadata": {},
   "outputs": [
    {
     "data": {
      "text/plain": [
       "'{and}'"
      ]
     },
     "execution_count": 55,
     "metadata": {},
     "output_type": "execute_result"
    }
   ],
   "source": [
    "\"{}\" .format(\"{and}\")"
   ]
  },
  {
   "cell_type": "markdown",
   "id": "23f362c5-c11e-4f94-9275-78f4105a5841",
   "metadata": {
    "jp-MarkdownHeadingCollapsed": true
   },
   "source": [
    "### f문자열 포매팅"
   ]
  },
  {
   "cell_type": "code",
   "execution_count": 60,
   "id": "ddeb9aa3-4330-402b-bebc-bfccfd8e13bf",
   "metadata": {},
   "outputs": [
    {
     "data": {
      "text/plain": [
       "'나의 이름은 이상수입니다. 나이는 30입니다'"
      ]
     },
     "execution_count": 60,
     "metadata": {},
     "output_type": "execute_result"
    }
   ],
   "source": [
    "name=\"이상수\"\n",
    "age=30\n",
    "f\"나의 이름은 {name}입니다. 나이는 {age}입니다\""
   ]
  },
  {
   "cell_type": "code",
   "execution_count": 62,
   "id": "879339c6-0e45-4319-ba8b-d418d58cc20b",
   "metadata": {},
   "outputs": [
    {
     "data": {
      "text/plain": [
       "'나는 내년에 31살이 됩니다'"
      ]
     },
     "execution_count": 62,
     "metadata": {},
     "output_type": "execute_result"
    }
   ],
   "source": [
    "age=30\n",
    "f\"나는 내년에 {age+1}살이 됩니다\""
   ]
  },
  {
   "cell_type": "code",
   "execution_count": 64,
   "id": "b560bdad-c391-4465-9507-a7b4c26e3b29",
   "metadata": {},
   "outputs": [
    {
     "data": {
      "text/plain": [
       "'나의 이름은 이상수입니다. 나이는 30입니다'"
      ]
     },
     "execution_count": 64,
     "metadata": {},
     "output_type": "execute_result"
    }
   ],
   "source": [
    "d={\"name\":\"이상수\", \"age\":30}\n",
    "f\"나의 이름은 {d[\"name\"]}입니다. 나이는 {d[\"age\"]}입니다\""
   ]
  },
  {
   "cell_type": "code",
   "execution_count": 72,
   "id": "1e8e1bbc-8623-44ef-b2fa-744eb8e6b678",
   "metadata": {},
   "outputs": [
    {
     "name": "stdout",
     "output_type": "stream",
     "text": [
      "hi        \n",
      "        hi\n",
      "    hi    \n"
     ]
    }
   ],
   "source": [
    "print(f\"{\"hi\":<10}\")\n",
    "print(f\"{\"hi\":>10}\")\n",
    "print(f\"{\"hi\":^10}\")"
   ]
  },
  {
   "cell_type": "code",
   "execution_count": 71,
   "id": "9489d1d2-1793-4b15-9469-3c1180747031",
   "metadata": {},
   "outputs": [
    {
     "name": "stdout",
     "output_type": "stream",
     "text": [
      "hi!!!!!!!!\n",
      "!!!!!!!!hi\n",
      "!!!!hi!!!!\n"
     ]
    }
   ],
   "source": [
    "print(f\"{\"hi\":!<10}\")\n",
    "print(f\"{\"hi\":!>10}\")\n",
    "print(f\"{\"hi\":!^10}\")"
   ]
  },
  {
   "cell_type": "code",
   "execution_count": 75,
   "id": "307ba580-8668-4ab3-9bdb-1bc2c5ad695c",
   "metadata": {},
   "outputs": [
    {
     "data": {
      "text/plain": [
       "'    1.2346'"
      ]
     },
     "execution_count": 75,
     "metadata": {},
     "output_type": "execute_result"
    }
   ],
   "source": [
    "f\"{1.23456:10.4f}\""
   ]
  },
  {
   "cell_type": "code",
   "execution_count": 77,
   "id": "f78b3e7c-1e2d-4277-8a24-3cd14b392623",
   "metadata": {},
   "outputs": [
    {
     "data": {
      "text/plain": [
       "'{and}'"
      ]
     },
     "execution_count": 77,
     "metadata": {},
     "output_type": "execute_result"
    }
   ],
   "source": [
    "f\"{{and}}\""
   ]
  },
  {
   "cell_type": "markdown",
   "id": "770aa630-20d6-4e78-8e04-3153648409b1",
   "metadata": {
    "jp-MarkdownHeadingCollapsed": true
   },
   "source": [
    "### 문자열 관련 함수들"
   ]
  },
  {
   "cell_type": "code",
   "execution_count": 78,
   "id": "fc3527ba-b4a8-4f47-ab01-49ef836131e1",
   "metadata": {},
   "outputs": [
    {
     "data": {
      "text/plain": [
       "2"
      ]
     },
     "execution_count": 78,
     "metadata": {},
     "output_type": "execute_result"
    }
   ],
   "source": [
    "# count() : 문자열 중 원하는 문자 개수 세기\n",
    "\"hobby\".count(\"b\")"
   ]
  },
  {
   "cell_type": "code",
   "execution_count": 79,
   "id": "eab24994-f18c-40b9-be39-9de7eff6574c",
   "metadata": {},
   "outputs": [
    {
     "data": {
      "text/plain": [
       "2"
      ]
     },
     "execution_count": 79,
     "metadata": {},
     "output_type": "execute_result"
    }
   ],
   "source": [
    "\"asdfwewerbovc\".count(\"w\")"
   ]
  },
  {
   "cell_type": "code",
   "execution_count": 86,
   "id": "ddfab297-4db4-460e-8549-79fa76302cb2",
   "metadata": {},
   "outputs": [
    {
     "data": {
      "text/plain": [
       "7"
      ]
     },
     "execution_count": 86,
     "metadata": {},
     "output_type": "execute_result"
    }
   ],
   "source": [
    "# find() : 위치 찾기 / 원하는 문자가 제일 처음 나오는 위치 반환\n",
    "\"Python is the best choice\".find(\"i\")"
   ]
  },
  {
   "cell_type": "code",
   "execution_count": 84,
   "id": "0b0c90df-7527-493f-bcc2-b90239d364d2",
   "metadata": {},
   "outputs": [
    {
     "data": {
      "text/plain": [
       "-1"
      ]
     },
     "execution_count": 84,
     "metadata": {},
     "output_type": "execute_result"
    }
   ],
   "source": [
    "# 찾는 묹자가 없다면 -1 반환\n",
    "\"Python is the best choice\".find(\"k\")"
   ]
  },
  {
   "cell_type": "code",
   "execution_count": 85,
   "id": "22f79c59-328a-4c87-bd87-3af1f2f1d1fc",
   "metadata": {},
   "outputs": [
    {
     "data": {
      "text/plain": [
       "8"
      ]
     },
     "execution_count": 85,
     "metadata": {},
     "output_type": "execute_result"
    }
   ],
   "source": [
    "# index() : 위치 찾기\n",
    "a=\"Life is too short\"\n",
    "a.index(\"t\")"
   ]
  },
  {
   "cell_type": "code",
   "execution_count": 89,
   "id": "aa18fda2-40fe-4eeb-a051-43a5c2cdf204",
   "metadata": {},
   "outputs": [
    {
     "ename": "ValueError",
     "evalue": "substring not found",
     "output_type": "error",
     "traceback": [
      "\u001b[1;31m---------------------------------------------------------------------------\u001b[0m",
      "\u001b[1;31mValueError\u001b[0m                                Traceback (most recent call last)",
      "Cell \u001b[1;32mIn[89], line 2\u001b[0m\n\u001b[0;32m      1\u001b[0m \u001b[38;5;66;03m# 찾는 묹자가 없다면 오류 발생\u001b[39;00m\n\u001b[1;32m----> 2\u001b[0m a\u001b[38;5;241m.\u001b[39mindex(\u001b[38;5;124m\"\u001b[39m\u001b[38;5;124mk\u001b[39m\u001b[38;5;124m\"\u001b[39m)\n",
      "\u001b[1;31mValueError\u001b[0m: substring not found"
     ]
    }
   ],
   "source": [
    "# 찾는 묹자가 없다면 오류 발생\n",
    "a.index(\"k\")\n",
    "\n",
    "# 오류가 발생시 다음 과정 진행 불가하므로 다른값으로 변환해서 출력하는 find()를 많이 사용"
   ]
  },
  {
   "cell_type": "code",
   "execution_count": 90,
   "id": "7ba81e58-86c0-4643-bf71-6700a06cf6ac",
   "metadata": {},
   "outputs": [
    {
     "data": {
      "text/plain": [
       "'a,b,c,d'"
      ]
     },
     "execution_count": 90,
     "metadata": {},
     "output_type": "execute_result"
    }
   ],
   "source": [
    "# join() : 문자열 삽입\n",
    "\",\".join(\"abcd\")"
   ]
  },
  {
   "cell_type": "code",
   "execution_count": 104,
   "id": "f97ecd25-0894-4633-a438-eda8c8cce303",
   "metadata": {},
   "outputs": [
    {
     "name": "stdout",
     "output_type": "stream",
     "text": [
      "['a', 'b', 'c', 'd']\n",
      "<class 'list'>\n"
     ]
    }
   ],
   "source": [
    "list=[\"a\",\"b\",\"c\",\"d\"]\n",
    "print(list)\n",
    "print(type(list))"
   ]
  },
  {
   "cell_type": "code",
   "execution_count": 105,
   "id": "a8b2b8b0-f8d1-416a-bd6e-e768b92d27ad",
   "metadata": {},
   "outputs": [
    {
     "data": {
      "text/plain": [
       "'abcd'"
      ]
     },
     "execution_count": 105,
     "metadata": {},
     "output_type": "execute_result"
    }
   ],
   "source": [
    "\"\".join(list)"
   ]
  },
  {
   "cell_type": "code",
   "execution_count": 103,
   "id": "f5cea80f-4ce0-4eca-bdc3-858bb2d03b2e",
   "metadata": {},
   "outputs": [
    {
     "name": "stdout",
     "output_type": "stream",
     "text": [
      "a,b,c,d\n",
      "<class 'str'>\n"
     ]
    }
   ],
   "source": [
    "lsit_join = \",\".join(list)\n",
    "print(list_join)\n",
    "print(type(list_join))"
   ]
  },
  {
   "cell_type": "code",
   "execution_count": 97,
   "id": "a64f1181-ece9-4bf2-9b40-19bca97904e3",
   "metadata": {},
   "outputs": [
    {
     "data": {
      "text/plain": [
       "'HI'"
      ]
     },
     "execution_count": 97,
     "metadata": {},
     "output_type": "execute_result"
    }
   ],
   "source": [
    "# upper() : 소문자를 대문자로\n",
    "\"hi\".upper()"
   ]
  },
  {
   "cell_type": "code",
   "execution_count": 98,
   "id": "17a47693-b9d6-4431-b127-b1b8a085fa04",
   "metadata": {},
   "outputs": [
    {
     "data": {
      "text/plain": [
       "'hi'"
      ]
     },
     "execution_count": 98,
     "metadata": {},
     "output_type": "execute_result"
    }
   ],
   "source": [
    "# lower() : 대문자를 소문자로\n",
    "\"HI\".lower()"
   ]
  },
  {
   "cell_type": "code",
   "execution_count": 99,
   "id": "03b5fd44-4a8d-4155-b6f9-286089eac06c",
   "metadata": {},
   "outputs": [
    {
     "data": {
      "text/plain": [
       "'hi  '"
      ]
     },
     "execution_count": 99,
     "metadata": {},
     "output_type": "execute_result"
    }
   ],
   "source": [
    "# lstrip() : 왼쪽 공백 제거\n",
    "\"  hi  \".lstrip()"
   ]
  },
  {
   "cell_type": "code",
   "execution_count": 101,
   "id": "f884c444-89e1-47bb-b34d-5ce89a8113bf",
   "metadata": {},
   "outputs": [
    {
     "data": {
      "text/plain": [
       "'  hi'"
      ]
     },
     "execution_count": 101,
     "metadata": {},
     "output_type": "execute_result"
    }
   ],
   "source": [
    "# rstrip() : 오른쪽 공밷 제거\n",
    "\"  hi  \".rstrip()"
   ]
  },
  {
   "cell_type": "code",
   "execution_count": 102,
   "id": "b267ad43-324f-4016-bf35-8e003d7aa0c7",
   "metadata": {},
   "outputs": [
    {
     "data": {
      "text/plain": [
       "'hi'"
      ]
     },
     "execution_count": 102,
     "metadata": {},
     "output_type": "execute_result"
    }
   ],
   "source": [
    "# strip() : 양쪽 공밷 제거\n",
    "\"  hi  \".strip()"
   ]
  },
  {
   "cell_type": "code",
   "execution_count": 106,
   "id": "8cb800ea-b2e9-4a66-9c04-5a4c022abca7",
   "metadata": {},
   "outputs": [
    {
     "data": {
      "text/plain": [
       "'Your leg is too short'"
      ]
     },
     "execution_count": 106,
     "metadata": {},
     "output_type": "execute_result"
    }
   ],
   "source": [
    "# replace() : 문자열 바꾸기\n",
    "\"Life is too short\".replace(\"Life\", \"Your leg\")"
   ]
  },
  {
   "cell_type": "code",
   "execution_count": 111,
   "id": "16d0ea56-a134-4ec9-b5c4-a5f80d0f6ef4",
   "metadata": {},
   "outputs": [
    {
     "name": "stdout",
     "output_type": "stream",
     "text": [
      "['Life', 'is', 'too', 'short']\n",
      "<class 'list'>\n"
     ]
    }
   ],
   "source": [
    "# split() : 문자열 나누기\n",
    "a = \"Life is too short\"\n",
    "b = a.split()\n",
    "\n",
    "print(b)\n",
    "print(type(b))"
   ]
  },
  {
   "cell_type": "code",
   "execution_count": 109,
   "id": "f6a46547-59b0-4657-9642-624fb402b080",
   "metadata": {},
   "outputs": [
    {
     "data": {
      "text/plain": [
       "['a', 'b', 'c', 'd']"
      ]
     },
     "execution_count": 109,
     "metadata": {},
     "output_type": "execute_result"
    }
   ],
   "source": [
    "c = \"a,b,c,d\"\n",
    "c.split(\",\")"
   ]
  },
  {
   "cell_type": "code",
   "execution_count": 112,
   "id": "caf061b9-d1f7-4d1d-bd31-cf1c60417b11",
   "metadata": {},
   "outputs": [
    {
     "data": {
      "text/plain": [
       "'HI'"
      ]
     },
     "execution_count": 112,
     "metadata": {},
     "output_type": "execute_result"
    }
   ],
   "source": [
    "a = \"hi\"\n",
    "a.upper()"
   ]
  },
  {
   "cell_type": "code",
   "execution_count": 113,
   "id": "747d5371-f6fe-45ee-a3e2-dfbe5e40c5cc",
   "metadata": {},
   "outputs": [
    {
     "data": {
      "text/plain": [
       "'hi'"
      ]
     },
     "execution_count": 113,
     "metadata": {},
     "output_type": "execute_result"
    }
   ],
   "source": [
    "a"
   ]
  },
  {
   "cell_type": "code",
   "execution_count": 114,
   "id": "503ea060-a96c-4b9f-a73e-d30d0fcc6bbd",
   "metadata": {},
   "outputs": [
    {
     "data": {
      "text/plain": [
       "'HI'"
      ]
     },
     "execution_count": 114,
     "metadata": {},
     "output_type": "execute_result"
    }
   ],
   "source": [
    "a = a.upper()\n",
    "a"
   ]
  },
  {
   "cell_type": "code",
   "execution_count": null,
   "id": "49946e21-55f4-402b-ae68-daa2391f1998",
   "metadata": {},
   "outputs": [],
   "source": []
  }
 ],
 "metadata": {
  "kernelspec": {
   "display_name": "Python [conda env:base] *",
   "language": "python",
   "name": "conda-base-py"
  },
  "language_info": {
   "codemirror_mode": {
    "name": "ipython",
    "version": 3
   },
   "file_extension": ".py",
   "mimetype": "text/x-python",
   "name": "python",
   "nbconvert_exporter": "python",
   "pygments_lexer": "ipython3",
   "version": "3.13.5"
  }
 },
 "nbformat": 4,
 "nbformat_minor": 5
}
