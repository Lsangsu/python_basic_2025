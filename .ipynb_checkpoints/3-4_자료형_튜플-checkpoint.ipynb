{
 "cells": [
  {
   "cell_type": "markdown",
   "id": "be850c05-3b3f-465c-a33d-a42ac1b836c9",
   "metadata": {},
   "source": [
    "## 3-4 자료형-튜플"
   ]
  },
  {
   "cell_type": "markdown",
   "id": "9c91b9f5-b12b-4611-a38a-946534f9bbe2",
   "metadata": {
    "jp-MarkdownHeadingCollapsed": true
   },
   "source": [
    "### 튜플의 요솟값을 지우거나 변경하려고 한다면"
   ]
  },
  {
   "cell_type": "code",
   "execution_count": 1,
   "id": "423e28cf-ea00-4a94-9358-bd112a56174c",
   "metadata": {},
   "outputs": [
    {
     "ename": "TypeError",
     "evalue": "'tuple' object doesn't support item deletion",
     "output_type": "error",
     "traceback": [
      "\u001b[1;31m---------------------------------------------------------------------------\u001b[0m",
      "\u001b[1;31mTypeError\u001b[0m                                 Traceback (most recent call last)",
      "Cell \u001b[1;32mIn[1], line 2\u001b[0m\n\u001b[0;32m      1\u001b[0m t1 \u001b[38;5;241m=\u001b[39m (\u001b[38;5;241m1\u001b[39m, \u001b[38;5;241m2\u001b[39m, \u001b[38;5;124m\"\u001b[39m\u001b[38;5;124ma\u001b[39m\u001b[38;5;124m\"\u001b[39m, \u001b[38;5;124m\"\u001b[39m\u001b[38;5;124mb\u001b[39m\u001b[38;5;124m\"\u001b[39m)\n\u001b[1;32m----> 2\u001b[0m \u001b[38;5;28;01mdel\u001b[39;00m t1[\u001b[38;5;241m0\u001b[39m]\n",
      "\u001b[1;31mTypeError\u001b[0m: 'tuple' object doesn't support item deletion"
     ]
    }
   ],
   "source": [
    "t1 = (1, 2, \"a\", \"b\")\n",
    "del t1[0]"
   ]
  },
  {
   "cell_type": "code",
   "execution_count": 2,
   "id": "204f43b5-213b-4406-9d6c-c39582280b41",
   "metadata": {},
   "outputs": [
    {
     "ename": "TypeError",
     "evalue": "'tuple' object does not support item assignment",
     "output_type": "error",
     "traceback": [
      "\u001b[1;31m---------------------------------------------------------------------------\u001b[0m",
      "\u001b[1;31mTypeError\u001b[0m                                 Traceback (most recent call last)",
      "Cell \u001b[1;32mIn[2], line 1\u001b[0m\n\u001b[1;32m----> 1\u001b[0m t1[\u001b[38;5;241m0\u001b[39m] \u001b[38;5;241m=\u001b[39m \u001b[38;5;241m3\u001b[39m\n",
      "\u001b[1;31mTypeError\u001b[0m: 'tuple' object does not support item assignment"
     ]
    }
   ],
   "source": [
    "t1[0] = 3\n",
    "\n",
    "# 튜플은 리스트와 다르게 삭제/수정이 불가하다"
   ]
  },
  {
   "cell_type": "markdown",
   "id": "e1f5cd41-6495-47bd-9e32-750dbb020ea9",
   "metadata": {},
   "source": [
    "### 튜플 다루기"
   ]
  },
  {
   "cell_type": "code",
   "execution_count": 3,
   "id": "7208dff6-d7d5-4849-91d6-b923016b157f",
   "metadata": {},
   "outputs": [
    {
     "name": "stdout",
     "output_type": "stream",
     "text": [
      "1\n",
      "2\n",
      "a\n",
      "b\n"
     ]
    }
   ],
   "source": [
    "# 인덱싱\n",
    "\n",
    "t1 = (1, 2, \"a\", \"b\")\n",
    "print(t1[0])\n",
    "print(t1[1])\n",
    "print(t1[2])\n",
    "print(t1[3])"
   ]
  },
  {
   "cell_type": "code",
   "execution_count": 4,
   "id": "651e5e3b-49c5-476f-b643-b54d2a2737a4",
   "metadata": {},
   "outputs": [
    {
     "data": {
      "text/plain": [
       "(2, 'a')"
      ]
     },
     "execution_count": 4,
     "metadata": {},
     "output_type": "execute_result"
    }
   ],
   "source": [
    "# 슬라이싱\n",
    "\n",
    "t1[1:3]"
   ]
  },
  {
   "cell_type": "code",
   "execution_count": 5,
   "id": "ca8e0181-7d6b-4a18-864a-d89da980376b",
   "metadata": {},
   "outputs": [
    {
     "name": "stdout",
     "output_type": "stream",
     "text": [
      "(1, 2)\n",
      "('a', 'b')\n"
     ]
    }
   ],
   "source": [
    "print(t1[:2])\n",
    "print(t1[2:])"
   ]
  },
  {
   "cell_type": "code",
   "execution_count": 6,
   "id": "4ae3f36d-4f3e-4425-a4dc-eb1af3ff6bc0",
   "metadata": {},
   "outputs": [
    {
     "data": {
      "text/plain": [
       "(1, 2, 'a', 'b', 3, 4)"
      ]
     },
     "execution_count": 6,
     "metadata": {},
     "output_type": "execute_result"
    }
   ],
   "source": [
    "# 튜플 더하기\n",
    "\n",
    "t1 = (1, 2, \"a\", \"b\")\n",
    "t2 = (3, 4)\n",
    "t3 = t1 + t2\n",
    "t3"
   ]
  },
  {
   "cell_type": "code",
   "execution_count": 7,
   "id": "f5ec8d17-ef6a-42c8-98bb-5e51bb7750e2",
   "metadata": {},
   "outputs": [
    {
     "data": {
      "text/plain": [
       "(3, 4, 3, 4)"
      ]
     },
     "execution_count": 7,
     "metadata": {},
     "output_type": "execute_result"
    }
   ],
   "source": [
    "# 튜플 곱하기\n",
    "\n",
    "t3 = t2 * 2\n",
    "t3"
   ]
  },
  {
   "cell_type": "code",
   "execution_count": 8,
   "id": "93578f8c-9c5a-421b-9619-4f0ed4166d98",
   "metadata": {},
   "outputs": [
    {
     "data": {
      "text/plain": [
       "4"
      ]
     },
     "execution_count": 8,
     "metadata": {},
     "output_type": "execute_result"
    }
   ],
   "source": [
    "# 튜플 길이 구하기\n",
    "\n",
    "len(t1)"
   ]
  },
  {
   "cell_type": "code",
   "execution_count": 9,
   "id": "12ecc5e2-0f2f-40b9-8d9b-249733fca734",
   "metadata": {},
   "outputs": [
    {
     "data": {
      "text/plain": [
       "tuple"
      ]
     },
     "execution_count": 9,
     "metadata": {},
     "output_type": "execute_result"
    }
   ],
   "source": [
    "#자료형이 뭔지 모를땐 그냥 무조건적 type 찍어라\n",
    "t4= 1,2,'3'\n",
    "type(t4)"
   ]
  }
 ],
 "metadata": {
  "kernelspec": {
   "display_name": "Python [conda env:base] *",
   "language": "python",
   "name": "conda-base-py"
  },
  "language_info": {
   "codemirror_mode": {
    "name": "ipython",
    "version": 3
   },
   "file_extension": ".py",
   "mimetype": "text/x-python",
   "name": "python",
   "nbconvert_exporter": "python",
   "pygments_lexer": "ipython3",
   "version": "3.13.5"
  }
 },
 "nbformat": 4,
 "nbformat_minor": 5
}
