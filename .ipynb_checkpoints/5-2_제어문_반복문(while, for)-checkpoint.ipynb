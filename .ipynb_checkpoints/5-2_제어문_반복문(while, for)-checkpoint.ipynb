{
 "cells": [
  {
   "cell_type": "markdown",
   "id": "487769ab-5730-4942-abb2-5e63fc76c499",
   "metadata": {},
   "source": [
    "# 5-2 제어문-반복문(while, for)"
   ]
  },
  {
   "cell_type": "markdown",
   "id": "8c52d99d-795c-4430-863e-92264338f57f",
   "metadata": {},
   "source": [
    "## while문"
   ]
  },
  {
   "cell_type": "code",
   "execution_count": 2,
   "id": "0fa6417a-32cd-4596-9e03-66850351f25d",
   "metadata": {},
   "outputs": [
    {
     "name": "stdout",
     "output_type": "stream",
     "text": [
      "나무를 1번 찍었습니다\n",
      "나무를 2번 찍었습니다\n",
      "나무를 3번 찍었습니다\n",
      "나무를 4번 찍었습니다\n",
      "나무를 5번 찍었습니다\n",
      "나무를 6번 찍었습니다\n",
      "나무를 7번 찍었습니다\n",
      "나무를 8번 찍었습니다\n",
      "나무를 9번 찍었습니다\n",
      "나무를 10번 찍었습니다\n",
      "나무가 넘어갔습니다\n"
     ]
    }
   ],
   "source": [
    "# while문은 조건문이 참일동안 반복실행\n",
    "\n",
    "treeHit = 0\n",
    "while treeHit <10:\n",
    "    treeHit += 1               #treeHit = treeHit+1 과 동일\n",
    "    print(\"나무를 %d번 찍었습니다\" %treeHit)\n",
    "    if treeHit ==10:\n",
    "        print(\"나무가 넘어갔습니다\")"
   ]
  },
  {
   "cell_type": "code",
   "execution_count": 5,
   "id": "7a6c1a18-68bc-49df-99fa-586be6191dbf",
   "metadata": {},
   "outputs": [],
   "source": [
    "prompt = \"\"\"\n",
    "1. ADD\n",
    "2. DEL\n",
    "3. LIST\n",
    "4. QUIT\n",
    "\n",
    "enter number = \"\"\""
   ]
  },
  {
   "cell_type": "code",
   "execution_count": 6,
   "id": "eec8f5ef-02a4-4415-a2df-01f0ad54b8cc",
   "metadata": {},
   "outputs": [
    {
     "name": "stdout",
     "output_type": "stream",
     "text": [
      "\n",
      "1. ADD\n",
      "2. DEL\n",
      "3. LIST\n",
      "4. QUIT\n",
      "\n",
      "enter number = \n"
     ]
    },
    {
     "name": "stdin",
     "output_type": "stream",
     "text": [
      " 1\n"
     ]
    },
    {
     "name": "stdout",
     "output_type": "stream",
     "text": [
      "\n",
      "1. ADD\n",
      "2. DEL\n",
      "3. LIST\n",
      "4. QUIT\n",
      "\n",
      "enter number = \n"
     ]
    },
    {
     "name": "stdin",
     "output_type": "stream",
     "text": [
      " 2\n"
     ]
    },
    {
     "name": "stdout",
     "output_type": "stream",
     "text": [
      "\n",
      "1. ADD\n",
      "2. DEL\n",
      "3. LIST\n",
      "4. QUIT\n",
      "\n",
      "enter number = \n"
     ]
    },
    {
     "name": "stdin",
     "output_type": "stream",
     "text": [
      " 3\n"
     ]
    },
    {
     "name": "stdout",
     "output_type": "stream",
     "text": [
      "\n",
      "1. ADD\n",
      "2. DEL\n",
      "3. LIST\n",
      "4. QUIT\n",
      "\n",
      "enter number = \n"
     ]
    },
    {
     "name": "stdin",
     "output_type": "stream",
     "text": [
      " 4\n"
     ]
    }
   ],
   "source": [
    "number = 0\n",
    "\n",
    "while number !=4:\n",
    "    print(prompt)\n",
    "    number = int(input())"
   ]
  },
  {
   "cell_type": "code",
   "execution_count": 7,
   "id": "decfa5c8-e962-49e8-ad98-0fc56163d2a3",
   "metadata": {},
   "outputs": [
    {
     "name": "stdout",
     "output_type": "stream",
     "text": [
      "커피를 드립니다.\n",
      "남은 커피는 9잔 입니다.\n",
      "커피를 드립니다.\n",
      "남은 커피는 8잔 입니다.\n",
      "커피를 드립니다.\n",
      "남은 커피는 7잔 입니다.\n",
      "커피를 드립니다.\n",
      "남은 커피는 6잔 입니다.\n",
      "커피를 드립니다.\n",
      "남은 커피는 5잔 입니다.\n",
      "커피를 드립니다.\n",
      "남은 커피는 4잔 입니다.\n",
      "커피를 드립니다.\n",
      "남은 커피는 3잔 입니다.\n",
      "커피를 드립니다.\n",
      "남은 커피는 2잔 입니다.\n",
      "커피를 드립니다.\n",
      "남은 커피는 1잔 입니다.\n",
      "커피를 드립니다.\n",
      "남은 커피는 0잔 입니다.\n",
      "커피가 없어서 판매 중단합니다.\n"
     ]
    }
   ],
   "source": [
    "# break문 : 반복문 강제로 빠져나가기\n",
    "\n",
    "coffee = 10\n",
    "money = 300\n",
    "\n",
    "while money:\n",
    "    print(\"커피를 드립니다.\")\n",
    "    coffee -= 1\n",
    "    print(\"남은 커피는 %d잔 입니다.\" %coffee)\n",
    "    if coffee ==0:\n",
    "        print(\"커피가 없어서 판매 중단합니다.\")\n",
    "        break"
   ]
  },
  {
   "cell_type": "code",
   "execution_count": 13,
   "id": "3661f7c2-63bf-4732-a151-e3b52b9719d2",
   "metadata": {},
   "outputs": [
    {
     "name": "stdin",
     "output_type": "stream",
     "text": [
      "돈을 넣어주세요:  300\n"
     ]
    },
    {
     "name": "stdout",
     "output_type": "stream",
     "text": [
      "커피를 드립니다.\n"
     ]
    },
    {
     "name": "stdin",
     "output_type": "stream",
     "text": [
      "돈을 넣어주세요:  300\n"
     ]
    },
    {
     "name": "stdout",
     "output_type": "stream",
     "text": [
      "커피를 드립니다.\n"
     ]
    },
    {
     "name": "stdin",
     "output_type": "stream",
     "text": [
      "돈을 넣어주세요:  300\n"
     ]
    },
    {
     "name": "stdout",
     "output_type": "stream",
     "text": [
      "커피를 드립니다.\n"
     ]
    },
    {
     "name": "stdin",
     "output_type": "stream",
     "text": [
      "돈을 넣어주세요:  300\n"
     ]
    },
    {
     "name": "stdout",
     "output_type": "stream",
     "text": [
      "커피를 드립니다.\n"
     ]
    },
    {
     "name": "stdin",
     "output_type": "stream",
     "text": [
      "돈을 넣어주세요:  300\n"
     ]
    },
    {
     "name": "stdout",
     "output_type": "stream",
     "text": [
      "커피를 드립니다.\n",
      "커피가 없어서 판매 중단합니다.\n"
     ]
    }
   ],
   "source": [
    "coffee = 5\n",
    "\n",
    "while True:\n",
    "    money = int(input(\"돈을 넣어주세요: \"))\n",
    "    if money ==300:\n",
    "        print(\"커피를 드립니다.\")\n",
    "        coffee -= 1\n",
    "    elif money >300:\n",
    "        print(\"거스름돈은 %d입니다\"%(money-300))\n",
    "        coffee -= 1\n",
    "    else:\n",
    "        print(\"!!!!금액이 부족합니다.!!!!\")\n",
    "        print(\"남은 커피는 %d잔 입니다.\" %coffee)\n",
    "    if coffee ==0:\n",
    "        print(\"커피가 없어서 판매 중단합니다.\")\n",
    "        break"
   ]
  },
  {
   "cell_type": "code",
   "execution_count": 16,
   "id": "343f938c-7330-4241-8c76-20148a893589",
   "metadata": {},
   "outputs": [
    {
     "name": "stdout",
     "output_type": "stream",
     "text": [
      "1\n",
      "3\n",
      "5\n",
      "7\n",
      "9\n"
     ]
    }
   ],
   "source": [
    "# continue문 : while문의 맨 처음으로 돌아가기\n",
    "\n",
    "a = 0\n",
    "\n",
    "while a <10:\n",
    "    a +=1\n",
    "    if a%2 ==0: continue\n",
    "    print(a)"
   ]
  },
  {
   "cell_type": "code",
   "execution_count": null,
   "id": "030f6c14-b7c4-4286-a5fc-2dab589c5f35",
   "metadata": {},
   "outputs": [],
   "source": []
  }
 ],
 "metadata": {
  "kernelspec": {
   "display_name": "Python [conda env:base] *",
   "language": "python",
   "name": "conda-base-py"
  },
  "language_info": {
   "codemirror_mode": {
    "name": "ipython",
    "version": 3
   },
   "file_extension": ".py",
   "mimetype": "text/x-python",
   "name": "python",
   "nbconvert_exporter": "python",
   "pygments_lexer": "ipython3",
   "version": "3.13.5"
  }
 },
 "nbformat": 4,
 "nbformat_minor": 5
}
