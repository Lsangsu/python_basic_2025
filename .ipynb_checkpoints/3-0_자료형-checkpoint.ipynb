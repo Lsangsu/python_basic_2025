{
 "cells": [
  {
   "cell_type": "code",
   "execution_count": 1,
   "id": "fbd98fe1-c707-4337-bab9-939931dc8049",
   "metadata": {},
   "outputs": [
    {
     "name": "stdout",
     "output_type": "stream",
     "text": [
      "안녕하세안녕하세요\n"
     ]
    }
   ],
   "source": [
    "print(\"안녕하세요\\b안녕하세요\")"
   ]
  },
  {
   "cell_type": "code",
   "execution_count": 7,
   "id": "13613753-8c28-4e8f-b785-e9cd17f49e98",
   "metadata": {},
   "outputs": [
    {
     "data": {
      "text/plain": [
       "'i eat 29% asdf'"
      ]
     },
     "execution_count": 7,
     "metadata": {},
     "output_type": "execute_result"
    }
   ],
   "source": [
    "'i eat %d%% asdf' %29"
   ]
  },
  {
   "cell_type": "code",
   "execution_count": 8,
   "id": "09d23a95-6a40-4599-9950-c32fe706c925",
   "metadata": {},
   "outputs": [
    {
     "data": {
      "text/plain": [
       "'!!!hi'"
      ]
     },
     "execution_count": 8,
     "metadata": {},
     "output_type": "execute_result"
    }
   ],
   "source": [
    "\"{:!>5}\".format('hi')"
   ]
  },
  {
   "cell_type": "code",
   "execution_count": 13,
   "id": "6e922629-a3cd-4528-a876-2801557e0f69",
   "metadata": {},
   "outputs": [
    {
     "data": {
      "text/plain": [
       "'!!hi!!!'"
      ]
     },
     "execution_count": 13,
     "metadata": {},
     "output_type": "execute_result"
    }
   ],
   "source": [
    "\"{:!^7}\".format('hi')"
   ]
  },
  {
   "cell_type": "code",
   "execution_count": 14,
   "id": "bd428937-3d89-48dd-92c2-446c54677f39",
   "metadata": {},
   "outputs": [
    {
     "data": {
      "text/plain": [
       "set"
      ]
     },
     "execution_count": 14,
     "metadata": {},
     "output_type": "execute_result"
    }
   ],
   "source": [
    "d={1,2,3}\n",
    "type(d)"
   ]
  },
  {
   "cell_type": "code",
   "execution_count": 15,
   "id": "3637ffc8-0021-4d26-b059-6ad000ae2650",
   "metadata": {},
   "outputs": [
    {
     "ename": "TypeError",
     "evalue": "'set' object is not subscriptable",
     "output_type": "error",
     "traceback": [
      "\u001b[1;31m---------------------------------------------------------------------------\u001b[0m",
      "\u001b[1;31mTypeError\u001b[0m                                 Traceback (most recent call last)",
      "Cell \u001b[1;32mIn[15], line 1\u001b[0m\n\u001b[1;32m----> 1\u001b[0m d[\u001b[38;5;241m1\u001b[39m]\n",
      "\u001b[1;31mTypeError\u001b[0m: 'set' object is not subscriptable"
     ]
    }
   ],
   "source": [
    "d[1]"
   ]
  },
  {
   "cell_type": "code",
   "execution_count": 16,
   "id": "90df57ce-ac16-44c5-8b66-7fa67f72fda5",
   "metadata": {},
   "outputs": [
    {
     "data": {
      "text/plain": [
       "tuple"
      ]
     },
     "execution_count": 16,
     "metadata": {},
     "output_type": "execute_result"
    }
   ],
   "source": [
    "a=(1, 2, 3, 4)\n",
    "type(a)"
   ]
  },
  {
   "cell_type": "code",
   "execution_count": 19,
   "id": "a17b60b3-a93e-4c6b-979e-500e6f5a38a6",
   "metadata": {},
   "outputs": [
    {
     "ename": "TypeError",
     "evalue": "sequence item 0: expected str instance, int found",
     "output_type": "error",
     "traceback": [
      "\u001b[1;31m---------------------------------------------------------------------------\u001b[0m",
      "\u001b[1;31mTypeError\u001b[0m                                 Traceback (most recent call last)",
      "Cell \u001b[1;32mIn[19], line 1\u001b[0m\n\u001b[1;32m----> 1\u001b[0m \u001b[38;5;124m\"\u001b[39m\u001b[38;5;124m,\u001b[39m\u001b[38;5;124m\"\u001b[39m\u001b[38;5;241m.\u001b[39mjoin(a)\n",
      "\u001b[1;31mTypeError\u001b[0m: sequence item 0: expected str instance, int found"
     ]
    }
   ],
   "source": [
    "\",\".join(a)"
   ]
  },
  {
   "cell_type": "code",
   "execution_count": 20,
   "id": "21efcd52-f450-49b3-bc5c-2fd9b9cac393",
   "metadata": {},
   "outputs": [
    {
     "ename": "TypeError",
     "evalue": "sequence item 0: expected str instance, int found",
     "output_type": "error",
     "traceback": [
      "\u001b[1;31m---------------------------------------------------------------------------\u001b[0m",
      "\u001b[1;31mTypeError\u001b[0m                                 Traceback (most recent call last)",
      "Cell \u001b[1;32mIn[20], line 1\u001b[0m\n\u001b[1;32m----> 1\u001b[0m \u001b[38;5;124m\"\u001b[39m\u001b[38;5;124m,\u001b[39m\u001b[38;5;124m\"\u001b[39m\u001b[38;5;241m.\u001b[39mjoin([\u001b[38;5;241m1\u001b[39m, \u001b[38;5;241m2\u001b[39m, \u001b[38;5;241m3\u001b[39m])\n",
      "\u001b[1;31mTypeError\u001b[0m: sequence item 0: expected str instance, int found"
     ]
    }
   ],
   "source": [
    "\",\".join([1, 2, 3])"
   ]
  },
  {
   "cell_type": "code",
   "execution_count": 29,
   "id": "89f55f64-1187-4ccc-84d0-645120e2386d",
   "metadata": {},
   "outputs": [
    {
     "data": {
      "text/plain": [
       "str"
      ]
     },
     "execution_count": 29,
     "metadata": {},
     "output_type": "execute_result"
    }
   ],
   "source": [
    "list = [\"1\", \"2\", \"3\", \"4\"]\n",
    "type(\"a\".join(list))"
   ]
  },
  {
   "cell_type": "code",
   "execution_count": 30,
   "id": "bea102cf-0857-4314-b5f7-655f07808698",
   "metadata": {},
   "outputs": [
    {
     "data": {
      "text/plain": [
       "tuple"
      ]
     },
     "execution_count": 30,
     "metadata": {},
     "output_type": "execute_result"
    }
   ],
   "source": [
    "t4= 1,2,'3'\n",
    "type(t4)"
   ]
  },
  {
   "cell_type": "code",
   "execution_count": 31,
   "id": "1de015b2-f9d4-46af-847c-9c41dd3465e0",
   "metadata": {},
   "outputs": [
    {
     "data": {
      "text/plain": [
       "tuple"
      ]
     },
     "execution_count": 31,
     "metadata": {},
     "output_type": "execute_result"
    }
   ],
   "source": [
    "t3=1, 2, 3, 4\n",
    "type(t3)"
   ]
  },
  {
   "cell_type": "code",
   "execution_count": 32,
   "id": "eb4dfc1a-8230-42a7-b926-0e0c8fc5bdf7",
   "metadata": {},
   "outputs": [
    {
     "data": {
      "text/plain": [
       "(1, 2, 3, 4)"
      ]
     },
     "execution_count": 32,
     "metadata": {},
     "output_type": "execute_result"
    }
   ],
   "source": [
    "t3"
   ]
  },
  {
   "cell_type": "code",
   "execution_count": 46,
   "id": "e0e1cc7a-d85c-416d-a8d3-f315a9821457",
   "metadata": {},
   "outputs": [
    {
     "name": "stdout",
     "output_type": "stream",
     "text": [
      "{'name': 'lss', 'phone': '0000000', 'age': '000'}\n",
      "<class 'dict'>\n"
     ]
    }
   ],
   "source": [
    "d1 = {\"name\":\"lss\", \"phone\":\"0000000\", \"age\":\"000\"}\n",
    "print(d1)\n",
    "print(type(d1))"
   ]
  },
  {
   "cell_type": "code",
   "execution_count": 35,
   "id": "ad1e3e4a-2d81-44f0-acec-5a2d6cc6c557",
   "metadata": {},
   "outputs": [
    {
     "name": "stdout",
     "output_type": "stream",
     "text": [
      "내 이름은 lss입니다\n"
     ]
    }
   ],
   "source": [
    "print(f\"내 이름은 {d1[\"name\"]}입니다\")"
   ]
  },
  {
   "cell_type": "code",
   "execution_count": 49,
   "id": "ad78e4f0-009a-4f09-917e-fe2b84ac582a",
   "metadata": {},
   "outputs": [
    {
     "name": "stdout",
     "output_type": "stream",
     "text": [
      "dict_items([('name', 'lss'), ('phone', '0000000'), ('age', '000')])\n"
     ]
    }
   ],
   "source": [
    "print(d1.items())"
   ]
  },
  {
   "cell_type": "code",
   "execution_count": 50,
   "id": "49acd714-88b8-4d34-bf3c-e6b70f0d389d",
   "metadata": {},
   "outputs": [
    {
     "name": "stdout",
     "output_type": "stream",
     "text": [
      "dict_keys(['name', 'phone', 'age'])\n"
     ]
    }
   ],
   "source": [
    "print(d1.keys())"
   ]
  },
  {
   "cell_type": "code",
   "execution_count": 53,
   "id": "af6a70fc-7fcd-4dc2-b1ba-7518e78097b8",
   "metadata": {},
   "outputs": [
    {
     "ename": "TypeError",
     "evalue": "'list' object is not callable",
     "output_type": "error",
     "traceback": [
      "\u001b[1;31m---------------------------------------------------------------------------\u001b[0m",
      "\u001b[1;31mTypeError\u001b[0m                                 Traceback (most recent call last)",
      "Cell \u001b[1;32mIn[53], line 1\u001b[0m\n\u001b[1;32m----> 1\u001b[0m \u001b[38;5;28mlist\u001b[39m(d1\u001b[38;5;241m.\u001b[39mkeys())\n",
      "\u001b[1;31mTypeError\u001b[0m: 'list' object is not callable"
     ]
    }
   ],
   "source": [
    "list(d1.keys())"
   ]
  },
  {
   "cell_type": "code",
   "execution_count": 67,
   "id": "556afe48-2989-46d7-857d-305da62725b2",
   "metadata": {},
   "outputs": [],
   "source": [
    "del list\n",
    "a = {'name': 'pey', 'phone': '010-9999-1234', 'birth': '1118'}"
   ]
  },
  {
   "cell_type": "code",
   "execution_count": 68,
   "id": "a8edaaca-6d7f-4f70-80ac-3473fc876e47",
   "metadata": {},
   "outputs": [
    {
     "data": {
      "text/plain": [
       "dict_keys(['name', 'phone', 'birth'])"
      ]
     },
     "execution_count": 68,
     "metadata": {},
     "output_type": "execute_result"
    }
   ],
   "source": [
    "a.keys()"
   ]
  },
  {
   "cell_type": "code",
   "execution_count": 69,
   "id": "f6289b4e-dba6-4fd5-a6a8-7a26f2238620",
   "metadata": {},
   "outputs": [
    {
     "name": "stdout",
     "output_type": "stream",
     "text": [
      "name\n",
      "phone\n",
      "birth\n"
     ]
    }
   ],
   "source": [
    "for k in a.keys():\n",
    "    print(k)"
   ]
  },
  {
   "cell_type": "code",
   "execution_count": 71,
   "id": "65f22926-c419-4ead-9b14-33f32f281803",
   "metadata": {},
   "outputs": [
    {
     "name": "stdout",
     "output_type": "stream",
     "text": [
      "['name', 'phone', 'birth']\n"
     ]
    }
   ],
   "source": [
    "b=list(a.keys())\n",
    "\n",
    "print(b)"
   ]
  }
 ],
 "metadata": {
  "kernelspec": {
   "display_name": "Python [conda env:base] *",
   "language": "python",
   "name": "conda-base-py"
  },
  "language_info": {
   "codemirror_mode": {
    "name": "ipython",
    "version": 3
   },
   "file_extension": ".py",
   "mimetype": "text/x-python",
   "name": "python",
   "nbconvert_exporter": "python",
   "pygments_lexer": "ipython3",
   "version": "3.13.5"
  }
 },
 "nbformat": 4,
 "nbformat_minor": 5
}
