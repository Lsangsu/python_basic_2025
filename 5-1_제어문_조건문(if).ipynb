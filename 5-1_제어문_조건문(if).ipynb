{
 "cells": [
  {
   "cell_type": "markdown",
   "id": "76762468-ccb3-4fce-b051-8d17f694b865",
   "metadata": {},
   "source": [
    "# 5-1 제어문-조건문(if)"
   ]
  },
  {
   "cell_type": "markdown",
   "id": "00db7c09-bc86-4ddb-8566-bd1b8356f216",
   "metadata": {
    "jp-MarkdownHeadingCollapsed": true
   },
   "source": [
    "## if문의 기본 구조"
   ]
  },
  {
   "cell_type": "code",
   "execution_count": 3,
   "id": "34855a64-b776-4fd4-aabf-5f7dbd7dbd70",
   "metadata": {},
   "outputs": [
    {
     "ename": "IndentationError",
     "evalue": "unexpected indent (1754438839.py, line 6)",
     "output_type": "error",
     "traceback": [
      "\u001b[1;36m  Cell \u001b[1;32mIn[3], line 6\u001b[1;36m\u001b[0m\n\u001b[1;33m    print(\"가라\")\u001b[0m\n\u001b[1;37m    ^\u001b[0m\n\u001b[1;31mIndentationError\u001b[0m\u001b[1;31m:\u001b[0m unexpected indent\n"
     ]
    }
   ],
   "source": [
    "money = True   #들여쓰기를 하지 않는다면 if문 구조내의 요소가 아닌것으로 판단\n",
    "\n",
    "if money:\n",
    "    print(\"택시를 \")\n",
    "print(\"타고\")\n",
    "    print(\"가라\")"
   ]
  },
  {
   "cell_type": "code",
   "execution_count": 4,
   "id": "bfb2012d-fe64-4d0f-90ec-ae81c353e5a7",
   "metadata": {},
   "outputs": [
    {
     "name": "stdout",
     "output_type": "stream",
     "text": [
      "타고\n"
     ]
    }
   ],
   "source": [
    "money = False\n",
    "\n",
    "if money:\n",
    "    print(\"택시를 \")\n",
    "print(\"타고\")"
   ]
  },
  {
   "cell_type": "code",
   "execution_count": 5,
   "id": "7a03a11f-f375-4607-b7c1-0dbe53b3fb9d",
   "metadata": {},
   "outputs": [
    {
     "name": "stdout",
     "output_type": "stream",
     "text": [
      "택시를 \n",
      "타고\n",
      "가라\n"
     ]
    }
   ],
   "source": [
    "money = True\n",
    "\n",
    "if money:\n",
    "    print(\"택시를 \")\n",
    "    print(\"타고\")\n",
    "    print(\"가라\")"
   ]
  },
  {
   "cell_type": "markdown",
   "id": "7e213c7e-b379-4fa4-9727-67db05ad1c07",
   "metadata": {
    "jp-MarkdownHeadingCollapsed": true
   },
   "source": [
    "## 연산자"
   ]
  },
  {
   "cell_type": "code",
   "execution_count": 6,
   "id": "a6658bd7-190e-4c67-8d29-01ba73ac5a3e",
   "metadata": {},
   "outputs": [
    {
     "name": "stdout",
     "output_type": "stream",
     "text": [
      "False\n",
      "True\n",
      "False\n",
      "True\n",
      "False\n",
      "True\n"
     ]
    }
   ],
   "source": [
    "x = 3\n",
    "y = 2\n",
    "\n",
    "print(x<y)                   #False\n",
    "print(x>y)                   #True\n",
    "print(x==y)                  #False\n",
    "print(x!=y)                  #True\n",
    "print(x<=y)                  #False\n",
    "print(x>=y)                  #True"
   ]
  },
  {
   "cell_type": "code",
   "execution_count": 7,
   "id": "86327846-63ab-4f82-b164-c5535f31d1ed",
   "metadata": {},
   "outputs": [
    {
     "name": "stdout",
     "output_type": "stream",
     "text": [
      "걸어가라\n"
     ]
    }
   ],
   "source": [
    "money = 2000\n",
    "\n",
    "if money >=3000:\n",
    "    print(\"택시를 타고 가라\")\n",
    "else:\n",
    "    print(\"걸어가라\")"
   ]
  },
  {
   "cell_type": "code",
   "execution_count": 8,
   "id": "840d30d7-e338-4893-92be-414a067f2bbc",
   "metadata": {},
   "outputs": [
    {
     "name": "stdout",
     "output_type": "stream",
     "text": [
      "택시를 타고 가라\n"
     ]
    }
   ],
   "source": [
    "# 논리 연산자\n",
    "# 조건식 x, y  => and   둘다 True일 때 True\n",
    "#                  or   하나라도 True일 때 True\n",
    "#                 not   True면 Flase / False면 True\n",
    "\n",
    "money = 2000\n",
    "card = True\n",
    "\n",
    "if money >=3000 or card:\n",
    "    print(\"택시를 타고 가라\")\n",
    "else:\n",
    "    print(\"걸어가라\")"
   ]
  },
  {
   "cell_type": "code",
   "execution_count": 14,
   "id": "cf4a1005-673b-4d4b-8c12-cdc5bfacb376",
   "metadata": {},
   "outputs": [
    {
     "name": "stdout",
     "output_type": "stream",
     "text": [
      "True\n",
      "False\n",
      "True\n",
      "False\n"
     ]
    }
   ],
   "source": [
    "# in / not in    (리스트, 튜플, 문자열 가능)\n",
    "\n",
    "print(1 in [1, 2, 3])\n",
    "print(1 not in [1, 2, 3])\n",
    "\n",
    "print('a' in ('a', 'b', 'c'))\n",
    "\n",
    "print('i' in 'python')"
   ]
  },
  {
   "cell_type": "code",
   "execution_count": 13,
   "id": "46d327ff-c7bf-4cec-b4ff-760471b50974",
   "metadata": {},
   "outputs": [
    {
     "name": "stdout",
     "output_type": "stream",
     "text": [
      "택시를 타고 가라\n"
     ]
    }
   ],
   "source": [
    "poket = ['paper', 'cellphone', 'money']\n",
    "\n",
    "if 'money' in poket:\n",
    "    print(\"택시를 타고 가라\")\n",
    "else:\n",
    "    print(\"걸어가라\")"
   ]
  },
  {
   "cell_type": "code",
   "execution_count": 17,
   "id": "a086bab0-ef9b-40d1-95f7-addaf3cb1252",
   "metadata": {},
   "outputs": [],
   "source": [
    "# pass : 조건문에 해당하는 실행문 실행하지 않고 넘어가기\n",
    "\n",
    "poket = ['paper', 'cellphone', 'money']\n",
    "\n",
    "if 'money' in poket:\n",
    "    pass\n",
    "else:\n",
    "    print(\"카드를 꺼내라\")"
   ]
  },
  {
   "cell_type": "markdown",
   "id": "78b855ea-feff-48ec-8f86-c4e2e9e9f1aa",
   "metadata": {},
   "source": [
    "## 다양한 조건을 판단하는 elif"
   ]
  },
  {
   "cell_type": "code",
   "execution_count": 18,
   "id": "6aad5ba7-6296-45a3-a504-3fe501b60b93",
   "metadata": {},
   "outputs": [
    {
     "name": "stdout",
     "output_type": "stream",
     "text": [
      "카드를 꺼내라\n"
     ]
    }
   ],
   "source": [
    "# if, else만으로 표현\n",
    "\n",
    "poket = ['paper', 'cellphone']\n",
    "card = True\n",
    "\n",
    "if 'money' in poket:\n",
    "    print(\"택시를 타고가라\")\n",
    "else:\n",
    "    if card:\n",
    "        print(\"카드를 꺼내라\")\n",
    "    else:\n",
    "        print(\"걸어가라\")"
   ]
  },
  {
   "cell_type": "code",
   "execution_count": 19,
   "id": "f4da6ae4-fe17-4b90-ba6a-ffec63297b5f",
   "metadata": {},
   "outputs": [
    {
     "name": "stdout",
     "output_type": "stream",
     "text": [
      "카드를 꺼내라\n"
     ]
    }
   ],
   "source": [
    "# elif 사용\n",
    "\n",
    "poket = ['paper', 'cellphone']\n",
    "card = True\n",
    "\n",
    "if 'money' in poket:\n",
    "    print(\"택시를 타고가라\")\n",
    "elif card:\n",
    "    print(\"카드를 꺼내라\")\n",
    "else:\n",
    "    print(\"걸어가라\")"
   ]
  },
  {
   "cell_type": "code",
   "execution_count": 23,
   "id": "689fc7d9-5fc9-4479-93c3-1050bc8bd94f",
   "metadata": {},
   "outputs": [
    {
     "name": "stdout",
     "output_type": "stream",
     "text": [
      "D\n"
     ]
    }
   ],
   "source": [
    "math = 60\n",
    "\n",
    "if math >=90:\n",
    "    print(\"A\")\n",
    "elif math >=80:\n",
    "    print(\"B\")\n",
    "elif math >=70:\n",
    "    print(\"C\")\n",
    "elif math >=60:\n",
    "    print(\"D\")\n",
    "else:\n",
    "    print(\"F\")"
   ]
  },
  {
   "cell_type": "code",
   "execution_count": 21,
   "id": "990cc970-9f2a-47ca-9a3e-afd34b0ed081",
   "metadata": {},
   "outputs": [
    {
     "name": "stdout",
     "output_type": "stream",
     "text": [
      "택시를 타고가라\n"
     ]
    }
   ],
   "source": [
    "# if문 한줄로 작성하기\n",
    "\n",
    "poket = ['paper', 'cellphone', 'money']\n",
    "\n",
    "if 'money' in poket: print(\"택시를 타고가라\")\n",
    "else: print(\"카드를 꺼내라\")"
   ]
  },
  {
   "cell_type": "markdown",
   "id": "dca80837-ab40-45d9-954d-8f5fbf36ca32",
   "metadata": {},
   "source": [
    "## 조건부 표현식"
   ]
  },
  {
   "cell_type": "code",
   "execution_count": 24,
   "id": "ea46f301-73f8-435c-be85-4f96cd31fcaf",
   "metadata": {},
   "outputs": [
    {
     "name": "stdout",
     "output_type": "stream",
     "text": [
      "Success\n"
     ]
    }
   ],
   "source": [
    "# if , else로 포현\n",
    "\n",
    "score = 70\n",
    "\n",
    "if score >=60:\n",
    "    message=\"Success\"\n",
    "else:\n",
    "    message=\"Failure\"\n",
    "\n",
    "print(message)"
   ]
  },
  {
   "cell_type": "code",
   "execution_count": 28,
   "id": "7258bc34-bbdb-4df6-a954-8b6d26f00feb",
   "metadata": {},
   "outputs": [
    {
     "name": "stdout",
     "output_type": "stream",
     "text": [
      "Success\n"
     ]
    }
   ],
   "source": [
    "# 조건부 표현식\n",
    "\n",
    "message = \"Success\" if score >=60 else \"Failure\"\n",
    "\n",
    "print(message)"
   ]
  },
  {
   "cell_type": "code",
   "execution_count": null,
   "id": "8a1f6088-e62c-48b2-9fa6-28d8c665a628",
   "metadata": {},
   "outputs": [],
   "source": []
  }
 ],
 "metadata": {
  "kernelspec": {
   "display_name": "Python [conda env:base] *",
   "language": "python",
   "name": "conda-base-py"
  },
  "language_info": {
   "codemirror_mode": {
    "name": "ipython",
    "version": 3
   },
   "file_extension": ".py",
   "mimetype": "text/x-python",
   "name": "python",
   "nbconvert_exporter": "python",
   "pygments_lexer": "ipython3",
   "version": "3.13.5"
  }
 },
 "nbformat": 4,
 "nbformat_minor": 5
}
