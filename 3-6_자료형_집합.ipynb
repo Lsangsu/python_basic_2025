{
 "cells": [
  {
   "cell_type": "markdown",
   "id": "502604f5-869f-45e7-993e-ee79570af407",
   "metadata": {},
   "source": [
    "## 3-6 자료형-집합"
   ]
  },
  {
   "cell_type": "markdown",
   "id": "6fd00992-e0b2-4693-a8e7-9ea086150d3d",
   "metadata": {},
   "source": [
    "### 집합은 어떻게 만들까?"
   ]
  },
  {
   "cell_type": "code",
   "execution_count": 1,
   "id": "7b18113e-1cf6-4ab6-b235-1dac2b1d4ec7",
   "metadata": {},
   "outputs": [
    {
     "data": {
      "text/plain": [
       "{1, 2, 3}"
      ]
     },
     "execution_count": 1,
     "metadata": {},
     "output_type": "execute_result"
    }
   ],
   "source": [
    "s1 = set([1, 2, 3])\n",
    "s1"
   ]
  },
  {
   "cell_type": "code",
   "execution_count": 2,
   "id": "edf85615-4532-4b11-a4bd-bdf204cc8c59",
   "metadata": {},
   "outputs": [
    {
     "data": {
      "text/plain": [
       "set"
      ]
     },
     "execution_count": 2,
     "metadata": {},
     "output_type": "execute_result"
    }
   ],
   "source": [
    "type(s1)"
   ]
  },
  {
   "cell_type": "code",
   "execution_count": 4,
   "id": "86e5c7e6-abab-4a1c-b3cd-135e4d3c1533",
   "metadata": {},
   "outputs": [
    {
     "data": {
      "text/plain": [
       "{'e', 'h', 'l', 'o'}"
      ]
     },
     "execution_count": 4,
     "metadata": {},
     "output_type": "execute_result"
    }
   ],
   "source": [
    "s2 = set('hello')   # 중복된 항목 제거 / 순서가 없음\n",
    "s2"
   ]
  },
  {
   "cell_type": "code",
   "execution_count": 10,
   "id": "61b07768-f21a-4a8e-8f0e-2c77d183776d",
   "metadata": {},
   "outputs": [
    {
     "name": "stdout",
     "output_type": "stream",
     "text": [
      "[1, 2, 3]\n",
      "<class 'list'>\n",
      "2\n"
     ]
    }
   ],
   "source": [
    "l1 = list(s1)\n",
    "print(l1)\n",
    "print(type(l1))\n",
    "print(l1[1])"
   ]
  },
  {
   "cell_type": "code",
   "execution_count": 9,
   "id": "a32427d1-9f2e-476a-9098-c7475e90deb3",
   "metadata": {},
   "outputs": [
    {
     "name": "stdout",
     "output_type": "stream",
     "text": [
      "(1, 2, 3)\n",
      "<class 'tuple'>\n",
      "1\n"
     ]
    }
   ],
   "source": [
    "t1 = tuple(s1)\n",
    "print(t1)\n",
    "print(type(t1))\n",
    "print(t1[0])"
   ]
  },
  {
   "cell_type": "code",
   "execution_count": 12,
   "id": "fcd88fb6-a316-453a-91c3-0a77f3dbd467",
   "metadata": {},
   "outputs": [
    {
     "ename": "TypeError",
     "evalue": "'set' object is not subscriptable",
     "output_type": "error",
     "traceback": [
      "\u001b[1;31m---------------------------------------------------------------------------\u001b[0m",
      "\u001b[1;31mTypeError\u001b[0m                                 Traceback (most recent call last)",
      "Cell \u001b[1;32mIn[12], line 1\u001b[0m\n\u001b[1;32m----> 1\u001b[0m s1[\u001b[38;5;241m0\u001b[39m]\n",
      "\u001b[1;31mTypeError\u001b[0m: 'set' object is not subscriptable"
     ]
    }
   ],
   "source": [
    "s1[0]   # 인덱싱을 하기위해서는 집합을 list / tuple 변환 후 실시해야함"
   ]
  },
  {
   "cell_type": "markdown",
   "id": "9b0a4162-6a09-4c1b-9eea-2bf55c46841a",
   "metadata": {},
   "source": [
    "### 교집합, 합집합, 차집합 구하기"
   ]
  },
  {
   "cell_type": "code",
   "execution_count": 13,
   "id": "fadb8be8-ef7a-49bc-a753-5a3210dd731b",
   "metadata": {},
   "outputs": [],
   "source": [
    "s1 = set([1, 2, 3, 4, 5, 6])\n",
    "s2 = set([4, 5, 6, 7, 8, 9])"
   ]
  },
  {
   "cell_type": "code",
   "execution_count": 14,
   "id": "0f91b96c-2a09-4472-a0cf-76604ff69568",
   "metadata": {},
   "outputs": [
    {
     "name": "stdout",
     "output_type": "stream",
     "text": [
      "{4, 5, 6}\n",
      "{4, 5, 6}\n"
     ]
    }
   ],
   "source": [
    "# 교집합 : '&' / intersection()\n",
    "\n",
    "print(s1&s2)\n",
    "print(s1.intersection(s2))"
   ]
  },
  {
   "cell_type": "code",
   "execution_count": 18,
   "id": "f5cf2f74-49d1-4e0d-ae96-c02791bc45d3",
   "metadata": {},
   "outputs": [
    {
     "name": "stdout",
     "output_type": "stream",
     "text": [
      "{1, 2, 3, 4, 5, 6, 7, 8, 9}\n",
      "{1, 2, 3, 4, 5, 6, 7, 8, 9}\n"
     ]
    }
   ],
   "source": [
    "# 합집합 : '|'(shift+\\) / union()\n",
    "\n",
    "print(s1|s2)\n",
    "print(s2.union(s1))"
   ]
  },
  {
   "cell_type": "code",
   "execution_count": 19,
   "id": "9d169045-380b-457f-a3a4-8818dd44494d",
   "metadata": {},
   "outputs": [
    {
     "name": "stdout",
     "output_type": "stream",
     "text": [
      "{1, 2, 3}\n",
      "{8, 9, 7}\n"
     ]
    }
   ],
   "source": [
    "# 차집합 : '-' / difference()\n",
    "\n",
    "print(s1-s2)\n",
    "print(s2.difference(s1))"
   ]
  },
  {
   "cell_type": "markdown",
   "id": "b29cbb61-a4d3-42cc-94cb-4e4c464e2916",
   "metadata": {},
   "source": [
    "### 집합 관련 함수"
   ]
  },
  {
   "cell_type": "code",
   "execution_count": 22,
   "id": "56682ca7-aba5-44f7-b690-ca57d4e0c318",
   "metadata": {},
   "outputs": [
    {
     "name": "stdout",
     "output_type": "stream",
     "text": [
      "{1, 2, 3}\n",
      "{1, 2, 3, 4}\n"
     ]
    }
   ],
   "source": [
    "# add() : 값 1개 추가\n",
    "\n",
    "s1 = set([1, 2, 3])\n",
    "print(s1)\n",
    "\n",
    "s1.add(4)\n",
    "print(s1)"
   ]
  },
  {
   "cell_type": "code",
   "execution_count": 26,
   "id": "8b0d24e2-85d7-46de-ad7b-33e09e22a2c4",
   "metadata": {},
   "outputs": [
    {
     "data": {
      "text/plain": [
       "{1, 2, 3, 4, 5, 6}"
      ]
     },
     "execution_count": 26,
     "metadata": {},
     "output_type": "execute_result"
    }
   ],
   "source": [
    "# update() : 값 여러개 추가하기\n",
    "\n",
    "s1.update([4, 5, 6])\n",
    "s1"
   ]
  },
  {
   "cell_type": "code",
   "execution_count": 27,
   "id": "6dc04a04-cf00-4c8d-866e-2dd2af3c61df",
   "metadata": {},
   "outputs": [
    {
     "data": {
      "text/plain": [
       "{1, 2, 4, 5, 6}"
      ]
     },
     "execution_count": 27,
     "metadata": {},
     "output_type": "execute_result"
    }
   ],
   "source": [
    "# remove() : 특정 값 제거\n",
    "\n",
    "s1.remove(3)\n",
    "s1"
   ]
  },
  {
   "cell_type": "code",
   "execution_count": null,
   "id": "ce687912-445f-4181-97f7-4cda3748b38f",
   "metadata": {},
   "outputs": [],
   "source": []
  }
 ],
 "metadata": {
  "kernelspec": {
   "display_name": "Python [conda env:base] *",
   "language": "python",
   "name": "conda-base-py"
  },
  "language_info": {
   "codemirror_mode": {
    "name": "ipython",
    "version": 3
   },
   "file_extension": ".py",
   "mimetype": "text/x-python",
   "name": "python",
   "nbconvert_exporter": "python",
   "pygments_lexer": "ipython3",
   "version": "3.13.5"
  }
 },
 "nbformat": 4,
 "nbformat_minor": 5
}
